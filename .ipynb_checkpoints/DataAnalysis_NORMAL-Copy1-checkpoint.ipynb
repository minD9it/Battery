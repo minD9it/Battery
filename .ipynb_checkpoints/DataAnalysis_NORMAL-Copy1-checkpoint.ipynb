{
 "cells": [
  {
   "cell_type": "code",
   "execution_count": 1,
   "metadata": {},
   "outputs": [],
   "source": [
    "import numpy as np\n",
    "import pandas as pd\n",
    "import matplotlib.pyplot as plt\n",
    "\n",
    "import datetime as dt\n",
    "from dateutil.parser import parse\n",
    "from datetime import timedelta\n",
    "from tqdm import tqdm"
   ]
  },
  {
   "cell_type": "markdown",
   "metadata": {},
   "source": [
    "### 데이터 불러오기"
   ]
  },
  {
   "cell_type": "code",
   "execution_count": 73,
   "metadata": {
    "scrolled": false
   },
   "outputs": [],
   "source": [
    "data = pd.read_csv(\"data/0mA(19s)~80mA(1s)_NORMAL+EDLC.csv\").iloc[:, :3]"
   ]
  },
  {
   "cell_type": "markdown",
   "metadata": {},
   "source": [
    "### 기준 전압 인덱스 구하기"
   ]
  },
  {
   "cell_type": "code",
   "execution_count": 74,
   "metadata": {},
   "outputs": [],
   "source": [
    "comm_A = np.where(data['Current(A)'] > 0.070) #통신 전류 인덱스 찾기"
   ]
  },
  {
   "cell_type": "code",
   "execution_count": 75,
   "metadata": {},
   "outputs": [
    {
     "name": "stdout",
     "output_type": "stream",
     "text": [
      "true\n"
     ]
    }
   ],
   "source": [
    "# 전압이 2V 이하인 통신 전류 데이터 인덱스가 없는 경우\n",
    "if len(np.where(data['Voltage(V)'] < 2.000)[0]) == 0:\n",
    "    print(\"false\")\n",
    "    comm_ = np.array(comm_A[0]) #comm_A[0]의 type이 tuple이기 때문에\n",
    "    comm_ = np.array(comm_)\n",
    "\n",
    "# 전압이 2V 이하인 통신 전류 데이터 인덱스가 있는 경우\n",
    "else:\n",
    "    print(\"true\")\n",
    "    comm_V_ = np.where(data['Voltage(V)'] < 2.000) #2v가 넘는 곳의 인덱스\n",
    "    comm_V = np.array(comm_V_[0])\n",
    "    comm_ = comm_A\n",
    "\n",
    "    for i in comm_V:\n",
    "        comm_ = np.delete(comm_, np.where(comm_ == i))\n",
    "\n",
    "    comm_ = np.array(comm_)"
   ]
  },
  {
   "cell_type": "markdown",
   "metadata": {},
   "source": [
    "#### 통신 전류 시작 인덱스 하나만"
   ]
  },
  {
   "cell_type": "code",
   "execution_count": 76,
   "metadata": {},
   "outputs": [],
   "source": [
    "#첫 번째 인덱스는 넣어두고 시작\n",
    "comm = np.array(comm_[0])\n",
    "\n",
    "for idx in range(int(len(comm_))-1):\n",
    "    #현재 값+1과 다음값이 같지 않으면 연속된 숫자가 아니라는 것으로 추가함\n",
    "    if comm_[idx]+1 != comm_[idx+1]:\n",
    "        comm = np.append(comm, comm_[idx+1])"
   ]
  },
  {
   "cell_type": "markdown",
   "metadata": {},
   "source": [
    "#### 기준 전압은 통신 시작 전류 인덱스 바로 전"
   ]
  },
  {
   "cell_type": "code",
   "execution_count": 77,
   "metadata": {
    "scrolled": true
   },
   "outputs": [],
   "source": [
    "t_crit = comm - 1"
   ]
  },
  {
   "cell_type": "markdown",
   "metadata": {},
   "source": [
    "#### 인덱스 조정: 전압이 떨어지는 순간부터\n",
    "- 전류는 통신 전류가 아닌데 전압이 떨어지는 순간이 있는데 그렇게 되면 전압 변화율이 이상하게 계산됨"
   ]
  },
  {
   "cell_type": "code",
   "execution_count": 78,
   "metadata": {
    "scrolled": true
   },
   "outputs": [
    {
     "name": "stderr",
     "output_type": "stream",
     "text": [
      "100%|██████████████████████████████████████████████████████████████████████████| 21198/21198 [00:02<00:00, 8989.22it/s]\n"
     ]
    }
   ],
   "source": [
    "#최종 기준 전압 인덱스가 저장되는 배열\n",
    "ref = np.array([], dtype=int)\n",
    "\n",
    "\n",
    "for t in tqdm(t_crit):\n",
    "    tmp = t  #t_crit에서 가져오는 각 인덱스들\n",
    "    \n",
    "    for i in range(1, 5): #4번 loop\n",
    "        #전압(+): t < t-1\n",
    "        if (data['Voltage(V)'][tmp] < data['Voltage(V)'][t-i]):\n",
    "            #t-1 > t-2 => 인덱스 변경: t-i\n",
    "            if data['Voltage(V)'][t-i] >= data['Voltage(V)'][t-i-1]: #이전 이전의 전압이 더 작으면\n",
    "                tmp = t-i\n",
    "                break\n",
    "            else: #인덱스 옮기면서 계속 찾기\n",
    "                tmp = t- i\n",
    "        #전압 (-), 전류 (+) => 인덱스 변경: t-i\n",
    "        elif (data['Voltage(V)'][tmp] > data['Voltage(V)'][t-i]) and (data['Current(A)'][tmp] < data['Current(A)'][t-i]) and (data['Current(A)'][tmp] != 0.0000) and (data['Current(A)'][t-i] > 0.070):\n",
    "            tmp = t-i\n",
    "        #전압(-) => 인덱스 유지\n",
    "        elif data['Voltage(V)'][tmp] > data['Voltage(V)'][t-i]:\n",
    "            break\n",
    "        #전압이 같음: t == t-1\n",
    "        elif data['Voltage(V)'][tmp] == data['Voltage(V)'][t-i]:\n",
    "            #t-1 < t-2 => 인덱스 변경: t-i-1\n",
    "            if data['Voltage(V)'][t-i] < data['Voltage(V)'][t-i-1]:\n",
    "                tmp = t-i-1\n",
    "                break\n",
    "            \n",
    "    ref = np.append(ref, tmp)\n",
    "            \n",
    "#중간에 값이 겹치는 부분이 있을 수 있음 -> 중복되는 값 제거\n",
    "ref = np.unique(ref)"
   ]
  },
  {
   "cell_type": "markdown",
   "metadata": {},
   "source": [
    "### 전압 회복 시간, 전압 변화율, 전압(기준 전압, 회복 전압)을 확인하기 위함\n",
    "- recovery_time [[기준 전압 시각, 회복 전압 시각]]\n",
    "- recovery_rate [[최대 전압 변화율, 회복 전압 변화율]]\n",
    "- recovery_volt [[기준 전압, 통신 중 최소 전압, 회복 전압]]\n",
    "- crit = 회복 전압으로 보는 기준 전압 변화율\n",
    "- np.delete()하는 이유는 처음에 np.zeros(())로 만들었기 때문에 제일 처음에 0 값이 들어가 있음\n",
    "    - np.empty(())를 사용하면 쓰레기 값이 들어가 있음 (어차피 같음)"
   ]
  },
  {
   "cell_type": "code",
   "execution_count": null,
   "metadata": {},
   "outputs": [
    {
     "name": "stderr",
     "output_type": "stream",
     "text": [
      " 83%|██████████████████████████████████████████████████████████████▏            | 17570/21198 [00:33<00:09, 391.52it/s]"
     ]
    }
   ],
   "source": [
    "recovery_time=np.zeros((1,2)) #통신 전, 회복(crit) 시간\n",
    "recovery_rate=np.zeros((1,2), dtype=int) #통신(최대), crit(0.5 or smaller)\n",
    "# recovery_volt=np.zeros((1,3), dtype=int) #통신전, 통신(최소), 회복\n",
    "index = np.zeros((1,2))\n",
    "\n",
    "crit = 0.50\n",
    "\n",
    "for _, i in enumerate(tqdm(ref)): #기준 전압 인덱스가 i\n",
    "    \n",
    "    r = np.array([]) #전압 변화율은 최댓값을 구해야 함\n",
    "#     v = np.array([]) #전압 값은 최솟값을 구해야 함\n",
    "    \n",
    "    for j in range(1, int(len(data['Voltage(V)']))): #기준 전압 인덱스와 그 다음 인덱스부터 비교해야 하기 때문에 1부터 시작\n",
    "        \n",
    "        rate = (data['Voltage(V)'][i] - data['Voltage(V)'][i+j])/data['Voltage(V)'][i] * 100 #(기준전압 - 현재전압)/기준전압 *100\n",
    "        r = np.append(r, np.array([rate])) #배열에 위에서 구한 전압 변화율 추가\n",
    "#         v = np.append(v, np.array([data['Voltage(V)'][i+j]])) #배열에 현재 전압값 추가\n",
    "\n",
    "        #회복 전압이면 반복을 멈추고 각 배열에 요소 추가\n",
    "        # 1. 현재 전압 < 다음 전압 && 2. 다음 전류가 0.020보다 작을 때 && 3. 현재 전압 변화율 <= 기준 전압 변화율 && 4. 전압 변화율 != 0\n",
    "        if (data['Voltage(V)'][i+j] < data['Voltage(V)'][i+j+1]) and (data['Current(A)'][i+j+1] < 0.020) and (rate <= crit) and (rate != 0.0000):\n",
    "            #전압 변화율 추가(최대 전압 변화율(최저 전압), 현재 전압 변화율)\n",
    "            recovery_rate = np.append(recovery_rate, np.array([np.max(r), rate]).reshape(1,2), axis=0)\n",
    "            #전압 회복 시간(기준 전압 시간, 회복 전압 시간)\n",
    "            recovery_time = np.append(recovery_time, np.array([data['Time'][i], data['Time'][i+j]]).reshape(1,2), axis=0)\n",
    "            #전압(기준 전압, 최저 전압, 회복 전압)\n",
    "#             recovery_volt = np.append(recovery_volt, np.array([data['Voltage(V)'][i], np.min(v), data['Voltage(V)'][i+j]]).reshape(1,3), axis=0)\n",
    "\n",
    "            index = np.append(index, np.array([i, (i+j)]).reshape(1,2), axis=0)\n",
    "            break\n",
    "            \n",
    "recovery_rate = np.delete(recovery_rate, 0, 0)\n",
    "recovery_time = np.delete(recovery_time, 0, 0)\n",
    "# recovery_volt = np.delete(recovery_volt, 0, 0)\n",
    "index = np.delete(index, 0, 0)"
   ]
  },
  {
   "cell_type": "markdown",
   "metadata": {},
   "source": [
    "### 시간을 timedelt로 변환하기 위함\n",
    "- 전압 회복 시간을 구하기 위해서 timedelt로 변환해야 계산 가능"
   ]
  },
  {
   "cell_type": "code",
   "execution_count": null,
   "metadata": {},
   "outputs": [],
   "source": [
    "date_=[] #replace korean to english\n",
    "\n",
    "for i in recovery_time.flatten():\n",
    "    i = i.replace(\"오전\", \"AM\")\n",
    "    i = i.replace(\"오후\", \"PM\")\n",
    "    date_.append(i)\n",
    "    \n",
    "date__=[] #split blank\n",
    "\n",
    "for i in date_:\n",
    "    date__.append(i.split(\" \"))\n",
    "    \n",
    "date___=[] #switch index\n",
    "\n",
    "for i in date__: #위치 변경\n",
    "    tmp = i[1] \n",
    "    i[1] = i[2]\n",
    "    i[2] = tmp\n",
    "    date___.append(i)\n",
    "    \n",
    "parsing_date=[]\n",
    "\n",
    "for i in tqdm(date___):\n",
    "    #print('parsing: ', i, \"=\", (\" \").join(i))\n",
    "    dt = parse((\" \").join(i)) #list to string\n",
    "    #print(dt)\n",
    "    #print()\n",
    "    parsing_date.append(dt)\n",
    "    \n",
    "recovery_time = np.array(parsing_date).reshape(recovery_time.shape[0], 2)"
   ]
  },
  {
   "cell_type": "markdown",
   "metadata": {},
   "source": [
    "### 그래프를 그려 변화 확인"
   ]
  },
  {
   "cell_type": "markdown",
   "metadata": {},
   "source": [
    "*normal+EDLC*"
   ]
  },
  {
   "cell_type": "code",
   "execution_count": null,
   "metadata": {
    "scrolled": false
   },
   "outputs": [],
   "source": [
    "plt.plot(np.max(recovery_rate[:], axis=1))"
   ]
  },
  {
   "cell_type": "code",
   "execution_count": null,
   "metadata": {
    "scrolled": true
   },
   "outputs": [],
   "source": [
    "plt.plot(data['Voltage(V)'][:])"
   ]
  },
  {
   "cell_type": "markdown",
   "metadata": {},
   "source": [
    "*normal_30mA*"
   ]
  },
  {
   "cell_type": "code",
   "execution_count": 62,
   "metadata": {
    "scrolled": true
   },
   "outputs": [
    {
     "data": {
      "text/plain": [
       "[<matplotlib.lines.Line2D at 0x2a6944cccc8>]"
      ]
     },
     "execution_count": 62,
     "metadata": {},
     "output_type": "execute_result"
    },
    {
     "data": {
      "image/png": "[encoded data removed]",
      "text/plain": [
       "<Figure size 432x288 with 1 Axes>"
      ]
     },
     "metadata": {
      "needs_background": "light"
     },
     "output_type": "display_data"
    }
   ],
   "source": [
    "plt.plot(np.max(recovery_rate[:], axis=1))"
   ]
  },
  {
   "cell_type": "code",
   "execution_count": 63,
   "metadata": {
    "scrolled": true
   },
   "outputs": [
    {
     "data": {
      "text/plain": [
       "[<matplotlib.lines.Line2D at 0x2a693b8ab48>]"
      ]
     },
     "execution_count": 63,
     "metadata": {},
     "output_type": "execute_result"
    },
    {
     "data": {
      "image/png": "[encoded data removed]",
      "text/plain": [
       "<Figure size 432x288 with 1 Axes>"
      ]
     },
     "metadata": {
      "needs_background": "light"
     },
     "output_type": "display_data"
    }
   ],
   "source": [
    "plt.plot(data['Voltage(V)'][:])"
   ]
  },
  {
   "cell_type": "markdown",
   "metadata": {},
   "source": [
    "#### 전압 회복 시간"
   ]
  },
  {
   "cell_type": "code",
   "execution_count": null,
   "metadata": {
    "scrolled": true
   },
   "outputs": [],
   "source": [
    "re_time = np.array([])\n",
    "for i in recovery_time:\n",
    "    re_time = np.append(re_time, np.array((i[1]-i[0]).seconds))"
   ]
  },
  {
   "cell_type": "code",
   "execution_count": null,
   "metadata": {
    "scrolled": false
   },
   "outputs": [],
   "source": [
    "plt.plot(re_time)"
   ]
  },
  {
   "cell_type": "markdown",
   "metadata": {},
   "source": [
    "*평균 전압 회복 시간*"
   ]
  },
  {
   "cell_type": "code",
   "execution_count": 72,
   "metadata": {},
   "outputs": [
    {
     "data": {
      "text/plain": [
       "1.438577149799757"
      ]
     },
     "execution_count": 72,
     "metadata": {},
     "output_type": "execute_result"
    }
   ],
   "source": [
    "np.average(re_time) #normal_30mA"
   ]
  },
  {
   "cell_type": "code",
   "execution_count": null,
   "metadata": {},
   "outputs": [],
   "source": [
    "np.average(re_time) #normal+edls 80mA"
   ]
  },
  {
   "cell_type": "markdown",
   "metadata": {},
   "source": [
    "#### 전압 회복 시간, 최대 전압 변화율 저장"
   ]
  },
  {
   "cell_type": "raw",
   "metadata": {},
   "source": [
    "max_rate = np.max(recovery_rate[:], axis=1)"
   ]
  },
  {
   "cell_type": "raw",
   "metadata": {},
   "source": [
    "f = open(\"NORMAL(0-30).csv\", \"w\")\n",
    "f.write(\"recovery_time(s), max_rate\\n\")\n",
    "\n",
    "for i in range(int(len(max_rate))):\n",
    "    f.write(str(re_time[i]) + \",\" + str(max_rate[i]) + \"\\n\")\n",
    "    \n",
    "f.close()"
   ]
  },
  {
   "cell_type": "code",
   "execution_count": null,
   "metadata": {},
   "outputs": [],
   "source": []
  }
 ],
 "metadata": {
  "kernelspec": {
   "display_name": "Python 3",
   "language": "python",
   "name": "python3"
  },
  "language_info": {
   "codemirror_mode": {
    "name": "ipython",
    "version": 3
   },
   "file_extension": ".py",
   "mimetype": "text/x-python",
   "name": "python",
   "nbconvert_exporter": "python",
   "pygments_lexer": "ipython3",
   "version": "3.7.9"
  }
 },
 "nbformat": 4,
 "nbformat_minor": 2
}
