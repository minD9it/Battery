{
 "cells": [
  {
   "cell_type": "code",
   "execution_count": 1,
   "metadata": {},
   "outputs": [],
   "source": [
    "from datetime import timedelta"
   ]
  },
  {
   "cell_type": "code",
   "execution_count": 2,
   "metadata": {},
   "outputs": [],
   "source": [
    "from dateutil.parser import parse"
   ]
  },
  {
   "cell_type": "code",
   "execution_count": 3,
   "metadata": {},
   "outputs": [],
   "source": [
    "import numpy as np\n",
    "import pandas as pd\n",
    "import datetime as dt\n",
    "import matplotlib.pyplot as plt"
   ]
  },
  {
   "cell_type": "code",
   "execution_count": 4,
   "metadata": {
    "scrolled": true
   },
   "outputs": [],
   "source": [
    "from tqdm import tqdm"
   ]
  },
  {
   "cell_type": "code",
   "execution_count": 5,
   "metadata": {},
   "outputs": [
    {
     "data": {
      "text/html": [
       "<div>\n",
       "<style scoped>\n",
       "    .dataframe tbody tr th:only-of-type {\n",
       "        vertical-align: middle;\n",
       "    }\n",
       "\n",
       "    .dataframe tbody tr th {\n",
       "        vertical-align: top;\n",
       "    }\n",
       "\n",
       "    .dataframe thead th {\n",
       "        text-align: right;\n",
       "    }\n",
       "</style>\n",
       "<table border=\"1\" class=\"dataframe\">\n",
       "  <thead>\n",
       "    <tr style=\"text-align: right;\">\n",
       "      <th></th>\n",
       "      <th>Voltage(V)</th>\n",
       "      <th>Current(A)</th>\n",
       "      <th>Resistance(Ohm)</th>\n",
       "      <th>Power(W)</th>\n",
       "    </tr>\n",
       "  </thead>\n",
       "  <tbody>\n",
       "    <tr>\n",
       "      <th>count</th>\n",
       "      <td>270.000000</td>\n",
       "      <td>270.000000</td>\n",
       "      <td>270.000000</td>\n",
       "      <td>270.000000</td>\n",
       "    </tr>\n",
       "    <tr>\n",
       "      <th>mean</th>\n",
       "      <td>3.835594</td>\n",
       "      <td>0.000439</td>\n",
       "      <td>2.811833</td>\n",
       "      <td>0.002478</td>\n",
       "    </tr>\n",
       "    <tr>\n",
       "      <th>std</th>\n",
       "      <td>0.028272</td>\n",
       "      <td>0.003589</td>\n",
       "      <td>18.686990</td>\n",
       "      <td>0.016470</td>\n",
       "    </tr>\n",
       "    <tr>\n",
       "      <th>min</th>\n",
       "      <td>3.730800</td>\n",
       "      <td>0.000000</td>\n",
       "      <td>0.000000</td>\n",
       "      <td>0.000000</td>\n",
       "    </tr>\n",
       "    <tr>\n",
       "      <th>25%</th>\n",
       "      <td>3.818000</td>\n",
       "      <td>0.000000</td>\n",
       "      <td>0.000000</td>\n",
       "      <td>0.000000</td>\n",
       "    </tr>\n",
       "    <tr>\n",
       "      <th>50%</th>\n",
       "      <td>3.844900</td>\n",
       "      <td>0.000000</td>\n",
       "      <td>0.000000</td>\n",
       "      <td>0.000000</td>\n",
       "    </tr>\n",
       "    <tr>\n",
       "      <th>75%</th>\n",
       "      <td>3.857450</td>\n",
       "      <td>0.000000</td>\n",
       "      <td>0.000000</td>\n",
       "      <td>0.000000</td>\n",
       "    </tr>\n",
       "    <tr>\n",
       "      <th>max</th>\n",
       "      <td>3.867800</td>\n",
       "      <td>0.030100</td>\n",
       "      <td>127.662000</td>\n",
       "      <td>0.114000</td>\n",
       "    </tr>\n",
       "  </tbody>\n",
       "</table>\n",
       "</div>"
      ],
      "text/plain": [
       "       Voltage(V)  Current(A)  Resistance(Ohm)    Power(W)\n",
       "count  270.000000  270.000000       270.000000  270.000000\n",
       "mean     3.835594    0.000439         2.811833    0.002478\n",
       "std      0.028272    0.003589        18.686990    0.016470\n",
       "min      3.730800    0.000000         0.000000    0.000000\n",
       "25%      3.818000    0.000000         0.000000    0.000000\n",
       "50%      3.844900    0.000000         0.000000    0.000000\n",
       "75%      3.857450    0.000000         0.000000    0.000000\n",
       "max      3.867800    0.030100       127.662000    0.114000"
      ]
     },
     "execution_count": 5,
     "metadata": {},
     "output_type": "execute_result"
    }
   ],
   "source": [
    "data1 = pd.read_csv(\"data1.csv\") #초반\n",
    "data1.describe()"
   ]
  },
  {
   "cell_type": "code",
   "execution_count": 6,
   "metadata": {},
   "outputs": [
    {
     "data": {
      "text/html": [
       "<div>\n",
       "<style scoped>\n",
       "    .dataframe tbody tr th:only-of-type {\n",
       "        vertical-align: middle;\n",
       "    }\n",
       "\n",
       "    .dataframe tbody tr th {\n",
       "        vertical-align: top;\n",
       "    }\n",
       "\n",
       "    .dataframe thead th {\n",
       "        text-align: right;\n",
       "    }\n",
       "</style>\n",
       "<table border=\"1\" class=\"dataframe\">\n",
       "  <thead>\n",
       "    <tr style=\"text-align: right;\">\n",
       "      <th></th>\n",
       "      <th>Voltage(V)</th>\n",
       "      <th>Current(A)</th>\n",
       "      <th>Resistance(Ohm)</th>\n",
       "      <th>Power(W)</th>\n",
       "    </tr>\n",
       "  </thead>\n",
       "  <tbody>\n",
       "    <tr>\n",
       "      <th>count</th>\n",
       "      <td>166.000000</td>\n",
       "      <td>166.000000</td>\n",
       "      <td>166.000000</td>\n",
       "      <td>166.000000</td>\n",
       "    </tr>\n",
       "    <tr>\n",
       "      <th>mean</th>\n",
       "      <td>3.891724</td>\n",
       "      <td>0.001087</td>\n",
       "      <td>6421.010699</td>\n",
       "      <td>0.004060</td>\n",
       "    </tr>\n",
       "    <tr>\n",
       "      <th>std</th>\n",
       "      <td>0.032776</td>\n",
       "      <td>0.005561</td>\n",
       "      <td>52180.347360</td>\n",
       "      <td>0.020677</td>\n",
       "    </tr>\n",
       "    <tr>\n",
       "      <th>min</th>\n",
       "      <td>3.722200</td>\n",
       "      <td>0.000000</td>\n",
       "      <td>0.000000</td>\n",
       "      <td>0.000000</td>\n",
       "    </tr>\n",
       "    <tr>\n",
       "      <th>25%</th>\n",
       "      <td>3.897700</td>\n",
       "      <td>0.000000</td>\n",
       "      <td>0.000000</td>\n",
       "      <td>0.000000</td>\n",
       "    </tr>\n",
       "    <tr>\n",
       "      <th>50%</th>\n",
       "      <td>3.898400</td>\n",
       "      <td>0.000000</td>\n",
       "      <td>0.000000</td>\n",
       "      <td>0.000000</td>\n",
       "    </tr>\n",
       "    <tr>\n",
       "      <th>75%</th>\n",
       "      <td>3.898800</td>\n",
       "      <td>0.000000</td>\n",
       "      <td>0.000000</td>\n",
       "      <td>0.000000</td>\n",
       "    </tr>\n",
       "    <tr>\n",
       "      <th>max</th>\n",
       "      <td>3.899000</td>\n",
       "      <td>0.030100</td>\n",
       "      <td>647645.937000</td>\n",
       "      <td>0.112000</td>\n",
       "    </tr>\n",
       "  </tbody>\n",
       "</table>\n",
       "</div>"
      ],
      "text/plain": [
       "       Voltage(V)  Current(A)  Resistance(Ohm)    Power(W)\n",
       "count  166.000000  166.000000       166.000000  166.000000\n",
       "mean     3.891724    0.001087      6421.010699    0.004060\n",
       "std      0.032776    0.005561     52180.347360    0.020677\n",
       "min      3.722200    0.000000         0.000000    0.000000\n",
       "25%      3.897700    0.000000         0.000000    0.000000\n",
       "50%      3.898400    0.000000         0.000000    0.000000\n",
       "75%      3.898800    0.000000         0.000000    0.000000\n",
       "max      3.899000    0.030100    647645.937000    0.112000"
      ]
     },
     "execution_count": 6,
     "metadata": {},
     "output_type": "execute_result"
    }
   ],
   "source": [
    "data2 = pd.read_csv(\"data2.csv\") #중반\n",
    "data2.describe()"
   ]
  },
  {
   "cell_type": "code",
   "execution_count": 7,
   "metadata": {
    "scrolled": true
   },
   "outputs": [
    {
     "data": {
      "text/html": [
       "<div>\n",
       "<style scoped>\n",
       "    .dataframe tbody tr th:only-of-type {\n",
       "        vertical-align: middle;\n",
       "    }\n",
       "\n",
       "    .dataframe tbody tr th {\n",
       "        vertical-align: top;\n",
       "    }\n",
       "\n",
       "    .dataframe thead th {\n",
       "        text-align: right;\n",
       "    }\n",
       "</style>\n",
       "<table border=\"1\" class=\"dataframe\">\n",
       "  <thead>\n",
       "    <tr style=\"text-align: right;\">\n",
       "      <th></th>\n",
       "      <th>Voltage(V)</th>\n",
       "      <th>Current(A)</th>\n",
       "      <th>Resistance(Ohm)</th>\n",
       "      <th>Power(W)</th>\n",
       "    </tr>\n",
       "  </thead>\n",
       "  <tbody>\n",
       "    <tr>\n",
       "      <th>count</th>\n",
       "      <td>130.000000</td>\n",
       "      <td>130.000000</td>\n",
       "      <td>130.000000</td>\n",
       "      <td>130.000000</td>\n",
       "    </tr>\n",
       "    <tr>\n",
       "      <th>mean</th>\n",
       "      <td>3.881165</td>\n",
       "      <td>0.001150</td>\n",
       "      <td>18907.774915</td>\n",
       "      <td>0.004277</td>\n",
       "    </tr>\n",
       "    <tr>\n",
       "      <th>std</th>\n",
       "      <td>0.037032</td>\n",
       "      <td>0.005729</td>\n",
       "      <td>98630.459572</td>\n",
       "      <td>0.021309</td>\n",
       "    </tr>\n",
       "    <tr>\n",
       "      <th>min</th>\n",
       "      <td>3.695700</td>\n",
       "      <td>0.000000</td>\n",
       "      <td>0.000000</td>\n",
       "      <td>0.000000</td>\n",
       "    </tr>\n",
       "    <tr>\n",
       "      <th>25%</th>\n",
       "      <td>3.888300</td>\n",
       "      <td>0.000000</td>\n",
       "      <td>0.000000</td>\n",
       "      <td>0.000000</td>\n",
       "    </tr>\n",
       "    <tr>\n",
       "      <th>50%</th>\n",
       "      <td>3.889150</td>\n",
       "      <td>0.000000</td>\n",
       "      <td>0.000000</td>\n",
       "      <td>0.000000</td>\n",
       "    </tr>\n",
       "    <tr>\n",
       "      <th>75%</th>\n",
       "      <td>3.889500</td>\n",
       "      <td>0.000000</td>\n",
       "      <td>0.000000</td>\n",
       "      <td>0.000000</td>\n",
       "    </tr>\n",
       "    <tr>\n",
       "      <th>max</th>\n",
       "      <td>3.889900</td>\n",
       "      <td>0.030000</td>\n",
       "      <td>646036.437000</td>\n",
       "      <td>0.111000</td>\n",
       "    </tr>\n",
       "  </tbody>\n",
       "</table>\n",
       "</div>"
      ],
      "text/plain": [
       "       Voltage(V)  Current(A)  Resistance(Ohm)    Power(W)\n",
       "count  130.000000  130.000000       130.000000  130.000000\n",
       "mean     3.881165    0.001150     18907.774915    0.004277\n",
       "std      0.037032    0.005729     98630.459572    0.021309\n",
       "min      3.695700    0.000000         0.000000    0.000000\n",
       "25%      3.888300    0.000000         0.000000    0.000000\n",
       "50%      3.889150    0.000000         0.000000    0.000000\n",
       "75%      3.889500    0.000000         0.000000    0.000000\n",
       "max      3.889900    0.030000    646036.437000    0.111000"
      ]
     },
     "execution_count": 7,
     "metadata": {},
     "output_type": "execute_result"
    }
   ],
   "source": [
    "data3 = pd.read_csv(\"data3.csv\") #후반\n",
    "data3.describe()"
   ]
  },
  {
   "cell_type": "code",
   "execution_count": 8,
   "metadata": {
    "scrolled": true
   },
   "outputs": [
    {
     "data": {
      "text/html": [
       "<div>\n",
       "<style scoped>\n",
       "    .dataframe tbody tr th:only-of-type {\n",
       "        vertical-align: middle;\n",
       "    }\n",
       "\n",
       "    .dataframe tbody tr th {\n",
       "        vertical-align: top;\n",
       "    }\n",
       "\n",
       "    .dataframe thead th {\n",
       "        text-align: right;\n",
       "    }\n",
       "</style>\n",
       "<table border=\"1\" class=\"dataframe\">\n",
       "  <thead>\n",
       "    <tr style=\"text-align: right;\">\n",
       "      <th></th>\n",
       "      <th>Voltage(V)</th>\n",
       "      <th>Current(A)</th>\n",
       "      <th>Resistance(Ohm)</th>\n",
       "      <th>Power(W)</th>\n",
       "    </tr>\n",
       "  </thead>\n",
       "  <tbody>\n",
       "    <tr>\n",
       "      <th>count</th>\n",
       "      <td>4.988486e+06</td>\n",
       "      <td>4.988486e+06</td>\n",
       "      <td>4.988486e+06</td>\n",
       "      <td>4.988486e+06</td>\n",
       "    </tr>\n",
       "    <tr>\n",
       "      <th>mean</th>\n",
       "      <td>3.889299e+00</td>\n",
       "      <td>9.340380e-04</td>\n",
       "      <td>1.300571e+04</td>\n",
       "      <td>3.475257e-03</td>\n",
       "    </tr>\n",
       "    <tr>\n",
       "      <th>std</th>\n",
       "      <td>3.141821e-02</td>\n",
       "      <td>5.146647e-03</td>\n",
       "      <td>5.870463e+04</td>\n",
       "      <td>1.871865e-02</td>\n",
       "    </tr>\n",
       "    <tr>\n",
       "      <th>min</th>\n",
       "      <td>1.680000e-02</td>\n",
       "      <td>-1.500000e-03</td>\n",
       "      <td>0.000000e+00</td>\n",
       "      <td>0.000000e+00</td>\n",
       "    </tr>\n",
       "    <tr>\n",
       "      <th>25%</th>\n",
       "      <td>3.888700e+00</td>\n",
       "      <td>0.000000e+00</td>\n",
       "      <td>0.000000e+00</td>\n",
       "      <td>0.000000e+00</td>\n",
       "    </tr>\n",
       "    <tr>\n",
       "      <th>50%</th>\n",
       "      <td>3.894900e+00</td>\n",
       "      <td>0.000000e+00</td>\n",
       "      <td>0.000000e+00</td>\n",
       "      <td>0.000000e+00</td>\n",
       "    </tr>\n",
       "    <tr>\n",
       "      <th>75%</th>\n",
       "      <td>3.899500e+00</td>\n",
       "      <td>0.000000e+00</td>\n",
       "      <td>1.219480e+02</td>\n",
       "      <td>0.000000e+00</td>\n",
       "    </tr>\n",
       "    <tr>\n",
       "      <th>max</th>\n",
       "      <td>3.907000e+00</td>\n",
       "      <td>1.399000e+00</td>\n",
       "      <td>6.489843e+05</td>\n",
       "      <td>1.340000e-01</td>\n",
       "    </tr>\n",
       "  </tbody>\n",
       "</table>\n",
       "</div>"
      ],
      "text/plain": [
       "         Voltage(V)    Current(A)  Resistance(Ohm)      Power(W)\n",
       "count  4.988486e+06  4.988486e+06     4.988486e+06  4.988486e+06\n",
       "mean   3.889299e+00  9.340380e-04     1.300571e+04  3.475257e-03\n",
       "std    3.141821e-02  5.146647e-03     5.870463e+04  1.871865e-02\n",
       "min    1.680000e-02 -1.500000e-03     0.000000e+00  0.000000e+00\n",
       "25%    3.888700e+00  0.000000e+00     0.000000e+00  0.000000e+00\n",
       "50%    3.894900e+00  0.000000e+00     0.000000e+00  0.000000e+00\n",
       "75%    3.899500e+00  0.000000e+00     1.219480e+02  0.000000e+00\n",
       "max    3.907000e+00  1.399000e+00     6.489843e+05  1.340000e-01"
      ]
     },
     "execution_count": 8,
     "metadata": {},
     "output_type": "execute_result"
    }
   ],
   "source": [
    "data = pd.read_csv(\"Record File__0mA(29s)~30mA(1s)(통합).csv\") #통합 데이터\n",
    "data.describe()"
   ]
  },
  {
   "cell_type": "code",
   "execution_count": 175,
   "metadata": {},
   "outputs": [],
   "source": [
    "data2 = data2.iloc[:, :3] #.values"
   ]
  },
  {
   "cell_type": "code",
   "execution_count": 176,
   "metadata": {},
   "outputs": [],
   "source": [
    "date_=[] #replace korean to english\n",
    "\n",
    "for i in data1['Time'].values:\n",
    "    i = i.replace(\"오전\", \"AM\")\n",
    "    i = i.replace(\"오후\", \"PM\")\n",
    "    date_.append(i)"
   ]
  },
  {
   "cell_type": "code",
   "execution_count": 177,
   "metadata": {},
   "outputs": [],
   "source": [
    "date__=[] #split blank\n",
    "\n",
    "for i in date_:\n",
    "    date__.append(i.split(\" \"))"
   ]
  },
  {
   "cell_type": "code",
   "execution_count": 178,
   "metadata": {},
   "outputs": [],
   "source": [
    "date___=[] #switch index\n",
    "\n",
    "for i in date__:\n",
    "    tmp = i[1]\n",
    "    i[1] = i[2]\n",
    "    i[2] = tmp\n",
    "    date___.append(i)"
   ]
  },
  {
   "cell_type": "code",
   "execution_count": 179,
   "metadata": {},
   "outputs": [
    {
     "name": "stderr",
     "output_type": "stream",
     "text": [
      "100%|██████████████████████████████████████████████████████████████████████████████| 270/270 [00:00<00:00, 8998.36it/s]\n"
     ]
    }
   ],
   "source": [
    "parsing_date=[]\n",
    "\n",
    "for i in tqdm(date___):\n",
    "    #print('parsing: ', i, \"=\", (\" \").join(i))\n",
    "    dt = parse((\" \").join(i)) #list to string\n",
    "    #print(dt)\n",
    "    #print()\n",
    "    parsing_date.append(dt)"
   ]
  },
  {
   "cell_type": "markdown",
   "metadata": {},
   "source": [
    "계산을 해서 그거 파일의 차례대로 리스트 혹은 어레이에 저장해둔다.\n",
    "그래프로 그려두고 그것으로 전압 회복 시간을 확인하는 것이 좋을 것.\n",
    "\n",
    "1. 기준 전압 -> 시간\n",
    "2. 통신 전압 -> 시간\n",
    "3. 회복 전압 -> 시간\n",
    "4. 전압 회복 시간 "
   ]
  },
  {
   "cell_type": "code",
   "execution_count": null,
   "metadata": {
    "scrolled": true
   },
   "outputs": [],
   "source": [
    "str(parsing_date[2000000] - parsing_date[0])"
   ]
  },
  {
   "cell_type": "markdown",
   "metadata": {},
   "source": [
    "### 찾아야 하는 것들\n",
    "1. 통신 직전의 전압 인덱스 \n",
    "    - 전류가 0.020 < current (<= 0.035)인 인덱스의 전 인덱스\n",
    "    ```\n",
    "    comm = np.where(data['Current(A)'] > 0.020)[0] #통신\n",
    "    # 0.020 초과인 인덱스\n",
    "    ```\n",
    "    \n",
    "    - 전압 확인 (기준 전압)\n",
    "    ```\n",
    "        \n",
    "    ```\n",
    "    - 인덱스 확인\n",
    "    ```\n",
    "    criteria = comm - 1 #통신 직전 전압의 인덱스를 알기 위함\n",
    "    ```\n",
    "2. 통신 전압\n",
    "    - 전류가 0.020 < current인 인덱스\n",
    "    ```\n",
    "    comm = np.where(data['Current(A)'] > 0.020)[0]\n",
    "    ```\n",
    "    - 전압 확인 (최저 전압 확인)\n",
    "    ```\n",
    "    comm = np.delete(comm, np.where(data['Voltage(V)'] < 2.000))\n",
    "    \n",
    "    comm = np.delete(np.where(data1['Current(A)'] > 0.020)[0], np.where(data1['Voltage(V)'] < 2.000))\n",
    "    ```\n",
    "    - 인덱스 확인\n",
    "    - 통신 전압이 기준 전압의 얼마만큼을 소비했는가\n",
    "    ```\n",
    "    #pre 기준 전압의 인덱스\n",
    "    \n",
    "    ```\n",
    "3. 통신 후 전압\n",
    "    - (기준 전압 - 현재 전압) * 100\n",
    "    - 전압 회복률 \n",
    "    - 회복 기준이 0.5인 곳이 회복 시간이라고 하자면 시간\n",
    "    ```\n",
    "    #시간과 전압, 전압 회복률 저장\n",
    "    ```"
   ]
  },
  {
   "cell_type": "code",
   "execution_count": 183,
   "metadata": {},
   "outputs": [],
   "source": [
    "comm_ = np.delete(np.where(data2['Current(A)'] > 0.020)[0], np.where(data2['Voltage(V)'] < 2.000))"
   ]
  },
  {
   "cell_type": "code",
   "execution_count": 185,
   "metadata": {},
   "outputs": [
    {
     "name": "stdout",
     "output_type": "stream",
     "text": [
      "index 0 i 47\n",
      "index+1 1 i 48\n",
      "index 1 i 48\n",
      "index+1 2 i 49\n",
      "index 2 i 49\n",
      "index+1 3 i 131\n",
      "index+1 3 i 131\n",
      "[47]\n",
      "[47, 131]\n",
      "index 3 i 131\n",
      "index+1 4 i 132\n",
      "index 4 i 132\n",
      "index+1 5 i 133\n"
     ]
    }
   ],
   "source": [
    "comm = []\n",
    "comm.append(comm_[0])\n",
    "\n",
    "for idx in range(int(len(comm_)-1)):\n",
    "#     print(\"index\", idx, \"i\", comm_[idx])\n",
    "#     print(\"index+1\", idx+1, \"i\", comm_[idx+1])\n",
    "    if comm_[idx]+1 != comm_[idx+1]:\n",
    "#         print(\"index+1\", idx+1, \"i\", comm_[idx+1])\n",
    "#         print(comm)\n",
    "        comm.append(comm_[idx+1])\n",
    "#         print(comm)"
   ]
  },
  {
   "cell_type": "code",
   "execution_count": 186,
   "metadata": {},
   "outputs": [
    {
     "data": {
      "text/plain": [
       "[47, 131]"
      ]
     },
     "execution_count": 186,
     "metadata": {},
     "output_type": "execute_result"
    }
   ],
   "source": [
    "comm"
   ]
  },
  {
   "cell_type": "code",
   "execution_count": null,
   "metadata": {},
   "outputs": [],
   "source": []
  },
  {
   "cell_type": "code",
   "execution_count": 147,
   "metadata": {
    "scrolled": true
   },
   "outputs": [],
   "source": [
    "criteria = comm - 1"
   ]
  },
  {
   "cell_type": "code",
   "execution_count": 148,
   "metadata": {},
   "outputs": [
    {
     "data": {
      "text/plain": [
       "array([ 57, 193], dtype=int64)"
      ]
     },
     "execution_count": 148,
     "metadata": {},
     "output_type": "execute_result"
    }
   ],
   "source": [
    "criteria"
   ]
  },
  {
   "cell_type": "code",
   "execution_count": 149,
   "metadata": {},
   "outputs": [],
   "source": [
    "crit = 0.50"
   ]
  },
  {
   "cell_type": "code",
   "execution_count": 150,
   "metadata": {
    "scrolled": false
   },
   "outputs": [
    {
     "name": "stderr",
     "output_type": "stream",
     "text": [
      "100%|██████████████████████████████████████████████████████████████████████████████████| 2/2 [00:00<00:00, 1997.29it/s]"
     ]
    },
    {
     "name": "stdout",
     "output_type": "stream",
     "text": [
      "crit 57\n",
      "time 2021-09-24 오후 4:28:46\n",
      "crit 193\n",
      "time 2021-09-24 오후 4:29:16\n",
      "0.25\n"
     ]
    },
    {
     "name": "stderr",
     "output_type": "stream",
     "text": [
      "\n"
     ]
    }
   ],
   "source": [
    "recovery_time=[]\n",
    "recovery_rate=[]\n",
    "recovery_voltage=[]\n",
    "\n",
    "for idx, i in enumerate(tqdm(criteria)): #기준 전압\n",
    "    print(\"crit\", i)\n",
    "    recovery_time.append(data1['Time'][i])\n",
    "    print(\"time\", data1['Time'][i])\n",
    "    for j in range(int(len(data1['Voltage(V)']))): #전압 회복률을 계산해야 함\n",
    "#         print(\"current\", j+i, \"next\", comm[idx+1])\n",
    "        \n",
    "        rate = round(((data1['Voltage(V)'][i] - data1['Voltage(V)'][j+i+1]) * 100), 2)\n",
    "        time = data1['Time'][j+i]\n",
    "        vol = data1['Voltage(V)'][j+i]\n",
    "\n",
    "        if rate < crit:\n",
    "            print(rate)\n",
    "            break\n",
    "#         if j+i == comm[idx+1]: #j+i(index)가 다음 기준 전압 인덱스일 때\n",
    "#             break\n",
    "                \n",
    "#         if rate >= crit: \n",
    "        recovery_rate.append(rate)\n",
    "        recovery_voltage.append(vol)\n",
    "        \n",
    "        if rate == crit:\n",
    "            recovery_time.append(time)\n",
    "            break\n",
    "        \n"
   ]
  },
  {
   "cell_type": "code",
   "execution_count": 151,
   "metadata": {
    "scrolled": true
   },
   "outputs": [
    {
     "data": {
      "text/plain": [
       "[8.48, 8.48, 0.5, 8.44, 8.44, 0.9, 0.9]"
      ]
     },
     "execution_count": 151,
     "metadata": {},
     "output_type": "execute_result"
    }
   ],
   "source": [
    "recovery_rate"
   ]
  },
  {
   "cell_type": "code",
   "execution_count": 152,
   "metadata": {},
   "outputs": [
    {
     "data": {
      "text/plain": [
       "[<matplotlib.lines.Line2D at 0x20ab7fc4908>]"
      ]
     },
     "execution_count": 152,
     "metadata": {},
     "output_type": "execute_result"
    },
    {
     "data": {
      "image/png": "[encoded data removed]",
      "text/plain": [
       "<Figure size 432x288 with 1 Axes>"
      ]
     },
     "metadata": {
      "needs_background": "light"
     },
     "output_type": "display_data"
    }
   ],
   "source": [
    "plt.plot(recovery_rate)"
   ]
  },
  {
   "cell_type": "code",
   "execution_count": 153,
   "metadata": {},
   "outputs": [
    {
     "data": {
      "text/plain": [
       "['2021-09-24 오후 4:28:46', '2021-09-24 오후 4:28:46', '2021-09-24 오후 4:29:16']"
      ]
     },
     "execution_count": 153,
     "metadata": {},
     "output_type": "execute_result"
    }
   ],
   "source": [
    "recovery_time"
   ]
  },
  {
   "cell_type": "code",
   "execution_count": 154,
   "metadata": {},
   "outputs": [
    {
     "data": {
      "text/plain": [
       "[3.8156, 3.7308, 3.7308, 3.8575, 3.7731, 3.7731, 3.8485]"
      ]
     },
     "execution_count": 154,
     "metadata": {},
     "output_type": "execute_result"
    }
   ],
   "source": [
    "recovery_voltage"
   ]
  },
  {
   "cell_type": "code",
   "execution_count": null,
   "metadata": {},
   "outputs": [],
   "source": []
  }
 ],
 "metadata": {
  "kernelspec": {
   "display_name": "Python 3",
   "language": "python",
   "name": "python3"
  },
  "language_info": {
   "codemirror_mode": {
    "name": "ipython",
    "version": 3
   },
   "file_extension": ".py",
   "mimetype": "text/x-python",
   "name": "python",
   "nbconvert_exporter": "python",
   "pygments_lexer": "ipython3",
   "version": "3.7.9"
  }
 },
 "nbformat": 4,
 "nbformat_minor": 2
}
