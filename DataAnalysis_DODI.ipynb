{
 "cells": [
  {
   "cell_type": "code",
   "execution_count": 1,
   "metadata": {},
   "outputs": [],
   "source": [
    "import numpy as np\n",
    "import pandas as pd\n",
    "import datetime as dt\n",
    "import matplotlib.pyplot as plt\n",
    "\n",
    "from dateutil.parser import parse\n",
    "from datetime import timedelta\n",
    "from tqdm import tqdm"
   ]
  },
  {
   "cell_type": "markdown",
   "metadata": {},
   "source": [
    "### 데이터 불러오기"
   ]
  },
  {
   "cell_type": "code",
   "execution_count": 2,
   "metadata": {
    "scrolled": true
   },
   "outputs": [
    {
     "data": {
      "text/html": [
       "<div>\n",
       "<style scoped>\n",
       "    .dataframe tbody tr th:only-of-type {\n",
       "        vertical-align: middle;\n",
       "    }\n",
       "\n",
       "    .dataframe tbody tr th {\n",
       "        vertical-align: top;\n",
       "    }\n",
       "\n",
       "    .dataframe thead th {\n",
       "        text-align: right;\n",
       "    }\n",
       "</style>\n",
       "<table border=\"1\" class=\"dataframe\">\n",
       "  <thead>\n",
       "    <tr style=\"text-align: right;\">\n",
       "      <th></th>\n",
       "      <th>Voltage(V)</th>\n",
       "      <th>Current(A)</th>\n",
       "      <th>Resistance(Ohm)</th>\n",
       "      <th>Power(W)</th>\n",
       "    </tr>\n",
       "  </thead>\n",
       "  <tbody>\n",
       "    <tr>\n",
       "      <th>count</th>\n",
       "      <td>9.366850e+06</td>\n",
       "      <td>9.366850e+06</td>\n",
       "      <td>9.366850e+06</td>\n",
       "      <td>9.366850e+06</td>\n",
       "    </tr>\n",
       "    <tr>\n",
       "      <th>mean</th>\n",
       "      <td>3.819437e+00</td>\n",
       "      <td>9.776942e-04</td>\n",
       "      <td>1.715525e+04</td>\n",
       "      <td>3.430614e-03</td>\n",
       "    </tr>\n",
       "    <tr>\n",
       "      <th>std</th>\n",
       "      <td>1.325623e-01</td>\n",
       "      <td>5.088964e-03</td>\n",
       "      <td>6.392247e+04</td>\n",
       "      <td>1.762364e-02</td>\n",
       "    </tr>\n",
       "    <tr>\n",
       "      <th>min</th>\n",
       "      <td>1.680000e-02</td>\n",
       "      <td>-1.500000e-03</td>\n",
       "      <td>0.000000e+00</td>\n",
       "      <td>0.000000e+00</td>\n",
       "    </tr>\n",
       "    <tr>\n",
       "      <th>25%</th>\n",
       "      <td>3.818700e+00</td>\n",
       "      <td>0.000000e+00</td>\n",
       "      <td>0.000000e+00</td>\n",
       "      <td>0.000000e+00</td>\n",
       "    </tr>\n",
       "    <tr>\n",
       "      <th>50%</th>\n",
       "      <td>3.884400e+00</td>\n",
       "      <td>0.000000e+00</td>\n",
       "      <td>0.000000e+00</td>\n",
       "      <td>0.000000e+00</td>\n",
       "    </tr>\n",
       "    <tr>\n",
       "      <th>75%</th>\n",
       "      <td>3.895500e+00</td>\n",
       "      <td>2.000000e-04</td>\n",
       "      <td>1.124195e+04</td>\n",
       "      <td>1.000000e-03</td>\n",
       "    </tr>\n",
       "    <tr>\n",
       "      <th>max</th>\n",
       "      <td>3.907000e+00</td>\n",
       "      <td>1.399000e+00</td>\n",
       "      <td>6.489843e+05</td>\n",
       "      <td>1.340000e-01</td>\n",
       "    </tr>\n",
       "  </tbody>\n",
       "</table>\n",
       "</div>"
      ],
      "text/plain": [
       "         Voltage(V)    Current(A)  Resistance(Ohm)      Power(W)\n",
       "count  9.366850e+06  9.366850e+06     9.366850e+06  9.366850e+06\n",
       "mean   3.819437e+00  9.776942e-04     1.715525e+04  3.430614e-03\n",
       "std    1.325623e-01  5.088964e-03     6.392247e+04  1.762364e-02\n",
       "min    1.680000e-02 -1.500000e-03     0.000000e+00  0.000000e+00\n",
       "25%    3.818700e+00  0.000000e+00     0.000000e+00  0.000000e+00\n",
       "50%    3.884400e+00  0.000000e+00     0.000000e+00  0.000000e+00\n",
       "75%    3.895500e+00  2.000000e-04     1.124195e+04  1.000000e-03\n",
       "max    3.907000e+00  1.399000e+00     6.489843e+05  1.340000e-01"
      ]
     },
     "execution_count": 2,
     "metadata": {},
     "output_type": "execute_result"
    }
   ],
   "source": [
    "data = pd.read_csv(\"data/0mA(29s)~30mA(1s)_DODI_C_merge_3.csv\") #통합 데이터\n",
    "data.describe()"
   ]
  },
  {
   "cell_type": "markdown",
   "metadata": {},
   "source": [
    "### 데이터 자르기 (time, volt, current)"
   ]
  },
  {
   "cell_type": "code",
   "execution_count": 3,
   "metadata": {
    "scrolled": true
   },
   "outputs": [],
   "source": [
    "data = data.iloc[:, :3] #.values"
   ]
  },
  {
   "cell_type": "code",
   "execution_count": 4,
   "metadata": {},
   "outputs": [
    {
     "data": {
      "text/html": [
       "<div>\n",
       "<style scoped>\n",
       "    .dataframe tbody tr th:only-of-type {\n",
       "        vertical-align: middle;\n",
       "    }\n",
       "\n",
       "    .dataframe tbody tr th {\n",
       "        vertical-align: top;\n",
       "    }\n",
       "\n",
       "    .dataframe thead th {\n",
       "        text-align: right;\n",
       "    }\n",
       "</style>\n",
       "<table border=\"1\" class=\"dataframe\">\n",
       "  <thead>\n",
       "    <tr style=\"text-align: right;\">\n",
       "      <th></th>\n",
       "      <th>Time</th>\n",
       "      <th>Voltage(V)</th>\n",
       "      <th>Current(A)</th>\n",
       "    </tr>\n",
       "  </thead>\n",
       "  <tbody>\n",
       "    <tr>\n",
       "      <th>0</th>\n",
       "      <td>2021-09-24 오후 4:28:15</td>\n",
       "      <td>0.0169</td>\n",
       "      <td>0.0000</td>\n",
       "    </tr>\n",
       "    <tr>\n",
       "      <th>1</th>\n",
       "      <td>2021-09-24 오후 4:28:15</td>\n",
       "      <td>0.0169</td>\n",
       "      <td>0.0000</td>\n",
       "    </tr>\n",
       "    <tr>\n",
       "      <th>2</th>\n",
       "      <td>2021-09-24 오후 4:28:15</td>\n",
       "      <td>0.0169</td>\n",
       "      <td>0.0000</td>\n",
       "    </tr>\n",
       "    <tr>\n",
       "      <th>3</th>\n",
       "      <td>2021-09-24 오후 4:28:15</td>\n",
       "      <td>0.0169</td>\n",
       "      <td>1.3990</td>\n",
       "    </tr>\n",
       "    <tr>\n",
       "      <th>4</th>\n",
       "      <td>2021-09-24 오후 4:28:16</td>\n",
       "      <td>0.0168</td>\n",
       "      <td>1.3963</td>\n",
       "    </tr>\n",
       "  </tbody>\n",
       "</table>\n",
       "</div>"
      ],
      "text/plain": [
       "                    Time  Voltage(V)  Current(A)\n",
       "0  2021-09-24 오후 4:28:15      0.0169      0.0000\n",
       "1  2021-09-24 오후 4:28:15      0.0169      0.0000\n",
       "2  2021-09-24 오후 4:28:15      0.0169      0.0000\n",
       "3  2021-09-24 오후 4:28:15      0.0169      1.3990\n",
       "4  2021-09-24 오후 4:28:16      0.0168      1.3963"
      ]
     },
     "execution_count": 4,
     "metadata": {},
     "output_type": "execute_result"
    }
   ],
   "source": [
    "data.head()"
   ]
  },
  {
   "cell_type": "markdown",
   "metadata": {},
   "source": [
    "### 기준 전압 인덱스 구하기\n",
    "#### 통신 전류가 시작하는 곳의 직전 인덱스를 기준 전압으로 하였으나 기준이 애매하여 기준을 변경\n",
    "- 전압이 낮아지는 곳이 통신이 시작하는 부분"
   ]
  },
  {
   "cell_type": "code",
   "execution_count": 5,
   "metadata": {},
   "outputs": [],
   "source": [
    "comm_A = np.where(data['Current(A)'] > 0.020) #통신 전류"
   ]
  },
  {
   "cell_type": "code",
   "execution_count": 6,
   "metadata": {},
   "outputs": [
    {
     "name": "stdout",
     "output_type": "stream",
     "text": [
      "true\n"
     ]
    }
   ],
   "source": [
    "# 전압이 2V 이하인 통신 전류 데이터 인덱스가 있는 경우\n",
    "if np.where(data['Voltage(V)'] < 2.000):\n",
    "    print(\"true\")\n",
    "    comm_V_ = np.where(data['Voltage(V)'] < 2.000) #2v가 넘는 곳의 인덱스\n",
    "    comm_V = np.array(comm_V_[0])\n",
    "    comm_ = comm_A\n",
    "\n",
    "    for i in comm_V:\n",
    "        comm_ = np.delete(comm_, np.where(comm_ == i))\n",
    "\n",
    "# 전압이 2V 이하인 통신 전류 데이터 인덱스가 없는 경우\n",
    "else:\n",
    "    print(\"false\")\n",
    "    comm_ = np.array(comm_A[0]) #comm_A[0]의 type이 tuple이기 때문에 numpy array로 변환\n",
    "    comm_ = np.array(comm_[0])"
   ]
  },
  {
   "cell_type": "markdown",
   "metadata": {},
   "source": [
    "#### 통신 전류 시작 인덱스 하나만"
   ]
  },
  {
   "cell_type": "code",
   "execution_count": 7,
   "metadata": {},
   "outputs": [],
   "source": [
    "#첫 번째 인덱스는 넣어두고 시작\n",
    "comm = np.array(comm_[0])\n",
    "\n",
    "for idx in range(int(len(comm_))-1):\n",
    "    #현재 값+1과 다음값이 같지 않으면 연속된 숫자가 아니라는 것으로 추가함\n",
    "    if comm_[idx]+1 != comm_[idx+1]:\n",
    "        comm = np.append(comm, comm_[idx+1])"
   ]
  },
  {
   "cell_type": "code",
   "execution_count": 8,
   "metadata": {},
   "outputs": [
    {
     "data": {
      "text/plain": [
       "array([    132,     268,     401, ..., 9366676, 9366747, 9366819],\n",
       "      dtype=int64)"
      ]
     },
     "execution_count": 8,
     "metadata": {},
     "output_type": "execute_result"
    }
   ],
   "source": [
    "comm"
   ]
  },
  {
   "cell_type": "markdown",
   "metadata": {},
   "source": [
    "#### 임시 기준 전압(t)은 통신 시작 전류 인덱스 바로 전"
   ]
  },
  {
   "cell_type": "code",
   "execution_count": 9,
   "metadata": {},
   "outputs": [],
   "source": [
    "t_crit = comm - 1"
   ]
  },
  {
   "cell_type": "code",
   "execution_count": 10,
   "metadata": {},
   "outputs": [
    {
     "data": {
      "text/plain": [
       "(108293,)"
      ]
     },
     "execution_count": 10,
     "metadata": {},
     "output_type": "execute_result"
    }
   ],
   "source": [
    "t_crit.shape"
   ]
  },
  {
   "cell_type": "markdown",
   "metadata": {},
   "source": [
    "#### 전압이 떨어지기 전의 전압값의 인덱스를 찾아야 함\n",
    "    - 여기서 인덱스를 잘 골라내야 함!!\n",
    "    - 전압이 감소하면서 전류가 증가하는 부분이 통신 구간의 시작이다\n",
    "    - 기존  > 0.020으로 한 경우에는 한 번의 통신에 인덱스가 더 추가된 부분이 있을 수 있음\n",
    "        - 한 번 더 처리를 한 후에 같은 값(인덱스)가 있으면 제거 (중복 제거)\n",
    "$ \\therefore\\; > 0.020 $ 인 부분이면서 전압이 (-), 전류가 (+)인 부분이 최종 통신 시작 인덱스!!"
   ]
  },
  {
   "cell_type": "markdown",
   "metadata": {},
   "source": [
    "#### 통신 전류가 시작하는 곳의 전압값과 이전 인덱스의 전압값을 비교하여 이전 인덱스의 전압값이 더 크다면 기준 전압으로 하고 그렇지 않다면 기준 전압으로 하지 않는다\n",
    "1. $> 0.020$ 을 통신 전류로 하여 임시 기준 전압 인덱스를 찾는다\n",
    "2. 임시 기준 전압값(t)과 그 이전 전압값(t-1)을 비교한다.\n",
    "3. 이전 전압값(t-1)이 임시 기준 전압값(t)보다 크다면 그 값이 기준 전압값!\n",
    "4. 같다면 임시 기준 전압값(t)과 전전 전압값(t-2)를 비교\n",
    "5. 반복\n"
   ]
  },
  {
   "cell_type": "code",
   "execution_count": 11,
   "metadata": {},
   "outputs": [
    {
     "name": "stderr",
     "output_type": "stream",
     "text": [
      "100%|████████████████████████████████████████████████████████████████████████| 108293/108293 [00:26<00:00, 4132.37it/s]\n"
     ]
    }
   ],
   "source": [
    "ref = np.array([], dtype=int)\n",
    "\n",
    "for t in tqdm(t_crit):\n",
    "    tmp = t  #tmp는 >0.020 이전의 전압 인덱스\n",
    "    \n",
    "    for i in range(1, 5): #4번 loop\n",
    "        #전압(+): t < t-1\n",
    "        if (data['Voltage(V)'][tmp] < data['Voltage(V)'][t-i]):\n",
    "            #t-1 > t-2 => 인덱스 변경: t-i\n",
    "            if data['Voltage(V)'][t-i] >= data['Voltage(V)'][t-i-1]: #이전 이전의 전압이 더 작으면\n",
    "                tmp = t-i\n",
    "                break\n",
    "            else:\n",
    "                tmp = t- i\n",
    "        #전압 (-), 전류 (+) => 인덱스 변경: t-i\n",
    "        elif (data['Voltage(V)'][tmp] > data['Voltage(V)'][t-i]) and (data['Current(A)'][tmp] < data['Current(A)'][t-i]) and (data['Current(A)'][tmp] != 0.0000) and (data['Current(A)'][t-i] > 0.020):\n",
    "            tmp = t-i\n",
    "        #전압(-) => 인덱스 유지\n",
    "        elif data['Voltage(V)'][tmp] > data['Voltage(V)'][t-i]:\n",
    "            break\n",
    "        #전압이 같음: t == t-1\n",
    "        elif data['Voltage(V)'][tmp] == data['Voltage(V)'][t-i]:\n",
    "            #t-1 < t-2 => 인덱스 변경: t-i-1\n",
    "            if data['Voltage(V)'][t-i] < data['Voltage(V)'][t-i-1]:\n",
    "                tmp = t-i-1\n",
    "                break\n",
    "            \n",
    "    ref = np.append(ref, tmp)\n",
    "            \n",
    "ref = np.unique(ref) #중복 값 제거"
   ]
  },
  {
   "cell_type": "code",
   "execution_count": 12,
   "metadata": {
    "scrolled": true
   },
   "outputs": [
    {
     "data": {
      "text/plain": [
       "(108291,)"
      ]
     },
     "execution_count": 12,
     "metadata": {},
     "output_type": "execute_result"
    }
   ],
   "source": [
    "ref.shape"
   ]
  },
  {
   "cell_type": "markdown",
   "metadata": {},
   "source": [
    "### 전압 회복 시간, 회복률, 전압을 확인하기 위함\n",
    "- recovery_time [[통신 전, crit_time]]\n",
    "- recovery_rate [[통신 중(최대), crit_rate]]\n",
    "- recovery_volt [[통신 전, 통신 중(최소), crit_volt]]\n",
    "- crit = 기준 전압 회복률\n",
    "- 회복률이 crit 이하가 되거나 0이 아니면 다음 통신 데이터로\n",
    "    - 기준 전압과 통신 전압이 같은 부분이 있어 이상한 데이터가 그려짐 (회복률이 0이 아니면)\n",
    "- np.delete()하는 이유는 처음에 np.zeros(())로 만들었기 때문에 제일 처음에 0 값이 들어가 있음\n",
    "    - np.empty(())를 사용하면 쓰레기 값이 들어가 있음 (어차피 같음)"
   ]
  },
  {
   "cell_type": "code",
   "execution_count": 13,
   "metadata": {
    "scrolled": true
   },
   "outputs": [
    {
     "name": "stderr",
     "output_type": "stream",
     "text": [
      "100%|█████████████████████████████████████████████████████████████████████████| 108291/108291 [15:31<00:00, 116.25it/s]\n"
     ]
    }
   ],
   "source": [
    "recovery_time=np.zeros((1,2)) #시간은 통신 전, 회복(crit) 시간\n",
    "recovery_rate=np.zeros((1,2), dtype=int) #통신(최대), crit(0.5 or smaller)\n",
    "recovery_volt=np.zeros((1,3), dtype=int) #통신전, 통신(최소), 회복\n",
    "index = np.zeros((1,2))\n",
    "\n",
    "crit = 0.50\n",
    "\n",
    "for _, i in enumerate(tqdm(ref)): #기준 전압\n",
    "    r = np.array([]) #max을 구하기 위해서 rate값을 넣을 배열을 생성\n",
    "    v = np.array([]) #min을 구하기 위해서 volt값을 넣을 배열을 생성\n",
    "    \n",
    "    for j in range(1, 150):\n",
    "        rate = (data['Voltage(V)'][i] - data['Voltage(V)'][i+j]) * 100 #(기준전압 - 현재전압)*100\n",
    "        r = np.append(r, np.array([rate])) #배열에 위에서 구한 전압 변화율 추가\n",
    "        v = np.append(v, np.array([data['Voltage(V)'][i+j]])) #배열에 현재 전압값 추가\n",
    "\n",
    "        #회복 전압이면 반복을 멈추고 각 배열에 요소 추가\n",
    "        #(data['Voltage(V)'][i+j] > 2.0) and -> 잘못된 데이터가 들어가 있었음\n",
    "        # 1. 현재 전압 < 다음 전압 && 2. 다음 전류가 0.020보다 작을 때 && 3. 현재 전압 변화율 <= 기준 전압 변화율 && 4. 전압 변화율 != 0\n",
    "        if (data['Voltage(V)'][i+j] < data['Voltage(V)'][i+j+1]) and (data['Current(A)'][i+j+1] < 0.020) and (rate <= crit) and (rate != 0.0000):\n",
    "            #전압 변화율 추가(최대 전압 변화율(최저 전압), 현재 전압 변화율)\n",
    "            recovery_rate = np.append(recovery_rate, np.array([np.max(r), rate]).reshape(1,2), axis=0)\n",
    "            \n",
    "            #전압 회복 시간(기준 전압 시간, 회복 전압 시간)\n",
    "            recovery_time = np.append(recovery_time, np.array([data['Time'][i], data['Time'][i+j]]).reshape(1,2), axis=0)\n",
    "            \n",
    "            #전압(기준 전압, 최저 전압, 회복 전압)\n",
    "            recovery_volt = np.append(recovery_volt, np.array([data['Voltage(V)'][i], np.min(v), data['Voltage(V)'][i+j]]).reshape(1,3), axis=0)\n",
    "\n",
    "            index = np.append(index, np.array([i, (i+j)]).reshape(1,2), axis=0)\n",
    "            break\n",
    "            \n",
    "recovery_rate = np.delete(recovery_rate, 0, 0)\n",
    "recovery_time = np.delete(recovery_time, 0, 0)\n",
    "recovery_volt = np.delete(recovery_volt, 0, 0)\n",
    "index = np.delete(index, 0, 0)"
   ]
  },
  {
   "cell_type": "markdown",
   "metadata": {},
   "source": [
    "### 시간을 timedelt로 변환하기 위함\n",
    "- 전압 회복 시간을 알기 위해서 전체 시간을 변환"
   ]
  },
  {
   "cell_type": "code",
   "execution_count": 14,
   "metadata": {},
   "outputs": [
    {
     "name": "stderr",
     "output_type": "stream",
     "text": [
      "100%|████████████████████████████████████████████████████████████████████████| 216582/216582 [00:21<00:00, 9924.52it/s]\n"
     ]
    }
   ],
   "source": [
    "date_=[] #replace korean to english\n",
    "\n",
    "for i in recovery_time.flatten():\n",
    "    i = i.replace(\"오전\", \"AM\")\n",
    "    i = i.replace(\"오후\", \"PM\")\n",
    "    date_.append(i)\n",
    "    \n",
    "date__=[] #split blank\n",
    "\n",
    "for i in date_:\n",
    "    date__.append(i.split(\" \"))\n",
    "    \n",
    "date___=[] #switch index\n",
    "\n",
    "for i in date__: #위치 변경\n",
    "    tmp = i[1] \n",
    "    i[1] = i[2]\n",
    "    i[2] = tmp\n",
    "    date___.append(i)\n",
    "    \n",
    "parsing_date=[]\n",
    "\n",
    "for i in tqdm(date___):\n",
    "    #print('parsing: ', i, \"=\", (\" \").join(i))\n",
    "    dt = parse((\" \").join(i)) #list to string\n",
    "    #print(dt)\n",
    "    #print()\n",
    "    parsing_date.append(dt)\n",
    "    \n",
    "recovery_time = np.array(parsing_date).reshape(recovery_time.shape[0], 2)"
   ]
  },
  {
   "cell_type": "markdown",
   "metadata": {},
   "source": [
    "### 그래프를 그려 변화 확인\n",
    "#### 통신시에 전압을 얼마나 사용하는지 볼 수 있음"
   ]
  },
  {
   "cell_type": "markdown",
   "metadata": {},
   "source": [
    "#### 통신 데이터 전압 사용 그래프"
   ]
  },
  {
   "cell_type": "code",
   "execution_count": 25,
   "metadata": {
    "scrolled": false
   },
   "outputs": [
    {
     "data": {
      "text/plain": [
       "[<matplotlib.lines.Line2D at 0x1a81372aa88>]"
      ]
     },
     "execution_count": 25,
     "metadata": {},
     "output_type": "execute_result"
    },
    {
     "data": {
      "image/png": "[encoded data removed]",
      "text/plain": [
       "<Figure size 432x288 with 1 Axes>"
      ]
     },
     "metadata": {
      "needs_background": "light"
     },
     "output_type": "display_data"
    }
   ],
   "source": [
    "plt.plot(data['Voltage(V)'])"
   ]
  },
  {
   "cell_type": "code",
   "execution_count": 45,
   "metadata": {
    "scrolled": true
   },
   "outputs": [
    {
     "data": {
      "text/plain": [
       "[<matplotlib.lines.Line2D at 0x1a816f98d88>]"
      ]
     },
     "execution_count": 45,
     "metadata": {},
     "output_type": "execute_result"
    },
    {
     "data": {
      "image/png": "[encoded data removed]",
      "text/plain": [
       "<Figure size 432x288 with 1 Axes>"
      ]
     },
     "metadata": {
      "needs_background": "light"
     },
     "output_type": "display_data"
    }
   ],
   "source": [
    "plt.plot(np.max(recovery_rate[:], axis=1)) #dodi_c(merge: 데이터 제거)"
   ]
  },
  {
   "cell_type": "code",
   "execution_count": 48,
   "metadata": {
    "scrolled": false
   },
   "outputs": [
    {
     "data": {
      "text/plain": [
       "[<matplotlib.lines.Line2D at 0x1a8194daac8>]"
      ]
     },
     "execution_count": 48,
     "metadata": {},
     "output_type": "execute_result"
    },
    {
     "data": {
      "image/png": "[encoded data removed]",
      "text/plain": [
       "<Figure size 432x288 with 1 Axes>"
      ]
     },
     "metadata": {
      "needs_background": "light"
     },
     "output_type": "display_data"
    }
   ],
   "source": [
    "plt.plot(np.max(recovery_rate[:73724], axis=1)) #전압 떨어지기 전"
   ]
  },
  {
   "cell_type": "code",
   "execution_count": 72,
   "metadata": {
    "scrolled": false
   },
   "outputs": [
    {
     "data": {
      "text/plain": [
       "[<matplotlib.lines.Line2D at 0x1a8276a3508>]"
      ]
     },
     "execution_count": 72,
     "metadata": {},
     "output_type": "execute_result"
    },
    {
     "data": {
      "image/png": "[encoded data removed]",
      "text/plain": [
       "<Figure size 432x288 with 1 Axes>"
      ]
     },
     "metadata": {
      "needs_background": "light"
     },
     "output_type": "display_data"
    }
   ],
   "source": [
    "plt.plot(np.max(recovery_rate[73724:], axis=1)) #전압이 떨어지고 난 후 "
   ]
  },
  {
   "cell_type": "code",
   "execution_count": 56,
   "metadata": {},
   "outputs": [],
   "source": [
    "max_rate = np.max(recovery_rate[:], axis=1)"
   ]
  },
  {
   "cell_type": "code",
   "execution_count": null,
   "metadata": {},
   "outputs": [],
   "source": []
  },
  {
   "cell_type": "markdown",
   "metadata": {},
   "source": [
    "#### 전압 변화율이 치솟는 부분"
   ]
  },
  {
   "cell_type": "code",
   "execution_count": 32,
   "metadata": {
    "scrolled": true
   },
   "outputs": [
    {
     "data": {
      "text/plain": [
       "[<matplotlib.lines.Line2D at 0x1a81587e848>]"
      ]
     },
     "execution_count": 32,
     "metadata": {},
     "output_type": "execute_result"
    },
    {
     "data": {
      "image/png": "[encoded data removed]",
      "text/plain": [
       "<Figure size 432x288 with 1 Axes>"
      ]
     },
     "metadata": {
      "needs_background": "light"
     },
     "output_type": "display_data"
    }
   ],
   "source": [
    "plt.plot(np.max(recovery_rate[73700:73725], axis=1)) #dodi_c(merge)"
   ]
  },
  {
   "cell_type": "code",
   "execution_count": 33,
   "metadata": {},
   "outputs": [
    {
     "data": {
      "text/plain": [
       "array([6293063., 6293077.])"
      ]
     },
     "execution_count": 33,
     "metadata": {},
     "output_type": "execute_result"
    }
   ],
   "source": [
    "index[73724]"
   ]
  },
  {
   "cell_type": "code",
   "execution_count": 42,
   "metadata": {},
   "outputs": [
    {
     "data": {
      "text/plain": [
       "[<matplotlib.lines.Line2D at 0x1a81658f748>]"
      ]
     },
     "execution_count": 42,
     "metadata": {},
     "output_type": "execute_result"
    },
    {
     "data": {
      "image/png": "[encoded data removed]",
      "text/plain": [
       "<Figure size 432x288 with 1 Axes>"
      ]
     },
     "metadata": {
      "needs_background": "light"
     },
     "output_type": "display_data"
    }
   ],
   "source": [
    "plt.plot(data['Voltage(V)'][6293063:6400000])"
   ]
  },
  {
   "cell_type": "code",
   "execution_count": 82,
   "metadata": {},
   "outputs": [
    {
     "data": {
      "text/plain": [
       "24"
      ]
     },
     "execution_count": 82,
     "metadata": {},
     "output_type": "execute_result"
    }
   ],
   "source": [
    "np.argmax(np.max(recovery_rate[73700:73725], axis=1))"
   ]
  },
  {
   "cell_type": "code",
   "execution_count": 73,
   "metadata": {
    "scrolled": false
   },
   "outputs": [
    {
     "data": {
      "text/plain": [
       "array([datetime.datetime(2021, 10, 20, 15, 4, 55),\n",
       "       datetime.datetime(2021, 10, 20, 15, 4, 58)], dtype=object)"
      ]
     },
     "execution_count": 73,
     "metadata": {},
     "output_type": "execute_result"
    }
   ],
   "source": [
    "recovery_time[73724]"
   ]
  },
  {
   "cell_type": "code",
   "execution_count": 74,
   "metadata": {
    "scrolled": true
   },
   "outputs": [
    {
     "data": {
      "text/plain": [
       "array([3.594 , 3.075 , 3.5895])"
      ]
     },
     "execution_count": 74,
     "metadata": {},
     "output_type": "execute_result"
    }
   ],
   "source": [
    "recovery_volt[73724]"
   ]
  },
  {
   "cell_type": "code",
   "execution_count": 76,
   "metadata": {
    "scrolled": false
   },
   "outputs": [
    {
     "data": {
      "text/plain": [
       "array([51.9 ,  0.45])"
      ]
     },
     "execution_count": 76,
     "metadata": {},
     "output_type": "execute_result"
    }
   ],
   "source": [
    "recovery_rate[73724]"
   ]
  },
  {
   "cell_type": "markdown",
   "metadata": {},
   "source": [
    "#### 초반"
   ]
  },
  {
   "cell_type": "code",
   "execution_count": 45,
   "metadata": {
    "scrolled": true
   },
   "outputs": [
    {
     "data": {
      "text/plain": [
       "[<matplotlib.lines.Line2D at 0x143317da7f0>]"
      ]
     },
     "execution_count": 45,
     "metadata": {},
     "output_type": "execute_result"
    },
    {
     "data": {
      "image/png": "[encoded data removed]",
      "text/plain": [
       "<Figure size 432x288 with 1 Axes>"
      ]
     },
     "metadata": {
      "needs_background": "light"
     },
     "output_type": "display_data"
    }
   ],
   "source": [
    "plt.plot(np.max(recovery_rate[:], axis=1)) #dodi_c(1)"
   ]
  },
  {
   "cell_type": "code",
   "execution_count": 1063,
   "metadata": {
    "scrolled": false
   },
   "outputs": [
    {
     "data": {
      "text/plain": [
       "array([datetime.datetime(2021, 10, 12, 16, 7, 25),\n",
       "       datetime.datetime(2021, 10, 12, 16, 7, 28)], dtype=object)"
      ]
     },
     "execution_count": 1063,
     "metadata": {},
     "output_type": "execute_result"
    }
   ],
   "source": [
    "recovery_time[51748]"
   ]
  },
  {
   "cell_type": "code",
   "execution_count": 1064,
   "metadata": {
    "scrolled": false
   },
   "outputs": [
    {
     "data": {
      "text/plain": [
       "array([3.8877, 3.8746, 3.8829])"
      ]
     },
     "execution_count": 1064,
     "metadata": {},
     "output_type": "execute_result"
    }
   ],
   "source": [
    "recovery_volt[51748]"
   ]
  },
  {
   "cell_type": "code",
   "execution_count": 886,
   "metadata": {},
   "outputs": [
    {
     "data": {
      "text/plain": [
       "0.45999999999999375"
      ]
     },
     "execution_count": 886,
     "metadata": {},
     "output_type": "execute_result"
    }
   ],
   "source": [
    "(recovery_volt[26080][0] - recovery_volt[26080][2]) * 100"
   ]
  },
  {
   "cell_type": "code",
   "execution_count": 1062,
   "metadata": {
    "scrolled": false
   },
   "outputs": [
    {
     "data": {
      "text/plain": [
       "48"
      ]
     },
     "execution_count": 1062,
     "metadata": {},
     "output_type": "execute_result"
    }
   ],
   "source": [
    "np.argmin(np.max(recovery_rate[51700:52000], axis=1))"
   ]
  },
  {
   "cell_type": "markdown",
   "metadata": {},
   "source": [
    "#### 시간은 timedelt형으로 되어 있기 때문에 회복 시간을 보기 위해서는 처리가 필요"
   ]
  },
  {
   "cell_type": "code",
   "execution_count": 66,
   "metadata": {},
   "outputs": [],
   "source": [
    "re_time = np.array([])\n",
    "for i in recovery_time:\n",
    "    re_time = np.append(re_time, np.array((i[1]-i[0]).seconds))"
   ]
  },
  {
   "cell_type": "code",
   "execution_count": 67,
   "metadata": {
    "scrolled": true
   },
   "outputs": [
    {
     "data": {
      "text/plain": [
       "[<matplotlib.lines.Line2D at 0x294d2ee6848>]"
      ]
     },
     "execution_count": 67,
     "metadata": {},
     "output_type": "execute_result"
    },
    {
     "data": {
      "image/png": "[encoded data removed]",
      "text/plain": [
       "<Figure size 432x288 with 1 Axes>"
      ]
     },
     "metadata": {
      "needs_background": "light"
     },
     "output_type": "display_data"
    }
   ],
   "source": [
    "plt.plot(re_time)"
   ]
  },
  {
   "cell_type": "code",
   "execution_count": 69,
   "metadata": {
    "scrolled": false
   },
   "outputs": [
    {
     "data": {
      "text/plain": [
       "[<matplotlib.lines.Line2D at 0x294d2ed44c8>]"
      ]
     },
     "execution_count": 69,
     "metadata": {},
     "output_type": "execute_result"
    },
    {
     "data": {
      "image/png": "[encoded data removed]",
      "text/plain": [
       "<Figure size 432x288 with 1 Axes>"
      ]
     },
     "metadata": {
      "needs_background": "light"
     },
     "output_type": "display_data"
    }
   ],
   "source": [
    "plt.plot(re_time[74824:90000])"
   ]
  },
  {
   "cell_type": "code",
   "execution_count": 54,
   "metadata": {},
   "outputs": [
    {
     "data": {
      "text/plain": [
       "array([[6424899., 6424909.],\n",
       "       [6425015., 6425025.],\n",
       "       [6425129., 6425138.],\n",
       "       ...,\n",
       "       [9366675., 9366685.],\n",
       "       [9366746., 9366756.],\n",
       "       [9366818., 9366828.]])"
      ]
     },
     "execution_count": 54,
     "metadata": {},
     "output_type": "execute_result"
    }
   ],
   "source": [
    "index[74824:]"
   ]
  },
  {
   "cell_type": "code",
   "execution_count": 55,
   "metadata": {},
   "outputs": [
    {
     "data": {
      "text/plain": [
       "[<matplotlib.lines.Line2D at 0x294d113fdc8>]"
      ]
     },
     "execution_count": 55,
     "metadata": {},
     "output_type": "execute_result"
    },
    {
     "data": {
      "image/png": "[encoded data removed]",
      "text/plain": [
       "<Figure size 432x288 with 1 Axes>"
      ]
     },
     "metadata": {
      "needs_background": "light"
     },
     "output_type": "display_data"
    }
   ],
   "source": [
    "plt.plot(data['Voltage(V)'][:6424899])"
   ]
  },
  {
   "cell_type": "code",
   "execution_count": 81,
   "metadata": {
    "scrolled": true
   },
   "outputs": [
    {
     "data": {
      "text/plain": [
       "[<matplotlib.lines.Line2D at 0x1a836d314c8>]"
      ]
     },
     "execution_count": 81,
     "metadata": {},
     "output_type": "execute_result"
    },
    {
     "data": {
      "image/png": "[encoded data removed]",
      "text/plain": [
       "<Figure size 432x288 with 1 Axes>"
      ]
     },
     "metadata": {
      "needs_background": "light"
     },
     "output_type": "display_data"
    }
   ],
   "source": [
    "plt.plot(re_time[73000:74000])"
   ]
  },
  {
   "cell_type": "markdown",
   "metadata": {},
   "source": [
    "#### 통신 전, 통신 중, 회복 전압 그래프"
   ]
  },
  {
   "cell_type": "code",
   "execution_count": 1074,
   "metadata": {
    "scrolled": false
   },
   "outputs": [
    {
     "data": {
      "text/plain": [
       "[<matplotlib.lines.Line2D at 0x18eb26c9148>]"
      ]
     },
     "execution_count": 1074,
     "metadata": {},
     "output_type": "execute_result"
    },
    {
     "data": {
      "image/png": "[encoded data removed]",
      "text/plain": [
       "<Figure size 432x288 with 1 Axes>"
      ]
     },
     "metadata": {
      "needs_background": "light"
     },
     "output_type": "display_data"
    }
   ],
   "source": [
    "plt.plot(recovery_volt[59500:].flatten())"
   ]
  },
  {
   "cell_type": "code",
   "execution_count": null,
   "metadata": {},
   "outputs": [],
   "source": []
  },
  {
   "cell_type": "markdown",
   "metadata": {},
   "source": [
    "### csv 파일 저장하기 -> ['data_index', max_rate', 'recovery_time']"
   ]
  },
  {
   "cell_type": "code",
   "execution_count": 68,
   "metadata": {},
   "outputs": [],
   "source": [
    "f = open(\"dodi_result.csv\", \"w\")\n",
    "f.write(\"data_index, max_rate, recovery_time\\n\")\n",
    "\n",
    "for i in range(int(len(re_time))):\n",
    "    f.write(str(index[i][0]) + \",\" + str(max_rate[i]) + \",\" + str(re_time[i]) + \"\\n\")\n",
    "    \n",
    "f.close()"
   ]
  },
  {
   "cell_type": "code",
   "execution_count": null,
   "metadata": {},
   "outputs": [],
   "source": []
  }
 ],
 "metadata": {
  "kernelspec": {
   "display_name": "Python 3",
   "language": "python",
   "name": "python3"
  },
  "language_info": {
   "codemirror_mode": {
    "name": "ipython",
    "version": 3
   },
   "file_extension": ".py",
   "mimetype": "text/x-python",
   "name": "python",
   "nbconvert_exporter": "python",
   "pygments_lexer": "ipython3",
   "version": "3.7.9"
  }
 },
 "nbformat": 4,
 "nbformat_minor": 2
}
