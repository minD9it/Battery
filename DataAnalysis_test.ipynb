{
 "cells": [
  {
   "cell_type": "code",
   "execution_count": 1,
   "metadata": {},
   "outputs": [],
   "source": [
    "import numpy as np\n",
    "import pandas as pd\n",
    "import datetime as dt\n",
    "import matplotlib.pyplot as plt\n",
    "\n",
    "from dateutil.parser import parse\n",
    "from datetime import timedelta\n",
    "from tqdm import tqdm"
   ]
  },
  {
   "cell_type": "code",
   "execution_count": 2,
   "metadata": {},
   "outputs": [
    {
     "data": {
      "text/html": [
       "<div>\n",
       "<style scoped>\n",
       "    .dataframe tbody tr th:only-of-type {\n",
       "        vertical-align: middle;\n",
       "    }\n",
       "\n",
       "    .dataframe tbody tr th {\n",
       "        vertical-align: top;\n",
       "    }\n",
       "\n",
       "    .dataframe thead th {\n",
       "        text-align: right;\n",
       "    }\n",
       "</style>\n",
       "<table border=\"1\" class=\"dataframe\">\n",
       "  <thead>\n",
       "    <tr style=\"text-align: right;\">\n",
       "      <th></th>\n",
       "      <th>Voltage(V)</th>\n",
       "      <th>Current(A)</th>\n",
       "      <th>Resistance(Ohm)</th>\n",
       "      <th>Power(W)</th>\n",
       "    </tr>\n",
       "  </thead>\n",
       "  <tbody>\n",
       "    <tr>\n",
       "      <th>count</th>\n",
       "      <td>4.988486e+06</td>\n",
       "      <td>4.988486e+06</td>\n",
       "      <td>4.988486e+06</td>\n",
       "      <td>4.988486e+06</td>\n",
       "    </tr>\n",
       "    <tr>\n",
       "      <th>mean</th>\n",
       "      <td>3.889299e+00</td>\n",
       "      <td>9.340380e-04</td>\n",
       "      <td>1.300571e+04</td>\n",
       "      <td>3.475257e-03</td>\n",
       "    </tr>\n",
       "    <tr>\n",
       "      <th>std</th>\n",
       "      <td>3.141821e-02</td>\n",
       "      <td>5.146647e-03</td>\n",
       "      <td>5.870463e+04</td>\n",
       "      <td>1.871865e-02</td>\n",
       "    </tr>\n",
       "    <tr>\n",
       "      <th>min</th>\n",
       "      <td>1.680000e-02</td>\n",
       "      <td>-1.500000e-03</td>\n",
       "      <td>0.000000e+00</td>\n",
       "      <td>0.000000e+00</td>\n",
       "    </tr>\n",
       "    <tr>\n",
       "      <th>25%</th>\n",
       "      <td>3.888700e+00</td>\n",
       "      <td>0.000000e+00</td>\n",
       "      <td>0.000000e+00</td>\n",
       "      <td>0.000000e+00</td>\n",
       "    </tr>\n",
       "    <tr>\n",
       "      <th>50%</th>\n",
       "      <td>3.894900e+00</td>\n",
       "      <td>0.000000e+00</td>\n",
       "      <td>0.000000e+00</td>\n",
       "      <td>0.000000e+00</td>\n",
       "    </tr>\n",
       "    <tr>\n",
       "      <th>75%</th>\n",
       "      <td>3.899500e+00</td>\n",
       "      <td>0.000000e+00</td>\n",
       "      <td>1.219480e+02</td>\n",
       "      <td>0.000000e+00</td>\n",
       "    </tr>\n",
       "    <tr>\n",
       "      <th>max</th>\n",
       "      <td>3.907000e+00</td>\n",
       "      <td>1.399000e+00</td>\n",
       "      <td>6.489843e+05</td>\n",
       "      <td>1.340000e-01</td>\n",
       "    </tr>\n",
       "  </tbody>\n",
       "</table>\n",
       "</div>"
      ],
      "text/plain": [
       "         Voltage(V)    Current(A)  Resistance(Ohm)      Power(W)\n",
       "count  4.988486e+06  4.988486e+06     4.988486e+06  4.988486e+06\n",
       "mean   3.889299e+00  9.340380e-04     1.300571e+04  3.475257e-03\n",
       "std    3.141821e-02  5.146647e-03     5.870463e+04  1.871865e-02\n",
       "min    1.680000e-02 -1.500000e-03     0.000000e+00  0.000000e+00\n",
       "25%    3.888700e+00  0.000000e+00     0.000000e+00  0.000000e+00\n",
       "50%    3.894900e+00  0.000000e+00     0.000000e+00  0.000000e+00\n",
       "75%    3.899500e+00  0.000000e+00     1.219480e+02  0.000000e+00\n",
       "max    3.907000e+00  1.399000e+00     6.489843e+05  1.340000e-01"
      ]
     },
     "execution_count": 2,
     "metadata": {},
     "output_type": "execute_result"
    }
   ],
   "source": [
    "data = pd.read_csv(\"Record File__0mA(29s)~30mA(1s)(통합).csv\") #통합 데이터\n",
    "data.describe()"
   ]
  },
  {
   "cell_type": "code",
   "execution_count": 3,
   "metadata": {},
   "outputs": [],
   "source": [
    "data = data.iloc[:, :3] #.values"
   ]
  },
  {
   "cell_type": "markdown",
   "metadata": {},
   "source": [
    "```\n",
    "date_ = np.array([])\n",
    "for i in data['Time'].values:\n",
    "    i = i.replace(\"오전\", \"AM\")\n",
    "    i = i.replace(\"오후\", \"PM\")\n",
    "    date_ = np.append(date_, np.array([i]))\n",
    "    \n",
    "date__ = np.array([])\n",
    "for i in date_:\n",
    "    date__ = np.append(date__, np.array([i]))\n",
    "    \n",
    "date___ = np.array([])\n",
    "for i in date__:\n",
    "    tmp = i[1]\n",
    "    i[1] = i[2]\n",
    "    i[2] = tmp\n",
    "    date___ = np.append(date___, np.array([i]))\n",
    "    \n",
    "parsing_date = np.array([])\n",
    "for i in tqdm(date___):\n",
    "    #print('parsing: ', i, \"=\", (\" \").join(i))\n",
    "    dt = parse((\" \").join(i)) #list to string\n",
    "    #print(dt)\n",
    "    #print()\n",
    "    parsing_date = np.append(parsing_date, np.array([dt]))\n",
    "```"
   ]
  },
  {
   "cell_type": "code",
   "execution_count": null,
   "metadata": {},
   "outputs": [],
   "source": []
  },
  {
   "cell_type": "code",
   "execution_count": 6,
   "metadata": {},
   "outputs": [],
   "source": [
    "date_=[] #replace korean to english\n",
    "\n",
    "for i in data['Time'].values:\n",
    "    i = i.replace(\"오전\", \"AM\")\n",
    "    i = i.replace(\"오후\", \"PM\")\n",
    "    date_.append(i)"
   ]
  },
  {
   "cell_type": "code",
   "execution_count": 7,
   "metadata": {},
   "outputs": [],
   "source": [
    "date__=[] #split blank\n",
    "\n",
    "for i in date_:\n",
    "    date__.append(i.split(\" \"))"
   ]
  },
  {
   "cell_type": "code",
   "execution_count": 8,
   "metadata": {},
   "outputs": [],
   "source": [
    "date___=[] #switch index\n",
    "\n",
    "for i in date__:\n",
    "    tmp = i[1]\n",
    "    i[1] = i[2]\n",
    "    i[2] = tmp\n",
    "    date___.append(i)"
   ]
  },
  {
   "cell_type": "code",
   "execution_count": 9,
   "metadata": {},
   "outputs": [
    {
     "name": "stderr",
     "output_type": "stream",
     "text": [
      "100%|█████████████████████████████████████████████████████████████████████| 4988486/4988486 [08:07<00:00, 10227.05it/s]\n"
     ]
    }
   ],
   "source": [
    "parsing_date=[]\n",
    "\n",
    "for i in tqdm(date___):\n",
    "    #print('parsing: ', i, \"=\", (\" \").join(i))\n",
    "    dt = parse((\" \").join(i)) #list to string\n",
    "    #print(dt)\n",
    "    #print()\n",
    "    parsing_date.append(dt)"
   ]
  },
  {
   "cell_type": "markdown",
   "metadata": {},
   "source": [
    "### 찾아야 하는 것들\n",
    "1. 통신 직전의 전압 인덱스 \n",
    "    - 전류가 0.020 < current (<= 0.035)인 인덱스의 전 인덱스\n",
    "    ```\n",
    "    comm = np.where(data['Current(A)'] > 0.020)[0] #통신\n",
    "    # 0.020 초과인 인덱스\n",
    "    ```\n",
    "    \n",
    "    - 전압 확인 (기준 전압)\n",
    "    ```\n",
    "        \n",
    "    ```\n",
    "    - 인덱스 확인\n",
    "    ```\n",
    "    criteria = comm - 1 #통신 직전 전압의 인덱스를 알기 위함\n",
    "    ```\n",
    "2. 통신 전압\n",
    "    - 전류가 0.020 < current인 인덱스\n",
    "    ```\n",
    "    comm = np.where(data['Current(A)'] > 0.020)[0]\n",
    "    ```\n",
    "    - 전압 확인 (최저 전압 확인)\n",
    "    ```\n",
    "    comm = np.delete(comm, np.where(data['Voltage(V)'] < 2.000))\n",
    "    ```\n",
    "    - 인덱스 확인\n",
    "    - 통신 전압이 기준 전압의 얼마만큼을 소비했는가\n",
    "    ```\n",
    "    #pre 기준 전압의 인덱스\n",
    "    \n",
    "    ```\n",
    "3. 통신 후 전압\n",
    "    - (기준 전압 - 현재 전압) * 100\n",
    "    - 전압 회복률 \n",
    "    - 회복 기준이 0.5인 곳이 회복 시간이라고 하자면 시간\n",
    "    ```\n",
    "    #시간과 전압, 전압 회복률 저장\n",
    "    ```\n",
    "4. 전압 회복 시간\n",
    "    - 그래프를 그려서 확인해볼 것\n",
    "    ```\n",
    "    #시간과 전압, 전압 회복률 저장\n",
    "    ```"
   ]
  },
  {
   "cell_type": "code",
   "execution_count": 150,
   "metadata": {},
   "outputs": [],
   "source": [
    "comm_A = np.where(data['Current(A)'] > 0.020)"
   ]
  },
  {
   "cell_type": "code",
   "execution_count": 153,
   "metadata": {},
   "outputs": [],
   "source": [
    "comm_V_ = np.where(data['Voltage(V)'] < 2.000)"
   ]
  },
  {
   "cell_type": "code",
   "execution_count": 154,
   "metadata": {},
   "outputs": [],
   "source": [
    "comm_V = np.array(comm_V_).reshape(len(comm_V_[0]))"
   ]
  },
  {
   "cell_type": "code",
   "execution_count": 156,
   "metadata": {
    "scrolled": false
   },
   "outputs": [],
   "source": [
    "# comm_ = np.delete(np.where(data['Current(A)'] > 0.020), np.where(np.where(data['Current(A)'] > 0.020) == i for i in np.array(np.where(data['Voltage(V)'] < 2.000))))"
   ]
  },
  {
   "cell_type": "code",
   "execution_count": 164,
   "metadata": {},
   "outputs": [],
   "source": [
    "comm_ = comm_A\n",
    "\n",
    "for i in comm_V:\n",
    "    comm_ = np.delete(comm_, np.where(comm_ == i))"
   ]
  },
  {
   "cell_type": "code",
   "execution_count": 165,
   "metadata": {
    "scrolled": true
   },
   "outputs": [
    {
     "data": {
      "text/plain": [
       "array([    132,     133,     268, ..., 4988382, 4988383, 4988384],\n",
       "      dtype=int64)"
      ]
     },
     "execution_count": 165,
     "metadata": {},
     "output_type": "execute_result"
    }
   ],
   "source": [
    "comm_"
   ]
  },
  {
   "cell_type": "code",
   "execution_count": 166,
   "metadata": {},
   "outputs": [],
   "source": [
    "comm = np.array([comm_[0]])\n",
    "\n",
    "for idx in range(int(len(comm_)-1)):\n",
    "#     print(\"index\", idx, \"i\", comm_[idx])\n",
    "#     print(\"index+1\", idx+1, \"i\", comm_[idx+1])\n",
    "    if comm_[idx]+1 != comm_[idx+1]:\n",
    "#         print(\"index+1\", idx+1, \"i\", comm_[idx+1])\n",
    "#         print(comm)\n",
    "        comm = np.append(comm, np.array(comm_[idx+1]))\n",
    "#         print(comm)"
   ]
  },
  {
   "cell_type": "code",
   "execution_count": 167,
   "metadata": {},
   "outputs": [
    {
     "data": {
      "text/plain": [
       "array([    132,     268,     401, ..., 4988164, 4988274, 4988381],\n",
       "      dtype=int64)"
      ]
     },
     "execution_count": 167,
     "metadata": {},
     "output_type": "execute_result"
    }
   ],
   "source": [
    "comm"
   ]
  },
  {
   "cell_type": "code",
   "execution_count": 168,
   "metadata": {
    "scrolled": true
   },
   "outputs": [],
   "source": [
    "criterion = comm - 1"
   ]
  },
  {
   "cell_type": "code",
   "execution_count": 169,
   "metadata": {
    "scrolled": true
   },
   "outputs": [
    {
     "data": {
      "text/plain": [
       "array([    131,     267,     400, ..., 4988163, 4988273, 4988380],\n",
       "      dtype=int64)"
      ]
     },
     "execution_count": 169,
     "metadata": {},
     "output_type": "execute_result"
    }
   ],
   "source": [
    "criterion"
   ]
  },
  {
   "cell_type": "code",
   "execution_count": null,
   "metadata": {},
   "outputs": [],
   "source": []
  },
  {
   "cell_type": "markdown",
   "metadata": {},
   "source": []
  },
  {
   "cell_type": "code",
   "execution_count": 170,
   "metadata": {},
   "outputs": [],
   "source": []
  },
  {
   "cell_type": "code",
   "execution_count": 172,
   "metadata": {
    "scrolled": true
   },
   "outputs": [
    {
     "name": "stderr",
     "output_type": "stream",
     "text": [
      "100%|███████████████████████████████████████████████████████████████████████████| 59559/59559 [02:03<00:00, 481.94it/s]\n"
     ]
    }
   ],
   "source": [
    "recovery_time=np.zeros((1,2)) #시간은 통신 전, 회복(crit) 시간\n",
    "recovery_rate=np.zeros((1,2)) #통신(최대), crit(0.5 or smaller)\n",
    "recovery_volt=np.zeros((1,3)) #통신전, 통신(최소), 회복\n",
    "\n",
    "crit = 0.50\n",
    "\n",
    "for _, i in enumerate(tqdm(criterion)): #기준 전압\n",
    "    r = np.array([])\n",
    "    v = np.array([])\n",
    "    \n",
    "    for j in range(int(len(data['Voltage(V)']))):\n",
    "#         print(\"crit\", i, \"current\", i+j+1)\n",
    "#         print(\"crit\", data['Voltage(V)'][i], \"current\", data['Voltage(V)'][j+i+2])\n",
    "        \n",
    "        rate = (data['Voltage(V)'][i] - data['Voltage(V)'][i+j+1]) * 100 #(기준전압 - 현재전압)*100\n",
    "        r = np.append(r, np.array([rate]))\n",
    "        v = np.append(v, np.array([data['Voltage(V)'][i+j+1]]))\n",
    "        \n",
    "#         print(\"rate\", rate)\n",
    "#         print(\"recovery_rate\", recovery_rate)\n",
    "        \n",
    "        if rate <= crit: #회복 전압\n",
    "            recovery_rate = np.append(recovery_rate, np.array([np.max(r), rate]).reshape(1,2), axis=0)\n",
    "            \n",
    "            recovery_time = np.append(recovery_time, np.array([parsing_date[i], parsing_date[i+j]]).reshape(1,2), axis=0)\n",
    "            \n",
    "            recovery_volt = np.append(recovery_volt, np.array([data['Voltage(V)'][i], np.min(v), data['Voltage(V)'][i+j+1]]).reshape(1,3), axis=0)\n",
    "            break\n",
    "            \n",
    "recovery_rate = np.delete(recovery_rate, 0, 0)\n",
    "recovery_time = np.delete(recovery_time, 0, 0)\n",
    "recovery_volt = np.delete(recovery_volt, 0, 0)"
   ]
  },
  {
   "cell_type": "code",
   "execution_count": 194,
   "metadata": {},
   "outputs": [
    {
     "data": {
      "text/plain": [
       "59556"
      ]
     },
     "execution_count": 194,
     "metadata": {},
     "output_type": "execute_result"
    }
   ],
   "source": [
    "recovery_rate.shape[0] - 3"
   ]
  },
  {
   "cell_type": "code",
   "execution_count": 209,
   "metadata": {},
   "outputs": [
    {
     "data": {
      "text/plain": [
       "4988163"
      ]
     },
     "execution_count": 209,
     "metadata": {},
     "output_type": "execute_result"
    }
   ],
   "source": [
    "criterion[59556]"
   ]
  },
  {
   "cell_type": "code",
   "execution_count": 225,
   "metadata": {},
   "outputs": [
    {
     "name": "stdout",
     "output_type": "stream",
     "text": [
      "0.0\n",
      "0.0\n"
     ]
    }
   ],
   "source": [
    "r = np.array([])\n",
    "v = np.array([])\n",
    "\n",
    "for i in range(10):\n",
    "    print((data['Voltage(V)'][criterion[59556]] - data['Voltage(V)'][criterion[59556]+i+1]) * 100)\n",
    "    rate = (data['Voltage(V)'][criterion[59556]] - data['Voltage(V)'][criterion[59556]+i+1]) * 100\n",
    "    print((data['Voltage(V)'][criterion[59556]] - data['Voltage(V)'][criterion[59556]+i+1]) * 100)\n",
    "    r = np.append(r, np.array([rate]))\n",
    "    v = np.append(v, np.array([data['Voltage(V)'][criterion[59556]+i+1]]))\n",
    "    \n",
    "    if rate <= 0.5:\n",
    "        break"
   ]
  },
  {
   "cell_type": "code",
   "execution_count": 222,
   "metadata": {},
   "outputs": [
    {
     "data": {
      "text/plain": [
       "array([3.884])"
      ]
     },
     "execution_count": 222,
     "metadata": {},
     "output_type": "execute_result"
    }
   ],
   "source": [
    "v"
   ]
  },
  {
   "cell_type": "code",
   "execution_count": 215,
   "metadata": {},
   "outputs": [
    {
     "data": {
      "text/plain": [
       "3.8714"
      ]
     },
     "execution_count": 215,
     "metadata": {},
     "output_type": "execute_result"
    }
   ],
   "source": [
    "data['Voltage(V)'][criterion[59556]+5]"
   ]
  },
  {
   "cell_type": "code",
   "execution_count": 195,
   "metadata": {},
   "outputs": [
    {
     "data": {
      "text/plain": [
       "array([0., 0.])"
      ]
     },
     "execution_count": 195,
     "metadata": {},
     "output_type": "execute_result"
    }
   ],
   "source": [
    "recovery_rate[59556]"
   ]
  },
  {
   "cell_type": "code",
   "execution_count": 173,
   "metadata": {},
   "outputs": [
    {
     "data": {
      "text/plain": [
       "array([[ 8.48,  0.5 ],\n",
       "       [ 8.44,  0.25],\n",
       "       [ 8.46,  0.33],\n",
       "       ...,\n",
       "       [ 0.  ,  0.  ],\n",
       "       [20.02,  0.5 ],\n",
       "       [20.2 ,  0.4 ]])"
      ]
     },
     "execution_count": 173,
     "metadata": {},
     "output_type": "execute_result"
    }
   ],
   "source": [
    "recovery_rate"
   ]
  },
  {
   "cell_type": "code",
   "execution_count": 175,
   "metadata": {
    "scrolled": true
   },
   "outputs": [
    {
     "data": {
      "text/plain": [
       "[<matplotlib.lines.Line2D at 0x24a4e3aff08>]"
      ]
     },
     "execution_count": 175,
     "metadata": {},
     "output_type": "execute_result"
    },
    {
     "data": {
      "image/png": "[encoded data removed]",
      "text/plain": [
       "<Figure size 432x288 with 1 Axes>"
      ]
     },
     "metadata": {
      "needs_background": "light"
     },
     "output_type": "display_data"
    }
   ],
   "source": [
    "plt.plot(np.max(recovery_rate[:20], axis=1))"
   ]
  },
  {
   "cell_type": "code",
   "execution_count": 202,
   "metadata": {},
   "outputs": [
    {
     "data": {
      "text/plain": [
       "'2021-10-15 13:51:57'"
      ]
     },
     "execution_count": 202,
     "metadata": {},
     "output_type": "execute_result"
    }
   ],
   "source": [
    "str(recovery_time[59556][0])"
   ]
  },
  {
   "cell_type": "code",
   "execution_count": 176,
   "metadata": {
    "scrolled": true
   },
   "outputs": [
    {
     "data": {
      "text/plain": [
       "[<matplotlib.lines.Line2D at 0x24a53cadec8>]"
      ]
     },
     "execution_count": 176,
     "metadata": {},
     "output_type": "execute_result"
    },
    {
     "data": {
      "image/png": "[encoded data removed]",
      "text/plain": [
       "<Figure size 432x288 with 1 Axes>"
      ]
     },
     "metadata": {
      "needs_background": "light"
     },
     "output_type": "display_data"
    }
   ],
   "source": [
    "re_time = []\n",
    "\n",
    "for i in recovery_time:\n",
    "    re_time.append(str(i[1] - i[0]))\n",
    "    \n",
    "plt.plot(re_time[:20])"
   ]
  },
  {
   "cell_type": "code",
   "execution_count": 197,
   "metadata": {},
   "outputs": [
    {
     "data": {
      "text/plain": [
       "array([3.884, 3.884, 3.884])"
      ]
     },
     "execution_count": 197,
     "metadata": {},
     "output_type": "execute_result"
    }
   ],
   "source": [
    "recovery_volt[59556]"
   ]
  },
  {
   "cell_type": "code",
   "execution_count": 177,
   "metadata": {},
   "outputs": [
    {
     "data": {
      "text/plain": [
       "[<matplotlib.lines.Line2D at 0x24a53d1bc48>]"
      ]
     },
     "execution_count": 177,
     "metadata": {},
     "output_type": "execute_result"
    },
    {
     "data": {
      "image/png": "[encoded data removed]",
      "text/plain": [
       "<Figure size 432x288 with 1 Axes>"
      ]
     },
     "metadata": {
      "needs_background": "light"
     },
     "output_type": "display_data"
    }
   ],
   "source": [
    "plt.plot(recovery_volt[:20].flatten())"
   ]
  },
  {
   "cell_type": "code",
   "execution_count": null,
   "metadata": {},
   "outputs": [],
   "source": []
  }
 ],
 "metadata": {
  "kernelspec": {
   "display_name": "Python 3",
   "language": "python",
   "name": "python3"
  }
 },
 "nbformat": 4,
 "nbformat_minor": 2
}
