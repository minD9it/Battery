{
 "cells": [
  {
   "cell_type": "code",
   "execution_count": 1,
   "metadata": {},
   "outputs": [],
   "source": [
    "import numpy as np\n",
    "import pandas as pd\n",
    "import datetime as dt\n",
    "import matplotlib.pyplot as plt\n",
    "\n",
    "from dateutil.parser import parse\n",
    "from datetime import timedelta\n",
    "from tqdm import tqdm"
   ]
  },
  {
   "cell_type": "markdown",
   "metadata": {},
   "source": [
    "### 데이터 불러오기"
   ]
  },
  {
   "cell_type": "code",
   "execution_count": 2,
   "metadata": {
    "scrolled": true
   },
   "outputs": [],
   "source": [
    "data = pd.read_csv(\"data/NORMAL+EDLC(5%-(40-4-10)_4).csv\").iloc[:, :3]"
   ]
  },
  {
   "cell_type": "markdown",
   "metadata": {},
   "source": [
    "### 기준 전압 인덱스 구하기"
   ]
  },
  {
   "cell_type": "markdown",
   "metadata": {},
   "source": [
    "휴지구간 찾기"
   ]
  },
  {
   "cell_type": "code",
   "execution_count": 3,
   "metadata": {},
   "outputs": [],
   "source": [
    "comm_A = np.where(data['Current(A)'] == 0)[0]"
   ]
  },
  {
   "cell_type": "markdown",
   "metadata": {},
   "source": [
    "5% 소모 후 휴지 시작하는 인덱스"
   ]
  },
  {
   "cell_type": "code",
   "execution_count": 4,
   "metadata": {
    "scrolled": true
   },
   "outputs": [],
   "source": [
    "#첫 번째 인덱스는 넣어두고 시작\n",
    "dead_80_ = np.array(comm_A[0])\n",
    "\n",
    "for idx in range(comm_A.shape[0]-1):\n",
    "    #현재 값+1과 다음값이 같지 않으면 연속된 숫자가 아니라는 것으로 추가함\n",
    "    if comm_A[idx]+1 != comm_A[idx+1]:\n",
    "        dead_80_ = np.append(dead_80_, comm_A[idx+1])"
   ]
  },
  {
   "cell_type": "code",
   "execution_count": 5,
   "metadata": {},
   "outputs": [],
   "source": [
    "dead_80 = np.array([], dtype=int)\n",
    "\n",
    "for i in range(0, len(dead_80_), 2):\n",
    "    dead_80 = np.append(dead_80, np.array(dead_80_[i]))"
   ]
  },
  {
   "cell_type": "markdown",
   "metadata": {},
   "source": [
    "5% 소모하기 전 기준 인덱스 구하기 (통신 끝나고 난 후 휴지 구간 마지막 인덱스)"
   ]
  },
  {
   "cell_type": "code",
   "execution_count": 25,
   "metadata": {
    "scrolled": true
   },
   "outputs": [],
   "source": [
    "#첫 번째 인덱스는 넣어두고 시작\n",
    "ref_80_ = np.array([], dtype=int)\n",
    "\n",
    "for idx in reversed(range(comm_A.shape[0]-1)):\n",
    "    #현재 값+1과 다음값이 같지 않으면 연속된 숫자가 아니라는 것으로 추가함\n",
    "    if comm_A[idx]+1 != comm_A[idx+1]:\n",
    "        ref_80_ = np.append(ref_80_, comm_A[idx])\n",
    "ref_80_ = np.flip(ref_80_)"
   ]
  },
  {
   "cell_type": "code",
   "execution_count": 26,
   "metadata": {},
   "outputs": [],
   "source": [
    "ref_80 = np.array([], dtype=int)\n",
    "\n",
    "for i in range(1, len(ref_80_), 2):\n",
    "    ref_80 = np.append(ref_80, np.array(ref_80_[i]))"
   ]
  },
  {
   "cell_type": "code",
   "execution_count": 27,
   "metadata": {},
   "outputs": [],
   "source": [
    "ref_80 = np.append(np.array(0), ref_80)"
   ]
  },
  {
   "cell_type": "markdown",
   "metadata": {},
   "source": [
    "패턴 40mA로 시작 -> 기준 전압"
   ]
  },
  {
   "cell_type": "code",
   "execution_count": 197,
   "metadata": {},
   "outputs": [],
   "source": [
    "comm_40__ = np.where((data['Current(A)'] < 0.0500) & (data['Current(A)'] > 0.030))[0] #통신 전류 -> 0.040"
   ]
  },
  {
   "cell_type": "markdown",
   "metadata": {},
   "source": [
    "0.080로 5% 소모하는 구간에 0.040 전류가 끼어있음"
   ]
  },
  {
   "cell_type": "code",
   "execution_count": 198,
   "metadata": {},
   "outputs": [],
   "source": [
    "comm_40__ = np.delete(comm_40__, np.where(comm_40__ == 590501))"
   ]
  },
  {
   "cell_type": "markdown",
   "metadata": {},
   "source": [
    "#### 통신 전류 시작 인덱스 하나만"
   ]
  },
  {
   "cell_type": "code",
   "execution_count": 199,
   "metadata": {},
   "outputs": [],
   "source": [
    "#첫 번째 인덱스는 넣어두고 시작\n",
    "comm_40_ = np.array(comm_40__[0])\n",
    "\n",
    "for idx in range(comm_40__.shape[0]-1):\n",
    "    #현재 값+1과 다음값이 같지 않으면 연속된 숫자가 아니라는 것으로 추가함\n",
    "    if comm_40__[idx]+1 != comm_40__[idx+1]:\n",
    "        comm_40_ = np.append(comm_40_, comm_40__[idx+1])"
   ]
  },
  {
   "cell_type": "code",
   "execution_count": 200,
   "metadata": {},
   "outputs": [],
   "source": [
    "comm_40 = np.array([], dtype=int)\n",
    "\n",
    "for i in range(0, len(comm_40_), 4):\n",
    "    comm_40 = np.append(comm_40, np.array(comm_40_[i]))"
   ]
  },
  {
   "cell_type": "markdown",
   "metadata": {},
   "source": [
    "#### 기준 전압은 통신 시작 전류 인덱스 바로 전"
   ]
  },
  {
   "cell_type": "code",
   "execution_count": 204,
   "metadata": {},
   "outputs": [],
   "source": [
    "t_crit = comm_40 - 1"
   ]
  },
  {
   "cell_type": "raw",
   "metadata": {},
   "source": [
    "if t_crit.shape[0]%4 != 0:\n",
    "    t_crit = t_crit[:-1]"
   ]
  },
  {
   "cell_type": "markdown",
   "metadata": {},
   "source": [
    "4mA 인덱스 찾기"
   ]
  },
  {
   "cell_type": "code",
   "execution_count": 207,
   "metadata": {},
   "outputs": [],
   "source": [
    "comm_4_ = np.where((data['Current(A)'] > 0) & (data['Current(A)'] < 0.0050))[0]"
   ]
  },
  {
   "cell_type": "markdown",
   "metadata": {},
   "source": [
    "연속된 인덱스 제거 -> 첫번째 인덱스만"
   ]
  },
  {
   "cell_type": "code",
   "execution_count": 208,
   "metadata": {},
   "outputs": [],
   "source": [
    "#첫 번째 인덱스는 넣어두고 시작\n",
    "comm_4 = np.array(comm_4_[0])\n",
    "\n",
    "for idx in range(comm_4_.shape[0]-1):\n",
    "    #현재 값+1과 다음값이 같지 않으면 연속된 숫자가 아니라는 것으로 추가함\n",
    "    if comm_4_[idx]+1 != comm_4_[idx+1]:\n",
    "        comm_4 = np.append(comm_4, comm_4_[idx+1])"
   ]
  },
  {
   "cell_type": "code",
   "execution_count": 260,
   "metadata": {},
   "outputs": [],
   "source": [
    "ref_4 = np.array([], dtype=int)\n",
    "\n",
    "for i in range(1, len(comm_4), 2):\n",
    "    ref_4 = np.append(ref_4, np.array(comm_4[i]))"
   ]
  },
  {
   "cell_type": "raw",
   "metadata": {},
   "source": [
    "ref_4 = np.array([], dtype=int)\n",
    "\n",
    "for i in range(0, len(comm_4), 8):\n",
    "    for j in range(8):\n",
    "        if j % 2 != 0:\n",
    "            ref_4 = np.append(ref_4, comm_4[i+j])\n",
    "    ref_4 = np.delete(ref_4, np.where(ref_4 == comm_4[i+7]))"
   ]
  },
  {
   "cell_type": "markdown",
   "metadata": {},
   "source": [
    "#### 인덱스 조정: 전압이 떨어지는 순간부터"
   ]
  },
  {
   "cell_type": "code",
   "execution_count": 205,
   "metadata": {
    "scrolled": true
   },
   "outputs": [
    {
     "name": "stderr",
     "output_type": "stream",
     "text": [
      "100%|██████████████████████████████████████████████████████████████████████████████████| 8/8 [00:00<00:00, 2668.34it/s]\n"
     ]
    }
   ],
   "source": [
    "ref_40 = np.array([], dtype=int)\n",
    "\n",
    "for t in tqdm(t_crit):\n",
    "    tmp = t  #tmp는 >0.020 이전의 전압 인덱스\n",
    "    \n",
    "    for i in range(1, 5): #4번 loop\n",
    "        #전압(+): t < t-1\n",
    "        if (data['Voltage(V)'][tmp] < data['Voltage(V)'][t-i]):\n",
    "            #t-1 > t-2 => 인덱스 변경: t-i\n",
    "            if data['Voltage(V)'][t-i] >= data['Voltage(V)'][t-i-1]: #이전 이전의 전압이 더 작으면\n",
    "                tmp = t-i\n",
    "                break\n",
    "            else:\n",
    "                tmp = t- i\n",
    "        #전압 (-), 전류 (+) => 인덱스 변경: t-i\n",
    "        elif (data['Voltage(V)'][tmp] > data['Voltage(V)'][t-i]) and (data['Current(A)'][tmp] < data['Current(A)'][t-i]) and (data['Current(A)'][tmp] != 0.0000) and (data['Current(A)'][t-i] > 0.020):\n",
    "            tmp = t-i\n",
    "        #전압(-) => 인덱스 유지\n",
    "        elif data['Voltage(V)'][tmp] > data['Voltage(V)'][t-i]:\n",
    "            break\n",
    "        #전압이 같음: t == t-1\n",
    "        elif data['Voltage(V)'][tmp] == data['Voltage(V)'][t-i]:\n",
    "            #t-1 < t-2 => 인덱스 변경: t-i-1\n",
    "            if data['Voltage(V)'][t-i] < data['Voltage(V)'][t-i-1]:\n",
    "                tmp = t-i-1\n",
    "                break\n",
    "            \n",
    "    ref_40 = np.append(ref_40, tmp)\n",
    "            \n",
    "ref_40 = np.unique(ref_40) #중복 값 제거"
   ]
  },
  {
   "cell_type": "markdown",
   "metadata": {},
   "source": [
    "\n",
    "### 전압 회복 시간, 회복률, 전압을 확인하기 위함\n",
    "- recovery_time [[통신 전, crit_time]]\n",
    "- recovery_rate [[통신 중(최대), crit_rate]]\n",
    "- recovery_volt [[통신 전, 통신 중(최소), crit_volt]]\n",
    "- crit = 기준 전압 회복률\n",
    "- 회복률이 crit 이하가 되거나 0이 아니면 다음 통신 데이터로\n",
    "    - 기준 전압과 통신 전압이 같은 부분이 있어 이상한 데이터가 그려짐 (회복률이 0이 아니면)\n",
    "- np.delete()하는 이유는 처음에 np.zeros(())로 만들었기 때문에 제일 처음에 0 값이 들어가 있음\n",
    "    - np.empty(())를 사용하면 쓰레기 값이 들어가 있음 (어차피 같음)"
   ]
  },
  {
   "cell_type": "markdown",
   "metadata": {},
   "source": [
    "패턴 중 4mA 구간"
   ]
  },
  {
   "cell_type": "code",
   "execution_count": 398,
   "metadata": {
    "scrolled": true
   },
   "outputs": [
    {
     "name": "stderr",
     "output_type": "stream",
     "text": [
      "100%|███████████████████████████████████████████████████████████████████████████████████| 8/8 [00:00<00:00, 421.29it/s]\n"
     ]
    }
   ],
   "source": [
    "# recovery_rate=np.zeros((1,2), dtype=int) #통신(최대), crit(0.5 or smaller)\n",
    "# recovery_volt=np.zeros((1,3), dtype=int) #통신전, 통신(최소), 회복\n",
    "recovery_rate = np.array([], dtype=int)\n",
    "recovery_volt = np.array([], dtype=int)\n",
    "rate_ = np.array([], dtype=int)\n",
    "\n",
    "crit = 0.50\n",
    "\n",
    "for idx, i in enumerate(tqdm(ref_40)): #기준 전압\n",
    "    r_ = np.array([])\n",
    "    ref_volt = data['Voltage(V)'][i] #패턴 시작하기 전 기준 전압\n",
    "    \n",
    "    if idx == 0:\n",
    "        ref_4_idx_ = idx\n",
    "    else:\n",
    "        ref_4_idx_ = idx * 4\n",
    "        \n",
    "    for j in range(4):\n",
    "        \n",
    "        ref_4_idx = ref_4[ref_4_idx_+j] #중간에 4mA 통신하는 구간 \n",
    "        r = np.array([]) \n",
    "        v = np.array([]) \n",
    "        \n",
    "        for k in range(20):\n",
    "            rate = (ref_volt - data['Voltage(V)'][ref_4_idx+k]) / ref_volt * 100\n",
    "            r = np.append(r, np.array([rate]))\n",
    "            v = np.append(v, np.array([data['Voltage(V)'][ref_4_idx+k]]))\n",
    "            \n",
    "            \n",
    "            if (data['Current(A)'][ref_4_idx+k+1] > 0.030) or (data['Current(A)'][ref_4_idx+k+1] == 0): #다음 전류가 0.040이면 그만\n",
    "                r_ = np.append(r_, np.array([np.max(r)]))\n",
    "                recovery_volt = np.append(recovery_volt, np.array([v]))\n",
    "                \n",
    "#                 recovery_rate = np.append(recovery_rate, np.array([np.max(r), rate]).reshape(1,2), axis=0)\n",
    "#                 recovery_volt = np.append(recovery_volt, np.array([ref_volt, np.min(v), data['Voltage(V)'][ref_4_idx+k]]).reshape(1,3), axis=0)\n",
    "                break\n",
    "    rate_ = np.append(rate_, np.array(np.max(r_)))\n",
    "#         if (rate <= crit) and (rate != 0.0000):\n",
    "#             recovery_rate = np.append(recovery_rate, np.array([np.max(r), rate]).reshape(1,2), axis=0)\n",
    "#             recovery_volt = np.append(recovery_volt, np.array([data['Voltage(V)'][i], np.min(v), data['Voltage(V)'][j]]).reshape(1,3), axis=0)\n",
    "            \n",
    "#             break            \n",
    "# recovery_rate = np.delete(recovery_rate, 0, 0)\n",
    "# recovery_volt = np.delete(recovery_volt, 0, 0)"
   ]
  },
  {
   "cell_type": "markdown",
   "metadata": {},
   "source": [
    "5% 소모 후 휴지구간"
   ]
  },
  {
   "cell_type": "code",
   "execution_count": 106,
   "metadata": {
    "scrolled": true
   },
   "outputs": [
    {
     "name": "stderr",
     "output_type": "stream",
     "text": [
      "100%|████████████████████████████████████████████████████████████████████████████████████| 8/8 [00:00<00:00, 37.58it/s]\n"
     ]
    }
   ],
   "source": [
    "recovery_rate=np.array([], dtype=int)\n",
    "dead_volt=np.array([], dtype=int)\n",
    "recovery_time=np.zeros((1,2))\n",
    "\n",
    "\n",
    "crit = 0.50\n",
    "\n",
    "for idx, i in enumerate(tqdm(ref_80)): #기준 전압\n",
    "    r = np.array([]) #max을 구하기 위해서 rate값을 넣을 배열을 생성\n",
    "    v = np.array([]) #min을 구하기 위해서 volt값을 넣을 배열을 생성\n",
    "    \n",
    "    ref_volt = data['Voltage(V)'][i]\n",
    "    ref_time = data['Time'][i]\n",
    "    dead_idx = dead_80[idx]\n",
    "    \n",
    "    for j in range(100000):\n",
    "        rate = (ref_volt - data['Voltage(V)'][dead_idx+j]) / ref_volt * 100\n",
    "        r = np.append(r, np.array([rate]))\n",
    "        v = np.append(v, np.array([data['Voltage(V)'][dead_idx+j]]))\n",
    "            \n",
    "        if data['Current(A)'][dead_idx+j+1] != 0:\n",
    "            recovery_rate = np.append(recovery_rate, np.array(np.min(r)))\n",
    "            dead_volt = np.append(dead_volt, np.array(v))\n",
    "            recovery_time = np.append(recovery_time, np.array([ref_time, data['Time'][dead_idx+j]]).reshape(1,2), axis=0)\n",
    "            break\n",
    "            \n",
    "recovery_time = np.delete(recovery_time, 0, 0)"
   ]
  },
  {
   "cell_type": "markdown",
   "metadata": {},
   "source": [
    "### 그래프를 그려 변화 확인"
   ]
  },
  {
   "cell_type": "code",
   "execution_count": 399,
   "metadata": {
    "scrolled": false
   },
   "outputs": [
    {
     "data": {
      "text/plain": [
       "[<matplotlib.lines.Line2D at 0x1adda0a5a08>]"
      ]
     },
     "execution_count": 399,
     "metadata": {},
     "output_type": "execute_result"
    },
    {
     "data": {
      "image/png": "[encoded data removed]",
      "text/plain": [
       "<Figure size 432x288 with 1 Axes>"
      ]
     },
     "metadata": {
      "needs_background": "light"
     },
     "output_type": "display_data"
    }
   ],
   "source": [
    "# plt.figure(figsize=(15,10))\n",
    "plt.plot(rate_)"
   ]
  },
  {
   "cell_type": "code",
   "execution_count": 400,
   "metadata": {},
   "outputs": [
    {
     "data": {
      "text/plain": [
       "array([0.87706969, 1.031044  , 1.0359038 , 1.26828443, 1.39037433,\n",
       "       1.81746457, 3.44191066, 3.8373056 ])"
      ]
     },
     "execution_count": 400,
     "metadata": {},
     "output_type": "execute_result"
    }
   ],
   "source": [
    "rate_"
   ]
  },
  {
   "cell_type": "code",
   "execution_count": 348,
   "metadata": {
    "scrolled": false
   },
   "outputs": [
    {
     "data": {
      "text/plain": [
       "[<matplotlib.lines.Line2D at 0x1add90ad3c8>]"
      ]
     },
     "execution_count": 348,
     "metadata": {},
     "output_type": "execute_result"
    },
    {
     "data": {
      "image/png": "[encoded data removed]",
      "text/plain": [
       "<Figure size 432x288 with 1 Axes>"
      ]
     },
     "metadata": {
      "needs_background": "light"
     },
     "output_type": "display_data"
    }
   ],
   "source": [
    "# plt.figure(figsize=(15,10))\n",
    "plt.plot(recovery_volt)"
   ]
  },
  {
   "cell_type": "code",
   "execution_count": 22,
   "metadata": {
    "scrolled": true
   },
   "outputs": [
    {
     "data": {
      "text/plain": [
       "[<matplotlib.lines.Line2D at 0x285c7c7ef08>]"
      ]
     },
     "execution_count": 22,
     "metadata": {},
     "output_type": "execute_result"
    },
    {
     "data": {
      "image/png": "[encoded data removed]",
      "text/plain": [
       "<Figure size 432x288 with 1 Axes>"
      ]
     },
     "metadata": {
      "needs_background": "light"
     },
     "output_type": "display_data"
    }
   ],
   "source": [
    "# plt.figure(figsize=(15,10))\n",
    "plt.plot(data['Voltage(V)'][151450:151550])"
   ]
  },
  {
   "cell_type": "code",
   "execution_count": 118,
   "metadata": {},
   "outputs": [
    {
     "data": {
      "text/plain": [
       "array([0.59033537, 0.37387907])"
      ]
     },
     "execution_count": 118,
     "metadata": {},
     "output_type": "execute_result"
    }
   ],
   "source": [
    "recovery_rate[0]"
   ]
  },
  {
   "cell_type": "code",
   "execution_count": 78,
   "metadata": {},
   "outputs": [
    {
     "name": "stderr",
     "output_type": "stream",
     "text": [
      "100%|████████████████████████████████████████████████████████████████████████████████| 16/16 [00:00<00:00, 5335.84it/s]\n"
     ]
    }
   ],
   "source": [
    "date_=[] #replace korean to english\n",
    "\n",
    "for i in recovery_time.flatten():\n",
    "    i = i.replace(\"오전\", \"AM\")\n",
    "    i = i.replace(\"오후\", \"PM\")\n",
    "    date_.append(i)\n",
    "    \n",
    "date__=[] #split blank\n",
    "\n",
    "for i in date_:\n",
    "    date__.append(i.split(\" \"))\n",
    "    \n",
    "date___=[] #switch index\n",
    "\n",
    "for i in date__: #위치 변경\n",
    "    tmp = i[1] \n",
    "    i[1] = i[2]\n",
    "    i[2] = tmp\n",
    "    date___.append(i)\n",
    "    \n",
    "parsing_date=[]\n",
    "\n",
    "for i in tqdm(date___):\n",
    "    #print('parsing: ', i, \"=\", (\" \").join(i))\n",
    "    dt = parse((\" \").join(i)) #list to string\n",
    "    #print(dt)\n",
    "    #print()\n",
    "    parsing_date.append(dt)\n",
    "    \n",
    "recovery_time = np.array(parsing_date).reshape(recovery_time.shape[0], 2)"
   ]
  },
  {
   "cell_type": "code",
   "execution_count": 79,
   "metadata": {},
   "outputs": [],
   "source": [
    "re_time = np.array([])\n",
    "for i in recovery_time:\n",
    "    re_time = np.append(re_time, np.array((i[1]-i[0]).seconds))"
   ]
  },
  {
   "cell_type": "code",
   "execution_count": 20,
   "metadata": {
    "scrolled": true
   },
   "outputs": [
    {
     "data": {
      "text/plain": [
       "[<matplotlib.lines.Line2D at 0x1d380ffd708>]"
      ]
     },
     "execution_count": 20,
     "metadata": {},
     "output_type": "execute_result"
    },
    {
     "data": {
      "image/png": "[encoded data removed]",
      "text/plain": [
       "<Figure size 432x288 with 1 Axes>"
      ]
     },
     "metadata": {
      "needs_background": "light"
     },
     "output_type": "display_data"
    }
   ],
   "source": [
    "plt.plot(re_time) #통신 중 ~ 회복 전압"
   ]
  },
  {
   "cell_type": "code",
   "execution_count": 51,
   "metadata": {
    "scrolled": true
   },
   "outputs": [
    {
     "data": {
      "text/plain": [
       "[<matplotlib.lines.Line2D at 0x1d3879087c8>]"
      ]
     },
     "execution_count": 51,
     "metadata": {},
     "output_type": "execute_result"
    },
    {
     "data": {
      "image/png": "[encoded data removed]",
      "text/plain": [
       "<Figure size 432x288 with 1 Axes>"
      ]
     },
     "metadata": {
      "needs_background": "light"
     },
     "output_type": "display_data"
    }
   ],
   "source": [
    "plt.plot(re_time, c=\"r\") #통신 끝 ~ 회복 전압"
   ]
  },
  {
   "cell_type": "code",
   "execution_count": null,
   "metadata": {},
   "outputs": [],
   "source": []
  },
  {
   "cell_type": "code",
   "execution_count": 18,
   "metadata": {},
   "outputs": [
    {
     "name": "stderr",
     "output_type": "stream",
     "text": [
      "100%|████████████████████████████████████████████████████████████████████| 5266/5266 [00:00<00:00, 158923.62it/s]\n"
     ]
    }
   ],
   "source": [
    "mAh = np.array([], dtype=int)\n",
    "current = 0\n",
    "\n",
    "for i in tqdm(range(int(len(ref)/2))):\n",
    "    current += 3800\n",
    "    cap = current / 3600\n",
    "    mAh = np.append(mAh, np.array(cap))"
   ]
  },
  {
   "cell_type": "code",
   "execution_count": 19,
   "metadata": {},
   "outputs": [],
   "source": [
    "mAh_ = mAh/8500 * 100 #21158"
   ]
  },
  {
   "cell_type": "code",
   "execution_count": 20,
   "metadata": {
    "scrolled": false
   },
   "outputs": [
    {
     "data": {
      "text/plain": [
       "5558.555555555556"
      ]
     },
     "execution_count": 20,
     "metadata": {},
     "output_type": "execute_result"
    }
   ],
   "source": [
    "cap"
   ]
  },
  {
   "cell_type": "code",
   "execution_count": 21,
   "metadata": {
    "scrolled": true
   },
   "outputs": [
    {
     "data": {
      "text/plain": [
       "65.39477124183006"
      ]
     },
     "execution_count": 21,
     "metadata": {},
     "output_type": "execute_result"
    }
   ],
   "source": [
    "mAh_[-1]"
   ]
  },
  {
   "cell_type": "code",
   "execution_count": 22,
   "metadata": {
    "scrolled": false
   },
   "outputs": [
    {
     "data": {
      "text/plain": [
       "[<matplotlib.lines.Line2D at 0x1e202956188>]"
      ]
     },
     "execution_count": 22,
     "metadata": {},
     "output_type": "execute_result"
    },
    {
     "data": {
      "image/png": "[encoded data removed]",
      "text/plain": [
       "<Figure size 432x288 with 1 Axes>"
      ]
     },
     "metadata": {
      "needs_background": "light"
     },
     "output_type": "display_data"
    }
   ],
   "source": [
    "plt.plot(mAh_)"
   ]
  },
  {
   "cell_type": "markdown",
   "metadata": {},
   "source": [
    "#### 전압 회복 시간 계산"
   ]
  },
  {
   "cell_type": "code",
   "execution_count": 25,
   "metadata": {
    "scrolled": false
   },
   "outputs": [],
   "source": [
    "re_time = np.array([])\n",
    "for i in recovery_time:\n",
    "    re_time = np.append(re_time, np.array((i[1]-i[0]).seconds))"
   ]
  },
  {
   "cell_type": "raw",
   "metadata": {},
   "source": [
    "re_time = np.delete(re_time,627)"
   ]
  },
  {
   "cell_type": "code",
   "execution_count": 27,
   "metadata": {
    "scrolled": true
   },
   "outputs": [
    {
     "data": {
      "text/plain": [
       "[<matplotlib.lines.Line2D at 0x1e20687dd88>]"
      ]
     },
     "execution_count": 27,
     "metadata": {},
     "output_type": "execute_result"
    },
    {
     "data": {
      "image/png": "[encoded data removed]",
      "text/plain": [
       "<Figure size 432x288 with 1 Axes>"
      ]
     },
     "metadata": {
      "needs_background": "light"
     },
     "output_type": "display_data"
    }
   ],
   "source": [
    "plt.plot(re_time) #통신 끝 ~ 회복 전압"
   ]
  },
  {
   "cell_type": "code",
   "execution_count": 223,
   "metadata": {
    "scrolled": false
   },
   "outputs": [
    {
     "data": {
      "text/plain": [
       "[<matplotlib.lines.Line2D at 0x195807bf988>]"
      ]
     },
     "execution_count": 223,
     "metadata": {},
     "output_type": "execute_result"
    },
    {
     "data": {
      "image/png": "[encoded data removed]",
      "text/plain": [
       "<Figure size 432x288 with 1 Axes>"
      ]
     },
     "metadata": {
      "needs_background": "light"
     },
     "output_type": "display_data"
    }
   ],
   "source": [
    "plt.plot(re_time) #기준 전압 ~ 회복 전압"
   ]
  },
  {
   "cell_type": "markdown",
   "metadata": {},
   "source": [
    "*평균 전압 회복 시간*"
   ]
  },
  {
   "cell_type": "code",
   "execution_count": 224,
   "metadata": {
    "scrolled": true
   },
   "outputs": [
    {
     "data": {
      "text/plain": [
       "137.35152284263958"
      ]
     },
     "execution_count": 224,
     "metadata": {},
     "output_type": "execute_result"
    }
   ],
   "source": [
    "np.average(re_time)"
   ]
  },
  {
   "cell_type": "code",
   "execution_count": 262,
   "metadata": {
    "scrolled": true
   },
   "outputs": [
    {
     "data": {
      "text/plain": [
       "29.911167512690355"
      ]
     },
     "execution_count": 262,
     "metadata": {},
     "output_type": "execute_result"
    }
   ],
   "source": [
    "np.average(re_time)"
   ]
  },
  {
   "cell_type": "markdown",
   "metadata": {},
   "source": [
    "#### 전압 회복 시간, 최대 전압 변화율 파일로 저장"
   ]
  },
  {
   "cell_type": "code",
   "execution_count": 185,
   "metadata": {},
   "outputs": [],
   "source": [
    "max_rate = np.max(recovery_rate[:], axis=1)"
   ]
  },
  {
   "cell_type": "raw",
   "metadata": {},
   "source": [
    "max_rate = np.delete(max_rate, 627)"
   ]
  },
  {
   "cell_type": "code",
   "execution_count": 204,
   "metadata": {},
   "outputs": [],
   "source": [
    "f = open(\"NORMAL+EDLC(0-100-40).csv\", \"w\")\n",
    "f.write(\"recovery_time(s), max_rate\\n\")\n",
    "\n",
    "for i in range(int(len(max_rate))):\n",
    "    f.write(str(re_time[i]) + \", \" + str(max_rate[i]) + \"\\n\")\n",
    "    \n",
    "f.close()"
   ]
  },
  {
   "cell_type": "code",
   "execution_count": null,
   "metadata": {},
   "outputs": [],
   "source": []
  },
  {
   "cell_type": "code",
   "execution_count": 146,
   "metadata": {
    "scrolled": false
   },
   "outputs": [
    {
     "data": {
      "text/plain": [
       "[<matplotlib.lines.Line2D at 0x195f4a0d888>]"
      ]
     },
     "execution_count": 146,
     "metadata": {},
     "output_type": "execute_result"
    },
    {
     "data": {
      "image/png": "[encoded data removed]",
      "text/plain": [
       "<Figure size 432x288 with 1 Axes>"
      ]
     },
     "metadata": {
      "needs_background": "light"
     },
     "output_type": "display_data"
    }
   ],
   "source": [
    "plt.plot(np.max(recovery_rate[600:], axis=1)) #627"
   ]
  }
 ],
 "metadata": {
  "kernelspec": {
   "display_name": "Python 3",
   "language": "python",
   "name": "python3"
  },
  "language_info": {
   "codemirror_mode": {
    "name": "ipython",
    "version": 3
   },
   "file_extension": ".py",
   "mimetype": "text/x-python",
   "name": "python",
   "nbconvert_exporter": "python",
   "pygments_lexer": "ipython3",
   "version": "3.7.9"
  }
 },
 "nbformat": 4,
 "nbformat_minor": 2
}
