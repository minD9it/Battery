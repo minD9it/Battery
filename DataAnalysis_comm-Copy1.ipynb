{
 "cells": [
  {
   "cell_type": "code",
   "execution_count": 1,
   "metadata": {},
   "outputs": [],
   "source": [
    "import numpy as np\n",
    "import pandas as pd\n",
    "import datetime as dt\n",
    "import matplotlib.pyplot as plt\n",
    "\n",
    "from dateutil.parser import parse\n",
    "from datetime import timedelta\n",
    "from tqdm import tqdm"
   ]
  },
  {
   "cell_type": "markdown",
   "metadata": {},
   "source": [
    "### 데이터 불러오기"
   ]
  },
  {
   "cell_type": "code",
   "execution_count": 207,
   "metadata": {
    "scrolled": true
   },
   "outputs": [],
   "source": [
    "data = pd.read_csv(\"data/0mA(3s)-100mA(1s)-40mA(7s)x10-0mA(40s)_normal+EDLC.csv\").iloc[:, :3]"
   ]
  },
  {
   "cell_type": "markdown",
   "metadata": {},
   "source": [
    "### 기준 전압 인덱스 구하기"
   ]
  },
  {
   "cell_type": "code",
   "execution_count": 208,
   "metadata": {},
   "outputs": [],
   "source": [
    "comm_A = np.where(data['Current(A)'] > 0.0900) #통신 전류"
   ]
  },
  {
   "cell_type": "code",
   "execution_count": 209,
   "metadata": {},
   "outputs": [
    {
     "name": "stdout",
     "output_type": "stream",
     "text": [
      "false\n"
     ]
    }
   ],
   "source": [
    "# 전압이 2V 이하인 통신 전류 데이터 인덱스가 없는 경우\n",
    "if len(np.where(data['Voltage(V)'] < 2.000)[0]) == 0:\n",
    "    print(\"false\")\n",
    "    comm__ = np.array(comm_A[0]) #comm_A[0]의 type이 tuple이기 때문에\n",
    "    comm__ = np.array(comm__)\n",
    "\n",
    "# 전압이 2V 이하인 통신 전류 데이터 인덱스가 있는 경우\n",
    "else:\n",
    "    print(\"true\")\n",
    "    comm_V_ = np.where(data['Voltage(V)'] < 2.000) #2v가 넘는 곳의 인덱스\n",
    "    comm_V = np.array(comm_V_[0])\n",
    "    comm__ = comm_A\n",
    "    \n",
    "    #전압이 낮은 곳 제거\n",
    "    for i in comm_V:\n",
    "        comm__ = np.delete(comm__, np.where(comm__ == i))\n",
    "\n",
    "    comm__ = np.array(comm__)"
   ]
  },
  {
   "cell_type": "markdown",
   "metadata": {},
   "source": [
    "#### 통신 전류 시작 인덱스 하나만"
   ]
  },
  {
   "cell_type": "code",
   "execution_count": 210,
   "metadata": {},
   "outputs": [],
   "source": [
    "#첫 번째 인덱스는 넣어두고 시작\n",
    "comm_ = np.array(comm__[0])\n",
    "\n",
    "for idx in range(comm__.shape[0]-1):\n",
    "    #현재 값+1과 다음값이 같지 않으면 연속된 숫자가 아니라는 것으로 추가함\n",
    "    if comm__[idx]+1 != comm__[idx+1]:\n",
    "        comm_ = np.append(comm_, comm__[idx+1])"
   ]
  },
  {
   "cell_type": "markdown",
   "metadata": {},
   "source": [
    "#### 사이클이 10번 반복되기 때문에 현재+9까지는 없어야 함"
   ]
  },
  {
   "cell_type": "markdown",
   "metadata": {},
   "source": [
    "##### 오류가 나는 이유는 10개의 주기가 없는 경우가 있기 때문(중간에 끊어져서)\n",
    "- 기준 전압 인덱스, 주기 마지막 인덱스, 기준 전압, 주기 마지막,...."
   ]
  },
  {
   "cell_type": "code",
   "execution_count": 211,
   "metadata": {
    "scrolled": true
   },
   "outputs": [
    {
     "ename": "IndexError",
     "evalue": "index 7899 is out of bounds for axis 0 with size 7899",
     "output_type": "error",
     "traceback": [
      "\u001b[1;31m---------------------------------------------------------------------------\u001b[0m",
      "\u001b[1;31mIndexError\u001b[0m                                Traceback (most recent call last)",
      "\u001b[1;32m<ipython-input-211-ad74ccdcbde7>\u001b[0m in \u001b[0;36m<module>\u001b[1;34m\u001b[0m\n\u001b[0;32m      3\u001b[0m \u001b[1;32mfor\u001b[0m \u001b[0mi\u001b[0m \u001b[1;32min\u001b[0m \u001b[0mrange\u001b[0m\u001b[1;33m(\u001b[0m\u001b[1;36m0\u001b[0m\u001b[1;33m,\u001b[0m \u001b[0mcomm_\u001b[0m\u001b[1;33m.\u001b[0m\u001b[0mshape\u001b[0m\u001b[1;33m[\u001b[0m\u001b[1;36m0\u001b[0m\u001b[1;33m]\u001b[0m\u001b[1;33m,\u001b[0m \u001b[1;36m10\u001b[0m\u001b[1;33m)\u001b[0m\u001b[1;33m:\u001b[0m\u001b[1;33m\u001b[0m\u001b[1;33m\u001b[0m\u001b[0m\n\u001b[0;32m      4\u001b[0m     \u001b[0mcomm\u001b[0m \u001b[1;33m=\u001b[0m \u001b[0mnp\u001b[0m\u001b[1;33m.\u001b[0m\u001b[0mappend\u001b[0m\u001b[1;33m(\u001b[0m\u001b[0mcomm\u001b[0m\u001b[1;33m,\u001b[0m \u001b[0mcomm_\u001b[0m\u001b[1;33m[\u001b[0m\u001b[0mi\u001b[0m\u001b[1;33m]\u001b[0m\u001b[1;33m)\u001b[0m\u001b[1;33m\u001b[0m\u001b[1;33m\u001b[0m\u001b[0m\n\u001b[1;32m----> 5\u001b[1;33m     \u001b[0mcomm\u001b[0m \u001b[1;33m=\u001b[0m \u001b[0mnp\u001b[0m\u001b[1;33m.\u001b[0m\u001b[0mappend\u001b[0m\u001b[1;33m(\u001b[0m\u001b[0mcomm\u001b[0m\u001b[1;33m,\u001b[0m \u001b[0mcomm_\u001b[0m\u001b[1;33m[\u001b[0m\u001b[0mi\u001b[0m\u001b[1;33m+\u001b[0m\u001b[1;36m9\u001b[0m\u001b[1;33m]\u001b[0m\u001b[1;33m)\u001b[0m\u001b[1;33m\u001b[0m\u001b[1;33m\u001b[0m\u001b[0m\n\u001b[0m",
      "\u001b[1;31mIndexError\u001b[0m: index 7899 is out of bounds for axis 0 with size 7899"
     ]
    }
   ],
   "source": [
    "comm = np.array([], dtype=int)\n",
    "\n",
    "for i in range(0, comm_.shape[0], 10):\n",
    "    comm = np.append(comm, comm_[i])\n",
    "    comm = np.append(comm, comm_[i+9])"
   ]
  },
  {
   "cell_type": "markdown",
   "metadata": {},
   "source": [
    "#### 기준 전압은 통신 시작 전류 인덱스 바로 전"
   ]
  },
  {
   "cell_type": "code",
   "execution_count": 212,
   "metadata": {
    "scrolled": true
   },
   "outputs": [],
   "source": [
    "t_crit = comm - 1"
   ]
  },
  {
   "cell_type": "code",
   "execution_count": 213,
   "metadata": {},
   "outputs": [],
   "source": [
    "if t_crit.shape[0]%2 != 0:\n",
    "    t_crit = t_crit[:-1]"
   ]
  },
  {
   "cell_type": "markdown",
   "metadata": {},
   "source": [
    "#### 인덱스 조정: 전압이 떨어지는 순간부터"
   ]
  },
  {
   "cell_type": "code",
   "execution_count": 214,
   "metadata": {},
   "outputs": [
    {
     "name": "stderr",
     "output_type": "stream",
     "text": [
      "100%|████████████████████████████████████████████████████████████████████████████| 1578/1578 [00:00<00:00, 6955.49it/s]\n"
     ]
    }
   ],
   "source": [
    "ref = np.array([], dtype=int)\n",
    "\n",
    "for t in tqdm(t_crit):\n",
    "    tmp = t  #tmp는 >0.020 이전의 전압 인덱스\n",
    "    \n",
    "    for i in range(1, 5): #4번 loop\n",
    "        #전압(+): t < t-1\n",
    "        if (data['Voltage(V)'][tmp] < data['Voltage(V)'][t-i]):\n",
    "            #t-1 > t-2 => 인덱스 변경: t-i\n",
    "            if data['Voltage(V)'][t-i] >= data['Voltage(V)'][t-i-1]: #이전 이전의 전압이 더 작으면\n",
    "                tmp = t-i\n",
    "                break\n",
    "            else:\n",
    "                tmp = t- i\n",
    "        #전압 (-), 전류 (+) => 인덱스 변경: t-i\n",
    "        elif (data['Voltage(V)'][tmp] > data['Voltage(V)'][t-i]) and (data['Current(A)'][tmp] < data['Current(A)'][t-i]) and (data['Current(A)'][tmp] != 0.0000) and (data['Current(A)'][t-i] > 0.020):\n",
    "            tmp = t-i\n",
    "        #전압(-) => 인덱스 유지\n",
    "        elif data['Voltage(V)'][tmp] > data['Voltage(V)'][t-i]:\n",
    "            break\n",
    "        #전압이 같음: t == t-1\n",
    "        elif data['Voltage(V)'][tmp] == data['Voltage(V)'][t-i]:\n",
    "            #t-1 < t-2 => 인덱스 변경: t-i-1\n",
    "            if data['Voltage(V)'][t-i] < data['Voltage(V)'][t-i-1]:\n",
    "                tmp = t-i-1\n",
    "                break\n",
    "            \n",
    "    ref = np.append(ref, tmp)\n",
    "            \n",
    "ref = np.unique(ref) #중복 값 제거"
   ]
  },
  {
   "cell_type": "markdown",
   "metadata": {},
   "source": [
    "### 전압 회복 시간, 회복률, 전압을 확인하기 위함\n",
    "- recovery_time [[통신 전, crit_time]]\n",
    "- recovery_rate [[통신 중(최대), crit_rate]]\n",
    "- recovery_volt [[통신 전, 통신 중(최소), crit_volt]]\n",
    "- crit = 기준 전압 회복률\n",
    "- 회복률이 crit 이하가 되거나 0이 아니면 다음 통신 데이터로\n",
    "    - 기준 전압과 통신 전압이 같은 부분이 있어 이상한 데이터가 그려짐 (회복률이 0이 아니면)\n",
    "- np.delete()하는 이유는 처음에 np.zeros(())로 만들었기 때문에 제일 처음에 0 값이 들어가 있음\n",
    "    - np.empty(())를 사용하면 쓰레기 값이 들어가 있음 (어차피 같음)"
   ]
  },
  {
   "cell_type": "code",
   "execution_count": 215,
   "metadata": {},
   "outputs": [
    {
     "name": "stderr",
     "output_type": "stream",
     "text": [
      "100%|███████████████████████████████████████████████████████████████████████████████| 789/789 [00:07<00:00, 109.87it/s]\n"
     ]
    }
   ],
   "source": [
    "recovery_time=np.zeros((1,2)) #시간은 통신 전, 회복(crit) 시간\n",
    "recovery_rate=np.zeros((1,2), dtype=int) #통신(최대), crit(0.5 or smaller)\n",
    "recovery_volt=np.zeros((1,3), dtype=int) #통신전, 통신(최소), 회복\n",
    "index = np.zeros((1,2))\n",
    "\n",
    "crit = 0.50\n",
    "\n",
    "for i in tqdm(range(0, len(ref), 2)): #기준 전압\n",
    "    r = np.array([]) #max을 구하기 위해서 rate값을 넣을 배열을 생성\n",
    "    v = np.array([]) #min을 구하기 위해서 volt값을 넣을 배열을 생성\n",
    "    \n",
    "    idx = ref[i]\n",
    "    idx2 = ref[i+1]+1\n",
    "    for j in range(1, 300):\n",
    "        rate = (data['Voltage(V)'][idx] - data['Voltage(V)'][idx2+j])/data['Voltage(V)'][idx] * 100 #(기준전압 - 현재전압)/기준전압 *100\n",
    "        r = np.append(r, np.array([rate])) #배열에 위에서 구한 전압 변화율 추가\n",
    "        v = np.append(v, np.array([data['Voltage(V)'][idx2+j]])) #배열에 현재 전압값 추가\n",
    "\n",
    "        #회복 전압이면 반복을 멈추고 각 배열에 요소 추가\n",
    "        # 1. 현재 전압 < 다음 전압 && 2. 다음 전류가 0.020보다 작을 때 && 3. 현재 전압 변화율 <= 기준 전압 변화율 && 4. 전압 변화율 != 0\n",
    "        if (data['Voltage(V)'][idx2+j] < data['Voltage(V)'][idx2+j+1]) and (data['Current(A)'][idx2+j+1] < 0.020) and (rate <= crit) and (rate != 0.0000):\n",
    "            #전압 변화율 추가(최대 전압 변화율(최저 전압), 현재 전압 변화율)\n",
    "            recovery_rate = np.append(recovery_rate, np.array([np.max(r), rate]).reshape(1,2), axis=0)\n",
    "            #전압 회복 시간(기준 전압 시간, 회복 전압 시간)\n",
    "            recovery_time = np.append(recovery_time, np.array([data['Time'][idx], data['Time'][idx2+j]]).reshape(1,2), axis=0)\n",
    "            #전압(기준 전압, 최저 전압, 회복 전압)\n",
    "            recovery_volt = np.append(recovery_volt, np.array([data['Voltage(V)'][idx], np.min(v), data['Voltage(V)'][idx2+j]]).reshape(1,3), axis=0)\n",
    "\n",
    "            index = np.append(index, np.array([idx, (idx2+j)]).reshape(1,2), axis=0)\n",
    "            break\n",
    "            \n",
    "recovery_rate = np.delete(recovery_rate, 0, 0)\n",
    "recovery_time = np.delete(recovery_time, 0, 0)\n",
    "recovery_volt = np.delete(recovery_volt, 0, 0)\n",
    "index = np.delete(index, 0, 0)"
   ]
  },
  {
   "cell_type": "markdown",
   "metadata": {},
   "source": [
    "### 시간을 timedelt로 변경하기 위함"
   ]
  },
  {
   "cell_type": "code",
   "execution_count": 216,
   "metadata": {},
   "outputs": [
    {
     "name": "stderr",
     "output_type": "stream",
     "text": [
      "100%|███████████████████████████████████████████████████████████████████████████| 1578/1578 [00:00<00:00, 10812.76it/s]\n"
     ]
    }
   ],
   "source": [
    "date_=[] #replace korean to english\n",
    "\n",
    "for i in recovery_time.flatten():\n",
    "    i = i.replace(\"오전\", \"AM\")\n",
    "    i = i.replace(\"오후\", \"PM\")\n",
    "    date_.append(i)\n",
    "    \n",
    "date__=[] #split blank\n",
    "\n",
    "for i in date_:\n",
    "    date__.append(i.split(\" \"))\n",
    "    \n",
    "date___=[] #switch index\n",
    "\n",
    "for i in date__: #위치 변경\n",
    "    tmp = i[1] \n",
    "    i[1] = i[2]\n",
    "    i[2] = tmp\n",
    "    date___.append(i)\n",
    "    \n",
    "parsing_date=[]\n",
    "\n",
    "for i in tqdm(date___):\n",
    "    #print('parsing: ', i, \"=\", (\" \").join(i))\n",
    "    dt = parse((\" \").join(i)) #list to string\n",
    "    #print(dt)\n",
    "    #print()\n",
    "    parsing_date.append(dt)\n",
    "    \n",
    "recovery_time = np.array(parsing_date).reshape(recovery_time.shape[0], 2)"
   ]
  },
  {
   "cell_type": "markdown",
   "metadata": {},
   "source": [
    "### 그래프를 그려 변화 확인"
   ]
  },
  {
   "cell_type": "markdown",
   "metadata": {},
   "source": [
    "*normal+edlc -> 10 cycles*"
   ]
  },
  {
   "cell_type": "code",
   "execution_count": 217,
   "metadata": {
    "scrolled": false
   },
   "outputs": [
    {
     "data": {
      "text/plain": [
       "[<matplotlib.lines.Line2D at 0x195818c2b48>]"
      ]
     },
     "execution_count": 217,
     "metadata": {},
     "output_type": "execute_result"
    },
    {
     "data": {
      "image/png": "[encoded data removed]",
      "text/plain": [
       "<Figure size 432x288 with 1 Axes>"
      ]
     },
     "metadata": {
      "needs_background": "light"
     },
     "output_type": "display_data"
    }
   ],
   "source": [
    "plt.plot(np.max(recovery_rate[:], axis=1))"
   ]
  },
  {
   "cell_type": "code",
   "execution_count": 146,
   "metadata": {
    "scrolled": true
   },
   "outputs": [
    {
     "data": {
      "text/plain": [
       "[<matplotlib.lines.Line2D at 0x195f4a0d888>]"
      ]
     },
     "execution_count": 146,
     "metadata": {},
     "output_type": "execute_result"
    },
    {
     "data": {
      "image/png": "[encoded data removed]",
      "text/plain": [
       "<Figure size 432x288 with 1 Axes>"
      ]
     },
     "metadata": {
      "needs_background": "light"
     },
     "output_type": "display_data"
    }
   ],
   "source": [
    "plt.plot(np.max(recovery_rate[600:], axis=1)) #627"
   ]
  },
  {
   "cell_type": "code",
   "execution_count": 219,
   "metadata": {
    "scrolled": false
   },
   "outputs": [
    {
     "data": {
      "text/plain": [
       "[<matplotlib.lines.Line2D at 0x1958003f308>]"
      ]
     },
     "execution_count": 219,
     "metadata": {},
     "output_type": "execute_result"
    },
    {
     "data": {
      "image/png": "[encoded data removed]",
      "text/plain": [
       "<Figure size 432x288 with 1 Axes>"
      ]
     },
     "metadata": {
      "needs_background": "light"
     },
     "output_type": "display_data"
    }
   ],
   "source": [
    "plt.plot(data['Voltage(V)'][:])"
   ]
  },
  {
   "cell_type": "markdown",
   "metadata": {},
   "source": [
    "#### 전압 회복 시간 계산"
   ]
  },
  {
   "cell_type": "code",
   "execution_count": 220,
   "metadata": {
    "scrolled": true
   },
   "outputs": [],
   "source": [
    "re_time = np.array([])\n",
    "for i in recovery_time:\n",
    "    re_time = np.append(re_time, np.array((i[1]-i[0]).seconds))"
   ]
  },
  {
   "cell_type": "raw",
   "metadata": {},
   "source": [
    "re_time = np.delete(re_time,627)"
   ]
  },
  {
   "cell_type": "code",
   "execution_count": 223,
   "metadata": {
    "scrolled": false
   },
   "outputs": [
    {
     "data": {
      "text/plain": [
       "[<matplotlib.lines.Line2D at 0x195807bf988>]"
      ]
     },
     "execution_count": 223,
     "metadata": {},
     "output_type": "execute_result"
    },
    {
     "data": {
      "image/png": "[encoded data removed]",
      "text/plain": [
       "<Figure size 432x288 with 1 Axes>"
      ]
     },
     "metadata": {
      "needs_background": "light"
     },
     "output_type": "display_data"
    }
   ],
   "source": [
    "plt.plot(re_time)"
   ]
  },
  {
   "cell_type": "markdown",
   "metadata": {},
   "source": [
    "*평균 전압 회복 시간*"
   ]
  },
  {
   "cell_type": "code",
   "execution_count": 224,
   "metadata": {
    "scrolled": true
   },
   "outputs": [
    {
     "data": {
      "text/plain": [
       "137.35152284263958"
      ]
     },
     "execution_count": 224,
     "metadata": {},
     "output_type": "execute_result"
    }
   ],
   "source": [
    "np.average(re_time)"
   ]
  },
  {
   "cell_type": "code",
   "execution_count": null,
   "metadata": {},
   "outputs": [],
   "source": []
  },
  {
   "cell_type": "markdown",
   "metadata": {},
   "source": [
    "#### 전압 회복 시간, 최대 전압 변화율 파일로 저장"
   ]
  },
  {
   "cell_type": "code",
   "execution_count": 185,
   "metadata": {},
   "outputs": [],
   "source": [
    "max_rate = np.max(recovery_rate[:], axis=1)"
   ]
  },
  {
   "cell_type": "raw",
   "metadata": {},
   "source": [
    "max_rate = np.delete(max_rate, 627)"
   ]
  },
  {
   "cell_type": "code",
   "execution_count": 204,
   "metadata": {},
   "outputs": [],
   "source": [
    "f = open(\"NORMAL+EDLC(0-100-40).csv\", \"w\")\n",
    "f.write(\"recovery_time(s), max_rate\\n\")\n",
    "\n",
    "for i in range(int(len(max_rate))):\n",
    "    f.write(str(re_time[i]) + \", \" + str(max_rate[i]) + \"\\n\")\n",
    "    \n",
    "f.close()"
   ]
  },
  {
   "cell_type": "code",
   "execution_count": null,
   "metadata": {},
   "outputs": [],
   "source": []
  }
 ],
 "metadata": {
  "kernelspec": {
   "display_name": "Python 3",
   "language": "python",
   "name": "python3"
  },
  "language_info": {
   "codemirror_mode": {
    "name": "ipython",
    "version": 3
   },
   "file_extension": ".py",
   "mimetype": "text/x-python",
   "name": "python",
   "nbconvert_exporter": "python",
   "pygments_lexer": "ipython3",
   "version": "3.7.9"
  }
 },
 "nbformat": 4,
 "nbformat_minor": 2
}
