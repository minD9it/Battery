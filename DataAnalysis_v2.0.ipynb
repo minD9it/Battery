{
 "cells": [
  {
   "cell_type": "code",
   "execution_count": 287,
   "metadata": {},
   "outputs": [],
   "source": [
    "import numpy as np\n",
    "import pandas as pd\n",
    "import datetime as dt\n",
    "import matplotlib.pyplot as plt\n",
    "\n",
    "from dateutil.parser import parse\n",
    "from datetime import timedelta\n",
    "from tqdm import tqdm"
   ]
  },
  {
   "cell_type": "markdown",
   "metadata": {},
   "source": [
    "### 데이터 불러오기"
   ]
  },
  {
   "cell_type": "code",
   "execution_count": 288,
   "metadata": {
    "scrolled": true
   },
   "outputs": [
    {
     "data": {
      "text/html": [
       "<div>\n",
       "<style scoped>\n",
       "    .dataframe tbody tr th:only-of-type {\n",
       "        vertical-align: middle;\n",
       "    }\n",
       "\n",
       "    .dataframe tbody tr th {\n",
       "        vertical-align: top;\n",
       "    }\n",
       "\n",
       "    .dataframe thead th {\n",
       "        text-align: right;\n",
       "    }\n",
       "</style>\n",
       "<table border=\"1\" class=\"dataframe\">\n",
       "  <thead>\n",
       "    <tr style=\"text-align: right;\">\n",
       "      <th></th>\n",
       "      <th>Voltage(V)</th>\n",
       "      <th>Current(A)</th>\n",
       "      <th>Resistance(Ohm)</th>\n",
       "      <th>Power(W)</th>\n",
       "    </tr>\n",
       "  </thead>\n",
       "  <tbody>\n",
       "    <tr>\n",
       "      <th>count</th>\n",
       "      <td>833772.000000</td>\n",
       "      <td>833772.000000</td>\n",
       "      <td>833772.000000</td>\n",
       "      <td>833772.000000</td>\n",
       "    </tr>\n",
       "    <tr>\n",
       "      <th>mean</th>\n",
       "      <td>3.613065</td>\n",
       "      <td>0.000857</td>\n",
       "      <td>4.328396</td>\n",
       "      <td>0.003030</td>\n",
       "    </tr>\n",
       "    <tr>\n",
       "      <th>std</th>\n",
       "      <td>0.014142</td>\n",
       "      <td>0.004879</td>\n",
       "      <td>101.781528</td>\n",
       "      <td>0.017255</td>\n",
       "    </tr>\n",
       "    <tr>\n",
       "      <th>min</th>\n",
       "      <td>3.502600</td>\n",
       "      <td>-0.003300</td>\n",
       "      <td>0.000000</td>\n",
       "      <td>0.000000</td>\n",
       "    </tr>\n",
       "    <tr>\n",
       "      <th>25%</th>\n",
       "      <td>3.614500</td>\n",
       "      <td>0.000000</td>\n",
       "      <td>0.000000</td>\n",
       "      <td>0.000000</td>\n",
       "    </tr>\n",
       "    <tr>\n",
       "      <th>50%</th>\n",
       "      <td>3.616800</td>\n",
       "      <td>0.000000</td>\n",
       "      <td>0.000000</td>\n",
       "      <td>0.000000</td>\n",
       "    </tr>\n",
       "    <tr>\n",
       "      <th>75%</th>\n",
       "      <td>3.618200</td>\n",
       "      <td>0.000000</td>\n",
       "      <td>0.000000</td>\n",
       "      <td>0.000000</td>\n",
       "    </tr>\n",
       "    <tr>\n",
       "      <th>max</th>\n",
       "      <td>3.620500</td>\n",
       "      <td>0.033900</td>\n",
       "      <td>68474.227000</td>\n",
       "      <td>0.119000</td>\n",
       "    </tr>\n",
       "  </tbody>\n",
       "</table>\n",
       "</div>"
      ],
      "text/plain": [
       "          Voltage(V)     Current(A)  Resistance(Ohm)       Power(W)\n",
       "count  833772.000000  833772.000000    833772.000000  833772.000000\n",
       "mean        3.613065       0.000857         4.328396       0.003030\n",
       "std         0.014142       0.004879       101.781528       0.017255\n",
       "min         3.502600      -0.003300         0.000000       0.000000\n",
       "25%         3.614500       0.000000         0.000000       0.000000\n",
       "50%         3.616800       0.000000         0.000000       0.000000\n",
       "75%         3.618200       0.000000         0.000000       0.000000\n",
       "max         3.620500       0.033900     68474.227000       0.119000"
      ]
     },
     "execution_count": 288,
     "metadata": {},
     "output_type": "execute_result"
    }
   ],
   "source": [
    "data = pd.read_csv(\"data/0mA(29s)_30mA(1s)_(normal).csv\") #통합 데이터\n",
    "data.describe()"
   ]
  },
  {
   "cell_type": "markdown",
   "metadata": {},
   "source": [
    "### 데이터 자르기 (time, volt, current)"
   ]
  },
  {
   "cell_type": "code",
   "execution_count": 289,
   "metadata": {},
   "outputs": [],
   "source": [
    "data = data.iloc[:, :3] #.values"
   ]
  },
  {
   "cell_type": "markdown",
   "metadata": {},
   "source": [
    "### 시간을 timedelt로 변경하기 위함"
   ]
  },
  {
   "cell_type": "code",
   "execution_count": 290,
   "metadata": {},
   "outputs": [],
   "source": [
    "date_=[] #replace korean to english\n",
    "\n",
    "for i in data['Time'].values:\n",
    "    i = i.replace(\"오전\", \"AM\")\n",
    "    i = i.replace(\"오후\", \"PM\")\n",
    "    date_.append(i)"
   ]
  },
  {
   "cell_type": "code",
   "execution_count": 291,
   "metadata": {},
   "outputs": [],
   "source": [
    "date__=[] #split blank\n",
    "\n",
    "for i in date_:\n",
    "    date__.append(i.split(\" \"))"
   ]
  },
  {
   "cell_type": "code",
   "execution_count": 292,
   "metadata": {},
   "outputs": [],
   "source": [
    "date___=[] #switch index\n",
    "\n",
    "for i in date__:\n",
    "    tmp = i[1]\n",
    "    i[1] = i[2]\n",
    "    i[2] = tmp\n",
    "    date___.append(i)"
   ]
  },
  {
   "cell_type": "code",
   "execution_count": 293,
   "metadata": {},
   "outputs": [
    {
     "name": "stderr",
     "output_type": "stream",
     "text": [
      "100%|███████████████████████████████████████████████████████████████████████| 833772/833772 [01:19<00:00, 10466.77it/s]\n"
     ]
    }
   ],
   "source": [
    "parsing_date=[]\n",
    "\n",
    "for i in tqdm(date___):\n",
    "    #print('parsing: ', i, \"=\", (\" \").join(i))\n",
    "    dt = parse((\" \").join(i)) #list to string\n",
    "    #print(dt)\n",
    "    #print()\n",
    "    parsing_date.append(dt)"
   ]
  },
  {
   "cell_type": "markdown",
   "metadata": {},
   "source": [
    "### 기준 전압 인덱스 구하기"
   ]
  },
  {
   "cell_type": "markdown",
   "metadata": {},
   "source": [
    "#### 통신 전류 기준을 잡는 것도 중요할 것 같음\n",
    "- 문제: 통신 전류는 0이 아닌 0.010, 0.009 등도 포함하지 않으면 갑자기 전압 사용량이 적어지는 것 같은 현상이 발생"
   ]
  },
  {
   "cell_type": "code",
   "execution_count": 333,
   "metadata": {},
   "outputs": [],
   "source": [
    "comm_A = np.where(data['Current(A)'] > 0.010) #통신 전류"
   ]
  },
  {
   "cell_type": "code",
   "execution_count": 349,
   "metadata": {},
   "outputs": [],
   "source": [
    "# 전압이 2V 이하인 통신 전류 데이터 인덱스가 있는 경우\n",
    "if np.where(data['Voltage(V)'] < 2.000):\n",
    "    comm_V_ = np.where(data['Voltage(V)'] < 2.000) #2v가 넘는 곳의 인덱스\n",
    "    comm_V = np.array(comm_V_).reshape(len(comm_V_[0]))\n",
    "    comm_ = comm_A\n",
    "\n",
    "    for i in comm_V:\n",
    "        comm_ = np.delete(comm_, np.where(comm_ == i))\n",
    "        \n",
    "    comm_ = np.array(comm_[0])\n",
    "    comm = np.array(comm_[0])\n",
    "\n",
    "# 전압이 2V 이하인 통신 전류 데이터 인덱스가 없는 경우\n",
    "else:\n",
    "    comm_ = np.array(comm_A[0]) #comm_A[0]의 type이 tuple이기 때문에\n",
    "    comm = np.array(comm_[0])"
   ]
  },
  {
   "cell_type": "markdown",
   "metadata": {},
   "source": [
    "#### 통신 전류 시작 인덱스 하나만"
   ]
  },
  {
   "cell_type": "code",
   "execution_count": 351,
   "metadata": {},
   "outputs": [],
   "source": [
    "for idx in range(comm_.shape[0]-1):\n",
    "#     print(type(comm_))\n",
    "#     print(\"index\", idx, \"i\", comm_[idx])\n",
    "#     print(\"index+1\", idx+1, \"i\", comm_[idx+1])\n",
    "#     print(comm)\n",
    "    if comm_[idx]+1 != comm_[idx+1]:\n",
    "        comm = np.append(comm, comm_[idx+1])\n"
   ]
  },
  {
   "cell_type": "code",
   "execution_count": 352,
   "metadata": {
    "scrolled": true
   },
   "outputs": [
    {
     "data": {
      "text/plain": [
       "array([     8,    129,    258, ..., 833526, 833633, 833743], dtype=int64)"
      ]
     },
     "execution_count": 352,
     "metadata": {},
     "output_type": "execute_result"
    }
   ],
   "source": [
    "comm"
   ]
  },
  {
   "cell_type": "markdown",
   "metadata": {},
   "source": [
    "#### 기준 전압은 통신 시작 전류 인덱스 바로 전"
   ]
  },
  {
   "cell_type": "code",
   "execution_count": 357,
   "metadata": {
    "scrolled": true
   },
   "outputs": [],
   "source": [
    "t_crit = comm - 1"
   ]
  },
  {
   "cell_type": "code",
   "execution_count": 358,
   "metadata": {},
   "outputs": [
    {
     "data": {
      "text/plain": [
       "array([     7,    128,    257, ..., 833525, 833632, 833742], dtype=int64)"
      ]
     },
     "execution_count": 358,
     "metadata": {},
     "output_type": "execute_result"
    }
   ],
   "source": [
    "t_crit"
   ]
  },
  {
   "cell_type": "markdown",
   "metadata": {},
   "source": [
    "### 전압 회복 시간, 회복률, 전압을 확인하기 위함\n",
    "- recovery_time [[통신 전, crit_time]]\n",
    "- recovery_rate [[통신 중(최대), crit_rate]]\n",
    "- recovery_volt [[통신 전, 통신 중(최소), crit_volt]]\n",
    "- crit = 기준 전압 회복률\n",
    "- 회복률이 crit 이하가 되거나 0이 아니면 다음 통신 데이터로\n",
    "    - 기준 전압과 통신 전압이 같은 부분이 있어 이상한 데이터가 그려짐 (회복률이 0이 아니면)\n",
    "- np.delete()하는 이유는 처음에 np.zeros(())로 만들었기 때문에 제일 처음에 0 값이 들어가 있음\n",
    "    - np.empty(())를 사용하면 쓰레기 값이 들어가 있음 (어차피 같음)"
   ]
  },
  {
   "cell_type": "code",
   "execution_count": 359,
   "metadata": {},
   "outputs": [
    {
     "name": "stderr",
     "output_type": "stream",
     "text": [
      "100%|██████████████████████████████████████████████████████████████████████████| 14361/14361 [00:03<00:00, 4531.44it/s]\n"
     ]
    }
   ],
   "source": [
    "ref = np.array([], dtype=int)\n",
    "\n",
    "for t in tqdm(t_crit):\n",
    "    tmp = t  #tmp는 >0.020 이전의 전압 인덱스\n",
    "    \n",
    "    for i in range(1, 5): #4번 loop\n",
    "        #전압(+): t < t-1\n",
    "        if (data['Voltage(V)'][tmp] < data['Voltage(V)'][t-i]):\n",
    "            #t-1 > t-2 => 인덱스 변경: t-i\n",
    "            if data['Voltage(V)'][t-i] >= data['Voltage(V)'][t-i-1]: #이전 이전의 전압이 더 작으면\n",
    "                tmp = t-i\n",
    "                break\n",
    "            else:\n",
    "                tmp = t- i\n",
    "        #전압 (-), 전류 (+) => 인덱스 변경: t-i\n",
    "        elif (data['Voltage(V)'][tmp] > data['Voltage(V)'][t-i]) and (data['Current(A)'][tmp] < data['Current(A)'][t-i]) and (data['Current(A)'][tmp] != 0.0000) and (data['Current(A)'][t-i] > 0.020):\n",
    "            tmp = t-i\n",
    "        #전압(-) => 인덱스 유지\n",
    "        elif data['Voltage(V)'][tmp] > data['Voltage(V)'][t-i]:\n",
    "            break\n",
    "        #전압이 같음: t == t-1\n",
    "        elif data['Voltage(V)'][tmp] == data['Voltage(V)'][t-i]:\n",
    "            #t-1 < t-2 => 인덱스 변경: t-i-1\n",
    "            if data['Voltage(V)'][t-i] < data['Voltage(V)'][t-i-1]:\n",
    "                tmp = t-i-1\n",
    "                break\n",
    "            \n",
    "    ref = np.append(ref, tmp)\n",
    "            \n",
    "ref = np.unique(ref) #중복 값 제거"
   ]
  },
  {
   "cell_type": "code",
   "execution_count": null,
   "metadata": {},
   "outputs": [],
   "source": []
  },
  {
   "cell_type": "code",
   "execution_count": 368,
   "metadata": {},
   "outputs": [
    {
     "name": "stderr",
     "output_type": "stream",
     "text": [
      "100%|████████████████████████████████████████████████████████████████████████████| 7181/7181 [00:04<00:00, 1618.41it/s]\n"
     ]
    }
   ],
   "source": [
    "recovery_time=np.zeros((1,2)) #시간은 통신 전, 회복(crit) 시간\n",
    "recovery_rate=np.zeros((1,2), dtype=int) #통신(최대), crit(0.5 or smaller)\n",
    "recovery_volt=np.zeros((1,3), dtype=int) #통신전, 통신(최소), 회복\n",
    "# index = np.zeros((1,3), dtype=int)\n",
    "\n",
    "crit = 0.50\n",
    "\n",
    "for _, i in enumerate(tqdm(ref)): #기준 전압\n",
    "    r = np.array([]) #max을 구하기 위해서 rate값을 넣을 배열을 생성\n",
    "    v = np.array([]) #min을 구하기 위해서 volt값을 넣을 배열을 생성\n",
    "    \n",
    "    for j in range(1, int(len(data['Voltage(V)']))):\n",
    "        rate = (data['Voltage(V)'][i] - data['Voltage(V)'][i+j]) * 100 #(기준전압 - 현재전압)*100\n",
    "        r = np.append(r, np.array([rate])) #배열에 위에서 구한 전압 변화율 추가\n",
    "        v = np.append(v, np.array([data['Voltage(V)'][i+j]])) #배열에 현재 전압값 추가\n",
    "\n",
    "        #회복 전압이면 반복을 멈추고 각 배열에 요소 추가\n",
    "        # 1. 현재 전압 < 다음 전압 && 2. 다음 전류가 0.020보다 작을 때 && 3. 현재 전압 변화율 <= 기준 전압 변화율 && 4. 전압 변화율 != 0\n",
    "        if (data['Voltage(V)'][i+j] < data['Voltage(V)'][i+j+1]) and (data['Current(A)'][i+j+1] < 0.020) and (rate <= crit) and (rate != 0.0000):\n",
    "            #전압 변화율 추가(최대 전압 변화율(최저 전압), 현재 전압 변화율)\n",
    "            recovery_rate = np.append(recovery_rate, np.array([np.max(r), rate]).reshape(1,2), axis=0)\n",
    "            #전압 회복 시간(기준 전압 시간, 회복 전압 시간)\n",
    "            recovery_time = np.append(recovery_time, np.array([parsing_date[i], parsing_date[i+j]]).reshape(1,2), axis=0)\n",
    "            #전압(기준 전압, 최저 전압, 회복 전압)\n",
    "            recovery_volt = np.append(recovery_volt, np.array([data['Voltage(V)'][i], np.min(v), data['Voltage(V)'][i+j]]).reshape(1,3), axis=0)\n",
    "\n",
    "            break\n",
    "            \n",
    "recovery_rate = np.delete(recovery_rate, 0, 0)\n",
    "recovery_time = np.delete(recovery_time, 0, 0)\n",
    "recovery_volt = np.delete(recovery_volt, 0, 0)"
   ]
  },
  {
   "cell_type": "code",
   "execution_count": null,
   "metadata": {},
   "outputs": [],
   "source": []
  },
  {
   "cell_type": "code",
   "execution_count": 364,
   "metadata": {
    "scrolled": true
   },
   "outputs": [
    {
     "name": "stderr",
     "output_type": "stream",
     "text": [
      "100%|██████████████████████████████████████████████████████████████████████████| 14361/14361 [00:07<00:00, 1836.34it/s]\n"
     ]
    }
   ],
   "source": [
    "recovery_time=np.zeros((1,2)) #시간은 통신 전, 회복(crit) 시간\n",
    "recovery_rate=np.zeros((1,2)) #통신(최대), crit(0.5 or smaller)\n",
    "recovery_volt=np.zeros((1,3)) #통신전, 통신(최소), 회복\n",
    "\n",
    "crit = 0.50\n",
    "\n",
    "for _, i in enumerate(tqdm(criterion)): #기준 전압\n",
    "    r = np.array([])\n",
    "    v = np.array([])\n",
    "    \n",
    "    for j in range(int(len(data['Voltage(V)']))):\n",
    "#         print(\"crit\", i, \"current\", i+j+1)\n",
    "#         print(\"crit\", data['Voltage(V)'][i], \"current\", data['Voltage(V)'][j+i+1])\n",
    "        \n",
    "        rate = (data['Voltage(V)'][i] - data['Voltage(V)'][i+j+1]) * 100 #(기준전압 - 현재전압)*100\n",
    "        r = np.append(r, np.array([rate]))\n",
    "        v = np.append(v, np.array([data['Voltage(V)'][i+j+1]]))\n",
    "        \n",
    "#         print(\"rate\", rate)\n",
    "#         print(\"recovery_rate\", recovery_rate)\n",
    "        \n",
    "        if rate <= crit and rate != 0.0: #회복 전압\n",
    "            recovery_rate = np.append(recovery_rate, np.array([np.max(r), rate]).reshape(1,2), axis=0)\n",
    "            \n",
    "            recovery_time = np.append(recovery_time, np.array([parsing_date[i], parsing_date[i+j]]).reshape(1,2), axis=0)\n",
    "            \n",
    "            recovery_volt = np.append(recovery_volt, np.array([data['Voltage(V)'][i], np.min(v), data['Voltage(V)'][i+j+1]]).reshape(1,3), axis=0)\n",
    "            break\n",
    "            \n",
    "recovery_rate = np.delete(recovery_rate, 0, 0)\n",
    "recovery_time = np.delete(recovery_time, 0, 0)\n",
    "recovery_volt = np.delete(recovery_volt, 0, 0)"
   ]
  },
  {
   "cell_type": "markdown",
   "metadata": {},
   "source": [
    "### 그래프를 그려 변화 확인"
   ]
  },
  {
   "cell_type": "markdown",
   "metadata": {},
   "source": [
    "#### 통신시에 전압을 얼마나 사용하는지 볼 수 있음"
   ]
  },
  {
   "cell_type": "code",
   "execution_count": 369,
   "metadata": {
    "scrolled": false
   },
   "outputs": [
    {
     "data": {
      "text/plain": [
       "[<matplotlib.lines.Line2D at 0x21841616f08>]"
      ]
     },
     "execution_count": 369,
     "metadata": {},
     "output_type": "execute_result"
    },
    {
     "data": {
      "image/png": "[encoded data removed]",
      "text/plain": [
       "<Figure size 432x288 with 1 Axes>"
      ]
     },
     "metadata": {
      "needs_background": "light"
     },
     "output_type": "display_data"
    }
   ],
   "source": [
    "plt.plot(np.max(recovery_rate[:], axis=1))"
   ]
  },
  {
   "cell_type": "code",
   "execution_count": 267,
   "metadata": {},
   "outputs": [
    {
     "data": {
      "text/plain": [
       "array([5.04, 5.33, 4.57, 5.37, 5.33, 5.56, 5.42, 5.61, 5.51, 5.72, 5.59,\n",
       "       5.82, 5.67, 5.9 , 5.76, 5.98, 6.13, 6.05, 6.19])"
      ]
     },
     "execution_count": 267,
     "metadata": {},
     "output_type": "execute_result"
    }
   ],
   "source": [
    "np.max(recovery_rate[21:40], axis=1)"
   ]
  },
  {
   "cell_type": "code",
   "execution_count": 268,
   "metadata": {
    "scrolled": true
   },
   "outputs": [
    {
     "data": {
      "text/plain": [
       "array([datetime.datetime(2021, 10, 15, 15, 44, 26),\n",
       "       datetime.datetime(2021, 10, 15, 15, 44, 27)], dtype=object)"
      ]
     },
     "execution_count": 268,
     "metadata": {},
     "output_type": "execute_result"
    }
   ],
   "source": [
    "recovery_time[23]"
   ]
  },
  {
   "cell_type": "code",
   "execution_count": 269,
   "metadata": {},
   "outputs": [
    {
     "data": {
      "text/plain": [
       "array([3.5884, 3.5427, 3.5842])"
      ]
     },
     "execution_count": 269,
     "metadata": {},
     "output_type": "execute_result"
    }
   ],
   "source": [
    "recovery_volt[23]"
   ]
  },
  {
   "cell_type": "markdown",
   "metadata": {},
   "source": [
    "#### 시간은 timedelt형으로 되어 있기 때문에 회복 시간을 보기 위해서는 처리가 필요"
   ]
  },
  {
   "cell_type": "code",
   "execution_count": 371,
   "metadata": {
    "scrolled": false
   },
   "outputs": [
    {
     "data": {
      "text/plain": [
       "[<matplotlib.lines.Line2D at 0x2184173ee08>]"
      ]
     },
     "execution_count": 371,
     "metadata": {},
     "output_type": "execute_result"
    },
    {
     "data": {
      "image/png": "[encoded data removed]",
      "text/plain": [
       "<Figure size 432x288 with 1 Axes>"
      ]
     },
     "metadata": {
      "needs_background": "light"
     },
     "output_type": "display_data"
    }
   ],
   "source": [
    "re_time = []\n",
    "\n",
    "for i in recovery_time:\n",
    "    re_time.append(str(i[1] - i[0]))\n",
    "    \n",
    "plt.plot(re_time[:])"
   ]
  },
  {
   "cell_type": "markdown",
   "metadata": {},
   "source": [
    "#### 통신 전, 통신 중, 회복 전압 그래프"
   ]
  },
  {
   "cell_type": "code",
   "execution_count": 372,
   "metadata": {
    "scrolled": true
   },
   "outputs": [
    {
     "data": {
      "text/plain": [
       "[<matplotlib.lines.Line2D at 0x218416de488>]"
      ]
     },
     "execution_count": 372,
     "metadata": {},
     "output_type": "execute_result"
    },
    {
     "data": {
      "image/png": "[encoded data removed]",
      "text/plain": [
       "<Figure size 432x288 with 1 Axes>"
      ]
     },
     "metadata": {
      "needs_background": "light"
     },
     "output_type": "display_data"
    }
   ],
   "source": [
    "plt.plot(recovery_volt[:].flatten())"
   ]
  },
  {
   "cell_type": "code",
   "execution_count": null,
   "metadata": {},
   "outputs": [],
   "source": []
  },
  {
   "cell_type": "code",
   "execution_count": null,
   "metadata": {},
   "outputs": [],
   "source": []
  }
 ],
 "metadata": {
  "kernelspec": {
   "display_name": "Python 3",
   "language": "python",
   "name": "python3"
  },
  "language_info": {
   "codemirror_mode": {
    "name": "ipython",
    "version": 3
   },
   "file_extension": ".py",
   "mimetype": "text/x-python",
   "name": "python",
   "nbconvert_exporter": "python",
   "pygments_lexer": "ipython3",
   "version": "3.7.9"
  }
 },
 "nbformat": 4,
 "nbformat_minor": 2
}
