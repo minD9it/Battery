{
 "cells": [
  {
   "cell_type": "code",
   "execution_count": 2,
   "metadata": {},
   "outputs": [],
   "source": [
    "import numpy as np\n",
    "import pandas as pd\n",
    "import datetime as dt\n",
    "import matplotlib.pyplot as plt\n",
    "\n",
    "from dateutil.parser import parse\n",
    "from datetime import timedelta\n",
    "from tqdm import tqdm"
   ]
  },
  {
   "cell_type": "code",
   "execution_count": 42,
   "metadata": {},
   "outputs": [],
   "source": [
    "def parse_date(time_array):\n",
    "    date_=[] #replace korean to english\n",
    "\n",
    "    for i in time_array:\n",
    "        i = i.replace(\"오전\", \"AM\")\n",
    "        i = i.replace(\"오후\", \"PM\")\n",
    "        date_.append(i)\n",
    "\n",
    "    date__=[] #split blank\n",
    "\n",
    "    for i in date_:\n",
    "        date__.append(i.split(\" \"))\n",
    "\n",
    "    date___=[] #switch index\n",
    "\n",
    "    for i in date__: #위치 변경\n",
    "        tmp = i[1] \n",
    "        i[1] = i[2]\n",
    "        i[2] = tmp\n",
    "        date___.append(i)\n",
    "\n",
    "    parsing_date=[]\n",
    "\n",
    "    for i in tqdm(date___):\n",
    "        #print('parsing: ', i, \"=\", (\" \").join(i))\n",
    "        dt = parse((\" \").join(i)) #list to string\n",
    "        #print(dt)\n",
    "        #print()\n",
    "        parsing_date.append(dt)\n",
    "\n",
    "    parsing_date = np.array(parsing_date)\n",
    "        \n",
    "    return parsing_date"
   ]
  },
  {
   "cell_type": "code",
   "execution_count": 49,
   "metadata": {},
   "outputs": [],
   "source": [
    "def cal_time(time_array):\n",
    "    date_=[] #replace korean to english\n",
    "\n",
    "    for i in time_array:\n",
    "        i = i.replace(\"오전\", \"AM\")\n",
    "        i = i.replace(\"오후\", \"PM\")\n",
    "        date_.append(i)\n",
    "\n",
    "    date__=[] #split blank\n",
    "\n",
    "    for i in date_:\n",
    "        date__.append(i.split(\" \"))\n",
    "\n",
    "    date___=[] #switch index\n",
    "\n",
    "    for i in date__: #위치 변경\n",
    "        tmp = i[1] \n",
    "        i[1] = i[2]\n",
    "        i[2] = tmp\n",
    "        date___.append(i)\n",
    "\n",
    "    parsing_date=[]\n",
    "\n",
    "    for i in tqdm(date___):\n",
    "        #print('parsing: ', i, \"=\", (\" \").join(i))\n",
    "        dt = parse((\" \").join(i)) #list to string\n",
    "        #print(dt)\n",
    "        #print()\n",
    "        parsing_date.append(dt)\n",
    "\n",
    "    parsing_date = np.array(parsing_date)\n",
    "    \n",
    "    time = parsing_date[-1] - parsing_date[0]\n",
    "        \n",
    "    return time"
   ]
  },
  {
   "cell_type": "markdown",
   "metadata": {},
   "source": [
    "cc-20mA"
   ]
  },
  {
   "cell_type": "code",
   "execution_count": 10,
   "metadata": {},
   "outputs": [],
   "source": [
    "dt_20_1 = pd.read_csv(\"data/dodi_cc/CC-20mA_1.csv\").iloc[4:,:3].reset_index() #행,열\n",
    "dt_20_2 = pd.read_csv(\"data/dodi_cc/CC-20mA_2.csv\").iloc[:,:3] #행,열\n",
    "dt_20 = dt_20_1.append(dt_20_2, ignore_index=True)"
   ]
  },
  {
   "cell_type": "code",
   "execution_count": 35,
   "metadata": {
    "scrolled": true
   },
   "outputs": [
    {
     "data": {
      "text/plain": [
       "[<matplotlib.lines.Line2D at 0x1fab3c29e48>]"
      ]
     },
     "execution_count": 35,
     "metadata": {},
     "output_type": "execute_result"
    },
    {
     "data": {
      "image/png": "[encoded data removed]",
      "text/plain": [
       "<Figure size 432x288 with 1 Axes>"
      ]
     },
     "metadata": {
      "needs_background": "light"
     },
     "output_type": "display_data"
    }
   ],
   "source": [
    "plt.plot(dt_20['Voltage(V)'][:630000])"
   ]
  },
  {
   "cell_type": "code",
   "execution_count": 39,
   "metadata": {
    "scrolled": false
   },
   "outputs": [
    {
     "data": {
      "text/plain": [
       "'3 days, 14:14:58'"
      ]
     },
     "execution_count": 39,
     "metadata": {},
     "output_type": "execute_result"
    }
   ],
   "source": [
    "str(parsing_date[-1] - parsing_date[0])"
   ]
  },
  {
   "cell_type": "markdown",
   "metadata": {},
   "source": [
    "cc-40mA"
   ]
  },
  {
   "cell_type": "code",
   "execution_count": 16,
   "metadata": {},
   "outputs": [],
   "source": [
    "dt_40 = pd.read_csv(\"data/dodi_cc/CC-40mA.csv\").iloc[4:,:3].reset_index()"
   ]
  },
  {
   "cell_type": "code",
   "execution_count": 32,
   "metadata": {
    "scrolled": true
   },
   "outputs": [
    {
     "data": {
      "text/plain": [
       "[<matplotlib.lines.Line2D at 0x1faaaadd2c8>]"
      ]
     },
     "execution_count": 32,
     "metadata": {},
     "output_type": "execute_result"
    },
    {
     "data": {
      "image/png": "[encoded data removed]",
      "text/plain": [
       "<Figure size 432x288 with 1 Axes>"
      ]
     },
     "metadata": {
      "needs_background": "light"
     },
     "output_type": "display_data"
    }
   ],
   "source": [
    "plt.plot(dt_40['Voltage(V)'][:450000])"
   ]
  },
  {
   "cell_type": "code",
   "execution_count": 43,
   "metadata": {},
   "outputs": [
    {
     "name": "stderr",
     "output_type": "stream",
     "text": [
      "100%|███████████████████████████████████████████████████████████████████████| 450000/450000 [00:41<00:00, 10831.97it/s]\n"
     ]
    }
   ],
   "source": [
    "dt_40_time = parse_date(dt_40['Time'][:450000])"
   ]
  },
  {
   "cell_type": "code",
   "execution_count": 44,
   "metadata": {},
   "outputs": [
    {
     "data": {
      "text/plain": [
       "'2 days, 0:11:51'"
      ]
     },
     "execution_count": 44,
     "metadata": {},
     "output_type": "execute_result"
    }
   ],
   "source": [
    "str(dt_40_time[-1] - dt_40_time[0])"
   ]
  },
  {
   "cell_type": "markdown",
   "metadata": {},
   "source": [
    "cc-60mA"
   ]
  },
  {
   "cell_type": "code",
   "execution_count": 19,
   "metadata": {},
   "outputs": [],
   "source": [
    "dt_60 = pd.read_csv(\"data/dodi_cc/CC-60mA.csv\").iloc[:,:3]"
   ]
  },
  {
   "cell_type": "code",
   "execution_count": 28,
   "metadata": {
    "scrolled": true
   },
   "outputs": [
    {
     "data": {
      "text/plain": [
       "[<matplotlib.lines.Line2D at 0x1faa68ac588>]"
      ]
     },
     "execution_count": 28,
     "metadata": {},
     "output_type": "execute_result"
    },
    {
     "data": {
      "image/png": "[encoded data removed]",
      "text/plain": [
       "<Figure size 432x288 with 1 Axes>"
      ]
     },
     "metadata": {
      "needs_background": "light"
     },
     "output_type": "display_data"
    }
   ],
   "source": [
    "plt.plot(dt_60['Voltage(V)'][:320000])"
   ]
  },
  {
   "cell_type": "code",
   "execution_count": 45,
   "metadata": {},
   "outputs": [
    {
     "name": "stderr",
     "output_type": "stream",
     "text": [
      "100%|███████████████████████████████████████████████████████████████████████| 320000/320000 [00:28<00:00, 11295.80it/s]\n"
     ]
    }
   ],
   "source": [
    "dt_60_time = parse_date(dt_60['Time'][:320000])"
   ]
  },
  {
   "cell_type": "code",
   "execution_count": 46,
   "metadata": {},
   "outputs": [
    {
     "data": {
      "text/plain": [
       "'1 day, 3:46:02'"
      ]
     },
     "execution_count": 46,
     "metadata": {},
     "output_type": "execute_result"
    }
   ],
   "source": [
    "str(dt_60_time[-1] - dt_60_time[0])"
   ]
  },
  {
   "cell_type": "markdown",
   "metadata": {},
   "source": [
    "cc-80mA"
   ]
  },
  {
   "cell_type": "code",
   "execution_count": 23,
   "metadata": {},
   "outputs": [],
   "source": [
    "dt_80 = pd.read_csv(\"data/dodi_cc/CC-80mA.csv\").iloc[:,:3]"
   ]
  },
  {
   "cell_type": "code",
   "execution_count": 29,
   "metadata": {
    "scrolled": true
   },
   "outputs": [
    {
     "data": {
      "text/plain": [
       "[<matplotlib.lines.Line2D at 0x1faa6911a08>]"
      ]
     },
     "execution_count": 29,
     "metadata": {},
     "output_type": "execute_result"
    },
    {
     "data": {
      "image/png": "[encoded data removed]",
      "text/plain": [
       "<Figure size 432x288 with 1 Axes>"
      ]
     },
     "metadata": {
      "needs_background": "light"
     },
     "output_type": "display_data"
    }
   ],
   "source": [
    "plt.plot(dt_80['Voltage(V)'][:300000])"
   ]
  },
  {
   "cell_type": "code",
   "execution_count": 47,
   "metadata": {},
   "outputs": [
    {
     "name": "stderr",
     "output_type": "stream",
     "text": [
      "100%|███████████████████████████████████████████████████████████████████████| 300000/300000 [00:27<00:00, 11017.90it/s]\n"
     ]
    }
   ],
   "source": [
    "dt_80_time = parse_date(dt_80['Time'][:300000])"
   ]
  },
  {
   "cell_type": "code",
   "execution_count": 48,
   "metadata": {},
   "outputs": [
    {
     "data": {
      "text/plain": [
       "'19:59:56'"
      ]
     },
     "execution_count": 48,
     "metadata": {},
     "output_type": "execute_result"
    }
   ],
   "source": [
    "str(dt_80_time[-1] - dt_80_time[0])"
   ]
  },
  {
   "cell_type": "code",
   "execution_count": null,
   "metadata": {},
   "outputs": [],
   "source": []
  }
 ],
 "metadata": {
  "kernelspec": {
   "display_name": "Python 3",
   "language": "python",
   "name": "python3"
  },
  "language_info": {
   "codemirror_mode": {
    "name": "ipython",
    "version": 3
   },
   "file_extension": ".py",
   "mimetype": "text/x-python",
   "name": "python",
   "nbconvert_exporter": "python",
   "pygments_lexer": "ipython3",
   "version": "3.7.9"
  }
 },
 "nbformat": 4,
 "nbformat_minor": 4
}
