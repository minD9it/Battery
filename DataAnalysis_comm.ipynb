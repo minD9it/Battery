{
 "cells": [
  {
   "cell_type": "code",
   "execution_count": 1,
   "metadata": {},
   "outputs": [],
   "source": [
    "import numpy as np\n",
    "import pandas as pd\n",
    "import datetime as dt\n",
    "import matplotlib.pyplot as plt\n",
    "\n",
    "from dateutil.parser import parse\n",
    "from datetime import timedelta\n",
    "from tqdm import tqdm"
   ]
  },
  {
   "cell_type": "markdown",
   "metadata": {},
   "source": [
    "### 데이터 불러오기"
   ]
  },
  {
   "cell_type": "code",
   "execution_count": 2,
   "metadata": {
    "scrolled": true
   },
   "outputs": [
    {
     "data": {
      "text/html": [
       "<div>\n",
       "<style scoped>\n",
       "    .dataframe tbody tr th:only-of-type {\n",
       "        vertical-align: middle;\n",
       "    }\n",
       "\n",
       "    .dataframe tbody tr th {\n",
       "        vertical-align: top;\n",
       "    }\n",
       "\n",
       "    .dataframe thead th {\n",
       "        text-align: right;\n",
       "    }\n",
       "</style>\n",
       "<table border=\"1\" class=\"dataframe\">\n",
       "  <thead>\n",
       "    <tr style=\"text-align: right;\">\n",
       "      <th></th>\n",
       "      <th>Time</th>\n",
       "      <th>Voltage(V)</th>\n",
       "      <th>Current(A)</th>\n",
       "      <th>Resistance(Ohm)</th>\n",
       "      <th>Power(W)</th>\n",
       "    </tr>\n",
       "  </thead>\n",
       "  <tbody>\n",
       "    <tr>\n",
       "      <th>0</th>\n",
       "      <td>2021-11-09 오후 5:29:30</td>\n",
       "      <td>2.8765</td>\n",
       "      <td>0.0000</td>\n",
       "      <td>0.000</td>\n",
       "      <td>0.000</td>\n",
       "    </tr>\n",
       "    <tr>\n",
       "      <th>1</th>\n",
       "      <td>2021-11-09 오후 5:29:31</td>\n",
       "      <td>2.8939</td>\n",
       "      <td>0.0004</td>\n",
       "      <td>12232.813</td>\n",
       "      <td>0.001</td>\n",
       "    </tr>\n",
       "    <tr>\n",
       "      <th>2</th>\n",
       "      <td>2021-11-09 오후 5:29:31</td>\n",
       "      <td>2.9114</td>\n",
       "      <td>0.0002</td>\n",
       "      <td>12232.813</td>\n",
       "      <td>0.001</td>\n",
       "    </tr>\n",
       "    <tr>\n",
       "      <th>3</th>\n",
       "      <td>2021-11-09 오후 5:29:31</td>\n",
       "      <td>2.9114</td>\n",
       "      <td>0.0002</td>\n",
       "      <td>4033.345</td>\n",
       "      <td>0.002</td>\n",
       "    </tr>\n",
       "    <tr>\n",
       "      <th>4</th>\n",
       "      <td>2021-11-09 오후 5:29:31</td>\n",
       "      <td>2.9284</td>\n",
       "      <td>0.0007</td>\n",
       "      <td>4033.345</td>\n",
       "      <td>0.002</td>\n",
       "    </tr>\n",
       "  </tbody>\n",
       "</table>\n",
       "</div>"
      ],
      "text/plain": [
       "                    Time  Voltage(V)  Current(A)  Resistance(Ohm)  Power(W)\n",
       "0  2021-11-09 오후 5:29:30      2.8765      0.0000            0.000     0.000\n",
       "1  2021-11-09 오후 5:29:31      2.8939      0.0004        12232.813     0.001\n",
       "2  2021-11-09 오후 5:29:31      2.9114      0.0002        12232.813     0.001\n",
       "3  2021-11-09 오후 5:29:31      2.9114      0.0002         4033.345     0.002\n",
       "4  2021-11-09 오후 5:29:31      2.9284      0.0007         4033.345     0.002"
      ]
     },
     "execution_count": 2,
     "metadata": {},
     "output_type": "execute_result"
    }
   ],
   "source": [
    "data = pd.read_csv(\"data/0mA(3s)-100mA(1s)-40mA(7s)x10-0mA(40s)_normal+EDLC.csv\") #통합 데이터\n",
    "data.head()"
   ]
  },
  {
   "cell_type": "markdown",
   "metadata": {},
   "source": [
    "### 데이터 자르기 (time, volt, current)"
   ]
  },
  {
   "cell_type": "code",
   "execution_count": 3,
   "metadata": {},
   "outputs": [],
   "source": [
    "data = data.iloc[:, :3] #.values"
   ]
  },
  {
   "cell_type": "markdown",
   "metadata": {},
   "source": [
    "### 기준 전압 인덱스 구하기"
   ]
  },
  {
   "cell_type": "markdown",
   "metadata": {},
   "source": [
    "#### 통신 전류 기준을 잡는 것도 중요할 것 같음\n",
    "- 문제: 통신 전류는 0이 아닌 0.010, 0.009 등도 포함하지 않으면 갑자기 전압 사용량이 적어지는 것 같은 현상이 발생"
   ]
  },
  {
   "cell_type": "code",
   "execution_count": 54,
   "metadata": {},
   "outputs": [],
   "source": [
    "comm_A = np.where(data['Current(A)'] > 0.0900) #통신 전류"
   ]
  },
  {
   "cell_type": "raw",
   "metadata": {
    "scrolled": true
   },
   "source": [
    "# 전압이 2V 이하인 통신 전류 데이터 인덱스가 없는 경우\n",
    "if not(np.where(data['Voltage(V)'] < 2.000)):\n",
    "    print(\"false\")\n",
    "    comm_ = np.array(comm_A[0]) #comm_A[0]의 type이 tuple이기 때문에\n",
    "    comm_ = np.array(comm_[0])\n",
    "\n",
    "# 전압이 2V 이하인 통신 전류 데이터 인덱스가 있는 경우\n",
    "elif np.where(data['Voltage(V)'] < 2.000):\n",
    "    print(\"true\")\n",
    "    comm_V_ = np.where(data['Voltage(V)'] < 2.000) #2v가 넘는 곳의 인덱스\n",
    "    comm_V = np.array(comm_V_[0])\n",
    "    comm_ = comm_A\n",
    "\n",
    "    for i in comm_V:\n",
    "        comm_ = np.delete(comm_, np.where(comm_ == i))\n",
    "\n",
    "    comm_ = np.array(comm_)"
   ]
  },
  {
   "cell_type": "code",
   "execution_count": 17,
   "metadata": {
    "scrolled": true
   },
   "outputs": [
    {
     "data": {
      "text/plain": [
       "96"
      ]
     },
     "execution_count": 17,
     "metadata": {},
     "output_type": "execute_result"
    }
   ],
   "source": [
    "comm_A[0][0]"
   ]
  },
  {
   "cell_type": "markdown",
   "metadata": {},
   "source": [
    "#### 통신 전류 시작 인덱스 하나만"
   ]
  },
  {
   "cell_type": "code",
   "execution_count": 83,
   "metadata": {},
   "outputs": [],
   "source": [
    "#첫 번째 인덱스는 넣어두고 시작\n",
    "comm_ = np.array(comm_A[0][0])\n",
    "\n",
    "for idx in range(int(len(comm_A[0]))-1):\n",
    "    #현재 값+1과 다음값이 같지 않으면 연속된 숫자가 아니라는 것으로 추가함\n",
    "    if comm_A[0][idx]+1 != comm_A[0][idx+1]:\n",
    "        comm_ = np.append(comm_, comm_A[0][idx+1])"
   ]
  },
  {
   "cell_type": "code",
   "execution_count": 84,
   "metadata": {},
   "outputs": [
    {
     "data": {
      "text/plain": [
       "array([    96,    140,    185, ..., 291428, 291474, 291520], dtype=int64)"
      ]
     },
     "execution_count": 84,
     "metadata": {},
     "output_type": "execute_result"
    }
   ],
   "source": [
    "comm_"
   ]
  },
  {
   "cell_type": "markdown",
   "metadata": {},
   "source": [
    "#### 사이클이 10번 반복되기 때문에 현재+9까지는 없어야 함"
   ]
  },
  {
   "cell_type": "code",
   "execution_count": 85,
   "metadata": {},
   "outputs": [
    {
     "data": {
      "text/plain": [
       "(4758,)"
      ]
     },
     "execution_count": 85,
     "metadata": {},
     "output_type": "execute_result"
    }
   ],
   "source": [
    "comm_.shape"
   ]
  },
  {
   "cell_type": "markdown",
   "metadata": {},
   "source": [
    "##### 오류가 나는 이유는 10개의 주기가 없는 경우가 있기 때문(중간에 끊어져서)"
   ]
  },
  {
   "cell_type": "code",
   "execution_count": 95,
   "metadata": {
    "scrolled": true
   },
   "outputs": [
    {
     "ename": "IndexError",
     "evalue": "index 4759 is out of bounds for axis 0 with size 4758",
     "output_type": "error",
     "traceback": [
      "\u001b[1;31m---------------------------------------------------------------------------\u001b[0m",
      "\u001b[1;31mIndexError\u001b[0m                                Traceback (most recent call last)",
      "\u001b[1;32m<ipython-input-95-d5a4752ee12d>\u001b[0m in \u001b[0;36m<module>\u001b[1;34m\u001b[0m\n\u001b[0;32m      3\u001b[0m \u001b[1;32mfor\u001b[0m \u001b[0mi\u001b[0m \u001b[1;32min\u001b[0m \u001b[0mrange\u001b[0m\u001b[1;33m(\u001b[0m\u001b[1;36m0\u001b[0m\u001b[1;33m,\u001b[0m \u001b[0mlen\u001b[0m\u001b[1;33m(\u001b[0m\u001b[0mcomm_\u001b[0m\u001b[1;33m)\u001b[0m\u001b[1;33m,\u001b[0m \u001b[1;36m10\u001b[0m\u001b[1;33m)\u001b[0m\u001b[1;33m:\u001b[0m\u001b[1;33m\u001b[0m\u001b[1;33m\u001b[0m\u001b[0m\n\u001b[0;32m      4\u001b[0m     \u001b[0mcomm\u001b[0m \u001b[1;33m=\u001b[0m \u001b[0mnp\u001b[0m\u001b[1;33m.\u001b[0m\u001b[0mappend\u001b[0m\u001b[1;33m(\u001b[0m\u001b[0mcomm\u001b[0m\u001b[1;33m,\u001b[0m \u001b[0mcomm_\u001b[0m\u001b[1;33m[\u001b[0m\u001b[0mi\u001b[0m\u001b[1;33m]\u001b[0m\u001b[1;33m)\u001b[0m\u001b[1;33m\u001b[0m\u001b[1;33m\u001b[0m\u001b[0m\n\u001b[1;32m----> 5\u001b[1;33m     \u001b[0mcomm\u001b[0m \u001b[1;33m=\u001b[0m \u001b[0mnp\u001b[0m\u001b[1;33m.\u001b[0m\u001b[0mappend\u001b[0m\u001b[1;33m(\u001b[0m\u001b[0mcomm\u001b[0m\u001b[1;33m,\u001b[0m \u001b[0mcomm_\u001b[0m\u001b[1;33m[\u001b[0m\u001b[0mi\u001b[0m\u001b[1;33m+\u001b[0m\u001b[1;36m9\u001b[0m\u001b[1;33m]\u001b[0m\u001b[1;33m)\u001b[0m\u001b[1;33m\u001b[0m\u001b[1;33m\u001b[0m\u001b[0m\n\u001b[0m",
      "\u001b[1;31mIndexError\u001b[0m: index 4759 is out of bounds for axis 0 with size 4758"
     ]
    }
   ],
   "source": [
    "comm = np.array([], dtype=int)\n",
    "\n",
    "for i in range(0, len(comm_), 10):\n",
    "    comm = np.append(comm, comm_[i])\n",
    "    comm = np.append(comm, comm_[i+9])"
   ]
  },
  {
   "cell_type": "code",
   "execution_count": 96,
   "metadata": {
    "scrolled": true
   },
   "outputs": [
    {
     "data": {
      "text/plain": [
       "array([    96,    501,    710,   1102,   1304,   1703,   1919,   2321,\n",
       "         2527,   2925,   3131,   3534,   3740,   4138,   4343,   4743,\n",
       "         4947,   5341,   5550,   5945,   6149,   6542,   6747,   7140,\n",
       "         7344,   7739,   7953,   8359,   8560,   8952,   9163,   9563,\n",
       "         9769,  10165,  10378,  10774,  10978,  11377,  11582,  11977,\n",
       "        12180,  12577,  12783,  13177,  13383,  13778,  13983,  14380,\n",
       "        14582,  14976,  15180,  15577,  15779,  16172,  16388,  16784,\n",
       "        16989,  17388,  17595,  17990,  18194,  18591,  18796,  19195,\n",
       "        19401,  19794,  20001,  20402,  20604,  20998,  21202,  21600,\n",
       "        21807,  22204,  22407,  22805,  23008,  23405,  23612,  24013,\n",
       "        24221,  24618,  24824,  25225,  25429,  25828,  26034,  26439,\n",
       "        26644,  27041,  27248,  27643,  27848,  28247,  28453,  28854,\n",
       "        29058,  29458,  29662,  30063,  30267,  30664,  30882,  31300,\n",
       "        31508,  31922,  32128,  32530,  32734,  33132,  33336,  33734,\n",
       "        33937,  34337,  34544,  34941,  35145,  35542,  35745,  36148,\n",
       "        36352,  36748,  36952,  37351,  37555,  37954,  38161,  38560,\n",
       "        38767,  39169,  39376,  39775,  39979,  40375,  40581,  40982,\n",
       "        41188,  41586,  41802,  42203,  42407,  42809,  43017,  43426,\n",
       "        43632,  44029,  44236,  44633,  44837,  45235,  45451,  45850,\n",
       "        46054,  46453,  46660,  47057,  47262,  47657,  47862,  48262,\n",
       "        48465,  48860,  49067,  49470,  49681,  50080,  50284,  50684,\n",
       "        50889,  51292,  51506,  51914,  52118,  52517,  52724,  53122,\n",
       "        53329,  53730,  53937,  54341,  54546,  54941,  55148,  55547,\n",
       "        55751,  56149,  56356,  56757,  56961,  57357,  57562,  57962,\n",
       "        58167,  58566,  58770,  59170,  59374,  59772,  59987,  60395,\n",
       "        60602,  60998,  61202,  61606,  61811,  62206,  62412,  62809,\n",
       "        63013,  63412,  63618,  64019,  64224,  64619,  64825,  65224,\n",
       "        65429,  65827,  66033,  66430,  66636,  67033,  67242,  67642,\n",
       "        67849,  68249,  68455,  68860,  69068,  69465,  69672,  70071,\n",
       "        70276,  70673,  70882,  71279,  71485,  71884,  72090,  72491,\n",
       "        72693,  73089,  73294,  73693,  73896,  74293,  74507,  74905,\n",
       "        75114,  75511,  75716,  76118,  76321,  76719,  76923,  77322,\n",
       "        77526,  77926,  78133,  78530,  78735,  79135,  79338,  79737,\n",
       "        79942,  80341,  80545,  80944,  81148,  81544,  81751,  82152,\n",
       "        82357,  82757,  82963,  83361,  83565,  83969,  84174,  84573,\n",
       "        84777,  85171,  85378,  85777,  85981,  86377,  86582,  86982,\n",
       "        87184,  87579,  87786,  88182,  88386,  88784,  89004,  89423,\n",
       "        89629,  90043,  90251,  90651,  90856,  91252,  91459,  91859,\n",
       "        92062,  92458,  92665,  93067,  93272,  93667,  93874,  94273,\n",
       "        94478,  94884,  95095,  95491,  95697,  96092,  96298,  96697,\n",
       "        96912,  97345,  97568,  97994,  98200,  98599,  98804,  99205,\n",
       "        99409,  99803, 100009, 100406, 100610, 101004, 101210, 101610,\n",
       "       101813, 102209, 102413, 102813, 103017, 103411, 103630, 104030,\n",
       "       104236, 104634, 104839, 105240, 105445, 105840, 106047, 106448,\n",
       "       106655, 107052, 107261, 107659, 107864, 108263, 108467, 108866,\n",
       "       109070, 109469, 109674, 110069, 110274, 110669, 110877, 111275,\n",
       "       111483, 111878, 112084, 112482, 112685, 113078, 113282, 113681,\n",
       "       113889, 114281, 114489, 114887, 115092, 115489, 115696, 116092,\n",
       "       116299, 116695, 116899, 117296, 117498, 117893, 118107, 118516,\n",
       "       118723, 119118, 119322, 119722, 119925, 120321, 120526, 120924,\n",
       "       121129, 121529, 121737, 122133, 122337, 122731, 122934, 123332,\n",
       "       123535, 123932, 124139, 124535, 124738, 125134, 125339, 125740,\n",
       "       125947, 126346, 126552, 126955, 127159, 127556, 127760, 128156,\n",
       "       128361, 128757, 128965, 129360, 129564, 129960, 130164, 130562,\n",
       "       130766, 131164, 131368, 131763, 131971, 132367, 132585, 132983,\n",
       "       133190, 133588, 133795, 134194, 134397, 134793, 134998, 135395,\n",
       "       135600, 135996, 136203, 136605, 136811, 137209, 137415, 137813,\n",
       "       138017, 138417, 138625, 139025, 139228, 139623, 139831, 140232,\n",
       "       140438, 140834, 141041, 141441, 141645, 142043, 142249, 142647,\n",
       "       142851, 143246, 143452, 143851, 144055, 144453, 144657, 145059,\n",
       "       145263, 145654, 145859, 146259, 146462, 146857, 147073, 147492,\n",
       "       147700, 148114, 148322, 148724, 148928, 149324, 149526, 149923,\n",
       "       150127, 150524, 150732, 151129, 151332, 151728, 151932, 152329,\n",
       "       152535, 152929, 153133, 153532, 153741, 154138, 154344, 154746,\n",
       "       154953, 155351, 155559, 155958, 156162, 156558, 156764, 157161,\n",
       "       157367, 157761, 157967, 158365, 158572, 158967, 159173, 159571,\n",
       "       159774, 160168, 160375, 160773, 160977, 161374, 161588, 161984,\n",
       "       162191, 162586, 162792, 163190, 163394, 163790, 163995, 164388,\n",
       "       164592, 164989, 165196, 165593, 165796, 166221, 166442, 166871,\n",
       "       167091, 167520, 167726, 168122, 168324, 168721, 168927, 169323,\n",
       "       169529, 169925, 170131, 170528, 170730, 171126, 171328, 171723,\n",
       "       171927, 172320, 172527, 172923, 173126, 173523, 173726, 174121,\n",
       "       174323, 174719, 174923, 175321, 175523, 175920, 176136, 176542,\n",
       "       176747, 177141, 177345, 177742, 177948, 178341, 178548, 178946,\n",
       "       179148, 179543, 179749, 180144, 180349, 180744, 180949, 181342,\n",
       "       181544, 181943, 182148, 182544, 182747, 183141, 183348, 183742,\n",
       "       183947, 184343, 184554, 184978, 185199, 185635, 185860, 186289,\n",
       "       186509, 186936, 187159, 187597, 187824, 188259, 188482, 188919,\n",
       "       189144, 189578, 189802, 190235, 190455, 190885, 191107, 191532,\n",
       "       191751, 192184, 192407, 192812, 193017, 193409, 193613, 194011,\n",
       "       194215, 194611, 194818, 195213, 195416, 195808, 196012, 196409,\n",
       "       196612, 197008, 197211, 197606, 197809, 198200, 198405, 198803,\n",
       "       199009, 199404, 199609, 200005, 200207, 200601, 200808, 201204,\n",
       "       201409, 201804, 202010, 202402, 202604, 202999, 203203, 203597,\n",
       "       203801, 204192, 204395, 204790, 204992, 205387, 205603, 206018,\n",
       "       206225, 206634, 206845, 207238, 207444, 207835, 208039, 208432,\n",
       "       208637, 209030, 209235, 209629, 209833, 210225, 210429, 210821,\n",
       "       211025, 211418, 211622, 212013, 212217, 212611, 212816, 213210,\n",
       "       213417, 213811, 214016, 214411, 214615, 215010, 215216, 215610,\n",
       "       215814, 216210, 216415, 216810, 217015, 217408, 217610, 218003,\n",
       "       218207, 218604, 218806, 219197, 219400, 219794, 220008, 220402,\n",
       "       220607, 221001, 221205, 221596, 221800, 222193, 222395, 222792,\n",
       "       222997, 223390, 223596, 223992, 224200, 224593, 224798, 225193,\n",
       "       225398, 225794, 226000, 226392, 226596, 226988, 227195, 227588,\n",
       "       227794, 228187, 228392, 228787, 228991, 229385, 229595, 229993,\n",
       "       230198, 230588, 230795, 231186, 231388, 231781, 231985, 232379,\n",
       "       232584, 232976, 233178, 233574, 233780, 234174, 234386, 234787,\n",
       "       234994, 235389, 235592, 235988, 236203, 236641, 236865, 237304,\n",
       "       237530, 237967, 238192, 238628, 238853, 239286, 239512, 239947,\n",
       "       240172, 240606, 240833, 241268, 241492, 241930, 242156, 242589,\n",
       "       242813, 243251, 243475, 243903, 244127, 244563, 244787, 245221,\n",
       "       245447, 245881, 246106, 246542, 246767, 247202, 247425, 247861,\n",
       "       248084, 248517, 248742, 249173, 249397, 249833, 250042, 250440,\n",
       "       250647, 251041, 251245, 251642, 251848, 252246, 252452, 252847,\n",
       "       253052, 253452, 253659, 254054, 254266, 254681, 254885, 255301,\n",
       "       255514, 255937, 256160, 256593, 256815, 257246, 257468, 257902,\n",
       "       258125, 258558, 258778, 259205, 259425, 259858, 260080, 260511,\n",
       "       260734, 261165, 261387, 261821, 262047, 262480, 262701, 263125,\n",
       "       263345, 263783, 264008, 264443, 264669, 265103, 265327, 265762,\n",
       "       265987, 266416, 266635, 267060, 267280, 267711, 267936, 268368,\n",
       "       268590, 269016, 269239, 269665, 269887, 270316, 270536, 270962,\n",
       "       271181, 271610, 271832, 272254, 272474, 272901, 273124, 273550,\n",
       "       273770, 274200, 274421, 274846, 275065, 275488, 275709, 276135,\n",
       "       276353, 276777, 276996, 277415, 277631, 278054, 278272, 278698,\n",
       "       278922, 279359, 279586, 280024, 280250, 280689, 280915, 281353,\n",
       "       281578, 282018, 282242, 282679, 282905, 283344, 283564, 283982,\n",
       "       284200, 284617, 284834, 285254, 285470, 285890, 286106, 286524,\n",
       "       286746, 287168, 287383, 287802, 288017, 288431, 288647, 289065,\n",
       "       289282, 289699, 289913, 290330, 290550, 290973, 291191],\n",
       "      dtype=int64)"
      ]
     },
     "execution_count": 96,
     "metadata": {},
     "output_type": "execute_result"
    }
   ],
   "source": [
    "comm"
   ]
  },
  {
   "cell_type": "code",
   "execution_count": 97,
   "metadata": {
    "scrolled": true
   },
   "outputs": [
    {
     "data": {
      "text/plain": [
       "(951,)"
      ]
     },
     "execution_count": 97,
     "metadata": {},
     "output_type": "execute_result"
    }
   ],
   "source": [
    "comm.shape"
   ]
  },
  {
   "cell_type": "markdown",
   "metadata": {},
   "source": [
    "#### 기준 전압은 통신 시작 전류 인덱스 바로 전"
   ]
  },
  {
   "cell_type": "code",
   "execution_count": 98,
   "metadata": {
    "scrolled": true
   },
   "outputs": [],
   "source": [
    "t_crit = comm - 1"
   ]
  },
  {
   "cell_type": "code",
   "execution_count": 99,
   "metadata": {
    "scrolled": false
   },
   "outputs": [
    {
     "data": {
      "text/plain": [
       "(951,)"
      ]
     },
     "execution_count": 99,
     "metadata": {},
     "output_type": "execute_result"
    }
   ],
   "source": [
    "t_crit.shape"
   ]
  },
  {
   "cell_type": "code",
   "execution_count": 103,
   "metadata": {},
   "outputs": [],
   "source": [
    "if t_crit.shape[0]%2 != 0:\n",
    "    t_crit = t_crit[:-1]"
   ]
  },
  {
   "cell_type": "markdown",
   "metadata": {},
   "source": [
    "#### 인덱스 조정: 전압이 떨어지는 순간부터"
   ]
  },
  {
   "cell_type": "code",
   "execution_count": 111,
   "metadata": {
    "scrolled": true
   },
   "outputs": [
    {
     "name": "stderr",
     "output_type": "stream",
     "text": [
      "100%|██████████████████████████████████████████████████████████████████████████████| 950/950 [00:00<00:00, 7544.31it/s]\n"
     ]
    }
   ],
   "source": [
    "ref = np.array([], dtype=int)\n",
    "\n",
    "for t in tqdm(t_crit):\n",
    "    tmp = t  #tmp는 >0.020 이전의 전압 인덱스\n",
    "    \n",
    "    for i in range(1, 5): #4번 loop\n",
    "        #전압(+): t < t-1\n",
    "        if (data['Voltage(V)'][tmp] < data['Voltage(V)'][t-i]):\n",
    "            #t-1 > t-2 => 인덱스 변경: t-i\n",
    "            if data['Voltage(V)'][t-i] >= data['Voltage(V)'][t-i-1]: #이전 이전의 전압이 더 작으면\n",
    "                tmp = t-i\n",
    "                break\n",
    "            else:\n",
    "                tmp = t- i\n",
    "        #전압 (-), 전류 (+) => 인덱스 변경: t-i\n",
    "        elif (data['Voltage(V)'][tmp] > data['Voltage(V)'][t-i]) and (data['Current(A)'][tmp] < data['Current(A)'][t-i]) and (data['Current(A)'][tmp] != 0.0000) and (data['Current(A)'][t-i] > 0.020):\n",
    "            tmp = t-i\n",
    "        #전압(-) => 인덱스 유지\n",
    "        elif data['Voltage(V)'][tmp] > data['Voltage(V)'][t-i]:\n",
    "            break\n",
    "        #전압이 같음: t == t-1\n",
    "        elif data['Voltage(V)'][tmp] == data['Voltage(V)'][t-i]:\n",
    "            #t-1 < t-2 => 인덱스 변경: t-i-1\n",
    "            if data['Voltage(V)'][t-i] < data['Voltage(V)'][t-i-1]:\n",
    "                tmp = t-i-1\n",
    "                break\n",
    "            \n",
    "    ref = np.append(ref, tmp)\n",
    "            \n",
    "ref = np.unique(ref) #중복 값 제거"
   ]
  },
  {
   "cell_type": "markdown",
   "metadata": {},
   "source": [
    "### 전압 회복 시간, 회복률, 전압을 확인하기 위함\n",
    "- recovery_time [[통신 전, crit_time]]\n",
    "- recovery_rate [[통신 중(최대), crit_rate]]\n",
    "- recovery_volt [[통신 전, 통신 중(최소), crit_volt]]\n",
    "- crit = 기준 전압 회복률\n",
    "- 회복률이 crit 이하가 되거나 0이 아니면 다음 통신 데이터로\n",
    "    - 기준 전압과 통신 전압이 같은 부분이 있어 이상한 데이터가 그려짐 (회복률이 0이 아니면)\n",
    "- np.delete()하는 이유는 처음에 np.zeros(())로 만들었기 때문에 제일 처음에 0 값이 들어가 있음\n",
    "    - np.empty(())를 사용하면 쓰레기 값이 들어가 있음 (어차피 같음)"
   ]
  },
  {
   "cell_type": "code",
   "execution_count": 116,
   "metadata": {},
   "outputs": [
    {
     "name": "stderr",
     "output_type": "stream",
     "text": [
      "100%|███████████████████████████████████████████████████████████████████████████████| 475/475 [00:04<00:00, 104.32it/s]\n"
     ]
    }
   ],
   "source": [
    "recovery_time=np.zeros((1,2)) #시간은 통신 전, 회복(crit) 시간\n",
    "recovery_rate=np.zeros((1,2), dtype=int) #통신(최대), crit(0.5 or smaller)\n",
    "recovery_volt=np.zeros((1,3), dtype=int) #통신전, 통신(최소), 회복\n",
    "index = np.zeros((1,2))\n",
    "\n",
    "crit = 0.50\n",
    "\n",
    "for i in tqdm(range(0, len(ref), 2)): #기준 전압\n",
    "    r = np.array([]) #max을 구하기 위해서 rate값을 넣을 배열을 생성\n",
    "    v = np.array([]) #min을 구하기 위해서 volt값을 넣을 배열을 생성\n",
    "    \n",
    "    idx = ref[i]\n",
    "    idx2 = ref[i+1]+1\n",
    "#     length = t_crit[i+2] - t_crit[i+1]\n",
    "    for j in range(1, 200):\n",
    "        rate = (data['Voltage(V)'][idx] - data['Voltage(V)'][idx2+j])/data['Voltage(V)'][idx] * 100 #(기준전압 - 현재전압)/기준전압 *100\n",
    "        r = np.append(r, np.array([rate])) #배열에 위에서 구한 전압 변화율 추가\n",
    "        v = np.append(v, np.array([data['Voltage(V)'][idx2+j]])) #배열에 현재 전압값 추가\n",
    "\n",
    "        #회복 전압이면 반복을 멈추고 각 배열에 요소 추가\n",
    "        # 1. 현재 전압 < 다음 전압 && 2. 다음 전류가 0.020보다 작을 때 && 3. 현재 전압 변화율 <= 기준 전압 변화율 && 4. 전압 변화율 != 0\n",
    "        if (data['Voltage(V)'][idx2+j] < data['Voltage(V)'][idx2+j+1]) and (data['Current(A)'][idx2+j+1] < 0.020) and (rate <= crit) and (rate != 0.0000):\n",
    "            #전압 변화율 추가(최대 전압 변화율(최저 전압), 현재 전압 변화율)\n",
    "            recovery_rate = np.append(recovery_rate, np.array([np.max(r), rate]).reshape(1,2), axis=0)\n",
    "            #전압 회복 시간(기준 전압 시간, 회복 전압 시간)\n",
    "            recovery_time = np.append(recovery_time, np.array([data['Time'][idx], data['Time'][idx2+j]]).reshape(1,2), axis=0)\n",
    "            #전압(기준 전압, 최저 전압, 회복 전압)\n",
    "            recovery_volt = np.append(recovery_volt, np.array([data['Voltage(V)'][idx], np.min(v), data['Voltage(V)'][idx2+j]]).reshape(1,3), axis=0)\n",
    "\n",
    "            index = np.append(index, np.array([idx, (idx2+j)]).reshape(1,2), axis=0)\n",
    "            break\n",
    "            \n",
    "recovery_rate = np.delete(recovery_rate, 0, 0)\n",
    "recovery_time = np.delete(recovery_time, 0, 0)\n",
    "recovery_volt = np.delete(recovery_volt, 0, 0)\n",
    "index = np.delete(index, 0, 0)"
   ]
  },
  {
   "cell_type": "markdown",
   "metadata": {},
   "source": [
    "### 시간을 timedelt로 변경하기 위함"
   ]
  },
  {
   "cell_type": "code",
   "execution_count": 117,
   "metadata": {},
   "outputs": [
    {
     "name": "stderr",
     "output_type": "stream",
     "text": [
      "100%|██████████████████████████████████████████████████████████████████████████████| 950/950 [00:00<00:00, 9841.21it/s]\n"
     ]
    }
   ],
   "source": [
    "date_=[] #replace korean to english\n",
    "\n",
    "for i in recovery_time.flatten():\n",
    "    i = i.replace(\"오전\", \"AM\")\n",
    "    i = i.replace(\"오후\", \"PM\")\n",
    "    date_.append(i)\n",
    "    \n",
    "date__=[] #split blank\n",
    "\n",
    "for i in date_:\n",
    "    date__.append(i.split(\" \"))\n",
    "    \n",
    "date___=[] #switch index\n",
    "\n",
    "for i in date__: #위치 변경\n",
    "    tmp = i[1] \n",
    "    i[1] = i[2]\n",
    "    i[2] = tmp\n",
    "    date___.append(i)\n",
    "    \n",
    "parsing_date=[]\n",
    "\n",
    "for i in tqdm(date___):\n",
    "    #print('parsing: ', i, \"=\", (\" \").join(i))\n",
    "    dt = parse((\" \").join(i)) #list to string\n",
    "    #print(dt)\n",
    "    #print()\n",
    "    parsing_date.append(dt)\n",
    "    \n",
    "recovery_time = np.array(parsing_date).reshape(recovery_time.shape[0], 2)"
   ]
  },
  {
   "cell_type": "markdown",
   "metadata": {},
   "source": [
    "### 그래프를 그려 변화 확인"
   ]
  },
  {
   "cell_type": "markdown",
   "metadata": {},
   "source": [
    "#### 통신시에 전압을 얼마나 사용하는지 볼 수 있음"
   ]
  },
  {
   "cell_type": "markdown",
   "metadata": {},
   "source": [
    "*normal+edlc -> 10 cycles*"
   ]
  },
  {
   "cell_type": "code",
   "execution_count": 118,
   "metadata": {
    "scrolled": true
   },
   "outputs": [
    {
     "data": {
      "text/plain": [
       "[<matplotlib.lines.Line2D at 0x295a8ec4548>]"
      ]
     },
     "execution_count": 118,
     "metadata": {},
     "output_type": "execute_result"
    },
    {
     "data": {
      "image/png": "[encoded data removed]",
      "text/plain": [
       "<Figure size 432x288 with 1 Axes>"
      ]
     },
     "metadata": {
      "needs_background": "light"
     },
     "output_type": "display_data"
    }
   ],
   "source": [
    "plt.plot(np.max(recovery_rate[:], axis=1))"
   ]
  },
  {
   "cell_type": "code",
   "execution_count": 119,
   "metadata": {},
   "outputs": [
    {
     "data": {
      "text/plain": [
       "array([datetime.datetime(2021, 11, 10, 10, 9, 53),\n",
       "       datetime.datetime(2021, 11, 10, 10, 12, 10)], dtype=object)"
      ]
     },
     "execution_count": 119,
     "metadata": {},
     "output_type": "execute_result"
    }
   ],
   "source": [
    "recovery_time[400]"
   ]
  },
  {
   "cell_type": "code",
   "execution_count": 68,
   "metadata": {},
   "outputs": [],
   "source": [
    "max_rate = np.max(recovery_rate[:], axis=1)"
   ]
  },
  {
   "cell_type": "code",
   "execution_count": 121,
   "metadata": {},
   "outputs": [],
   "source": [
    "f = open(\"NORMAL+EDLC(0-100-40).csv\", \"w\")\n",
    "f.write(\"max_rate\\n\")\n",
    "\n",
    "for i in range(int(len(max_rate))):\n",
    "    f.write(str(max_rate[i]) + \"\\n\")\n",
    "    \n",
    "f.close()"
   ]
  },
  {
   "cell_type": "code",
   "execution_count": 120,
   "metadata": {
    "scrolled": false
   },
   "outputs": [
    {
     "data": {
      "text/plain": [
       "[<matplotlib.lines.Line2D at 0x295a9674d08>]"
      ]
     },
     "execution_count": 120,
     "metadata": {},
     "output_type": "execute_result"
    },
    {
     "data": {
      "image/png": "[encoded data removed]",
      "text/plain": [
       "<Figure size 432x288 with 1 Axes>"
      ]
     },
     "metadata": {
      "needs_background": "light"
     },
     "output_type": "display_data"
    }
   ],
   "source": [
    "plt.plot(data['Voltage(V)'][:])"
   ]
  },
  {
   "cell_type": "code",
   "execution_count": 71,
   "metadata": {},
   "outputs": [
    {
     "data": {
      "text/plain": [
       "array([46032., 46085.])"
      ]
     },
     "execution_count": 71,
     "metadata": {},
     "output_type": "execute_result"
    }
   ],
   "source": [
    "index[1052]"
   ]
  },
  {
   "cell_type": "code",
   "execution_count": 82,
   "metadata": {
    "scrolled": false
   },
   "outputs": [
    {
     "data": {
      "text/plain": [
       "[<matplotlib.lines.Line2D at 0x2830aba2cc8>]"
      ]
     },
     "execution_count": 82,
     "metadata": {},
     "output_type": "execute_result"
    },
    {
     "data": {
      "image/png": "[encoded data removed]",
      "text/plain": [
       "<Figure size 432x288 with 1 Axes>"
      ]
     },
     "metadata": {
      "needs_background": "light"
     },
     "output_type": "display_data"
    }
   ],
   "source": [
    "plt.plot(data['Voltage(V)'][:127600])"
   ]
  },
  {
   "cell_type": "code",
   "execution_count": 78,
   "metadata": {},
   "outputs": [
    {
     "data": {
      "text/plain": [
       "[<matplotlib.lines.Line2D at 0x28307f40488>]"
      ]
     },
     "execution_count": 78,
     "metadata": {},
     "output_type": "execute_result"
    },
    {
     "data": {
      "image/png": "[encoded data removed]",
      "text/plain": [
       "<Figure size 432x288 with 1 Axes>"
      ]
     },
     "metadata": {
      "needs_background": "light"
     },
     "output_type": "display_data"
    }
   ],
   "source": [
    "plt.plot(np.max(recovery_rate[1052:1065], axis=1)) #ref(normal_merge)"
   ]
  },
  {
   "cell_type": "code",
   "execution_count": 59,
   "metadata": {
    "scrolled": true
   },
   "outputs": [
    {
     "data": {
      "text/plain": [
       "[<matplotlib.lines.Line2D at 0x18a92af83c8>]"
      ]
     },
     "execution_count": 59,
     "metadata": {},
     "output_type": "execute_result"
    },
    {
     "data": {
      "image/png": "[encoded data removed]",
      "text/plain": [
       "<Figure size 432x288 with 1 Axes>"
      ]
     },
     "metadata": {
      "needs_background": "light"
     },
     "output_type": "display_data"
    }
   ],
   "source": [
    "plt.plot(np.max(recovery_rate[:], axis=1)) #ref(normal_1)"
   ]
  },
  {
   "cell_type": "code",
   "execution_count": 21,
   "metadata": {
    "scrolled": false
   },
   "outputs": [
    {
     "data": {
      "text/plain": [
       "[<matplotlib.lines.Line2D at 0x207b47d0608>]"
      ]
     },
     "execution_count": 21,
     "metadata": {},
     "output_type": "execute_result"
    },
    {
     "data": {
      "image/png": "[encoded data removed]",
      "text/plain": [
       "<Figure size 432x288 with 1 Axes>"
      ]
     },
     "metadata": {
      "needs_background": "light"
     },
     "output_type": "display_data"
    }
   ],
   "source": [
    "plt.plot(np.max(recovery_rate[1050:1065], axis=1)) #ref(normal_merge)"
   ]
  },
  {
   "cell_type": "markdown",
   "metadata": {},
   "source": [
    "#### 전압 변화율이 급감하는 부분"
   ]
  },
  {
   "cell_type": "code",
   "execution_count": 22,
   "metadata": {
    "scrolled": true
   },
   "outputs": [
    {
     "data": {
      "text/plain": [
       "array([9.84, 9.65, 9.93, 9.84, 7.86, 8.07, 7.93, 7.95, 7.95, 8.06, 7.87,\n",
       "       8.01, 7.84, 8.05, 7.89])"
      ]
     },
     "execution_count": 22,
     "metadata": {},
     "output_type": "execute_result"
    }
   ],
   "source": [
    "np.max(recovery_rate[1050:1065], axis=1)"
   ]
  },
  {
   "cell_type": "code",
   "execution_count": 28,
   "metadata": {},
   "outputs": [
    {
     "data": {
      "text/plain": [
       "3"
      ]
     },
     "execution_count": 28,
     "metadata": {},
     "output_type": "execute_result"
    }
   ],
   "source": [
    "np.argmin(np.max(recovery_rate[120:125], axis=1))"
   ]
  },
  {
   "cell_type": "code",
   "execution_count": 35,
   "metadata": {},
   "outputs": [
    {
     "data": {
      "text/plain": [
       "array([8.52, 8.65, 8.56, 8.77, 8.62])"
      ]
     },
     "execution_count": 35,
     "metadata": {},
     "output_type": "execute_result"
    }
   ],
   "source": [
    "np.max(recovery_rate[120:125], axis=1)"
   ]
  },
  {
   "cell_type": "code",
   "execution_count": 49,
   "metadata": {
    "scrolled": true
   },
   "outputs": [
    {
     "data": {
      "text/plain": [
       "array([[datetime.datetime(2021, 10, 16, 0, 18, 26),\n",
       "        datetime.datetime(2021, 10, 16, 0, 18, 27)],\n",
       "       [datetime.datetime(2021, 10, 16, 0, 18, 55),\n",
       "        datetime.datetime(2021, 10, 16, 0, 18, 58)],\n",
       "       [datetime.datetime(2021, 10, 16, 0, 19, 26),\n",
       "        datetime.datetime(2021, 10, 16, 0, 19, 27)],\n",
       "       [datetime.datetime(2021, 10, 16, 0, 19, 55),\n",
       "        datetime.datetime(2021, 10, 16, 0, 19, 58)],\n",
       "       [datetime.datetime(2021, 10, 18, 9, 39, 25),\n",
       "        datetime.datetime(2021, 10, 18, 9, 39, 27)],\n",
       "       [datetime.datetime(2021, 10, 18, 9, 39, 55),\n",
       "        datetime.datetime(2021, 10, 18, 9, 39, 57)],\n",
       "       [datetime.datetime(2021, 10, 18, 9, 40, 25),\n",
       "        datetime.datetime(2021, 10, 18, 9, 40, 27)],\n",
       "       [datetime.datetime(2021, 10, 18, 9, 40, 55),\n",
       "        datetime.datetime(2021, 10, 18, 9, 40, 57)],\n",
       "       [datetime.datetime(2021, 10, 18, 9, 41, 25),\n",
       "        datetime.datetime(2021, 10, 18, 9, 41, 27)],\n",
       "       [datetime.datetime(2021, 10, 18, 9, 41, 55),\n",
       "        datetime.datetime(2021, 10, 18, 9, 41, 57)]], dtype=object)"
      ]
     },
     "execution_count": 49,
     "metadata": {},
     "output_type": "execute_result"
    }
   ],
   "source": [
    "recovery_time[1050:1060]"
   ]
  },
  {
   "cell_type": "code",
   "execution_count": 50,
   "metadata": {},
   "outputs": [
    {
     "data": {
      "text/plain": [
       "array([[3.6139, 3.5155, 3.6095],\n",
       "       [3.614 , 3.5175, 3.6099],\n",
       "       [3.614 , 3.5147, 3.6094],\n",
       "       [3.614 , 3.5156, 3.6098],\n",
       "       [3.6132, 3.5346, 3.6092],\n",
       "       [3.6132, 3.5325, 3.6088],\n",
       "       [3.6132, 3.5339, 3.6091],\n",
       "       [3.6132, 3.5337, 3.6087],\n",
       "       [3.6133, 3.5338, 3.6091],\n",
       "       [3.6132, 3.5326, 3.6088]])"
      ]
     },
     "execution_count": 50,
     "metadata": {},
     "output_type": "execute_result"
    }
   ],
   "source": [
    "recovery_volt[1050:1060]"
   ]
  },
  {
   "cell_type": "code",
   "execution_count": null,
   "metadata": {},
   "outputs": [],
   "source": [
    "recovery_time"
   ]
  },
  {
   "cell_type": "code",
   "execution_count": null,
   "metadata": {},
   "outputs": [],
   "source": []
  },
  {
   "cell_type": "markdown",
   "metadata": {},
   "source": [
    "#### 시간은 timedelt형으로 되어 있기 때문에 회복 시간을 보기 위해서는 처리가 필요"
   ]
  },
  {
   "cell_type": "code",
   "execution_count": 111,
   "metadata": {
    "scrolled": true
   },
   "outputs": [],
   "source": [
    "re_time = np.array([])\n",
    "for i in recovery_time:\n",
    "    re_time = np.append(re_time, np.array((i[1]-i[0]).seconds))"
   ]
  },
  {
   "cell_type": "code",
   "execution_count": 113,
   "metadata": {
    "scrolled": true
   },
   "outputs": [
    {
     "data": {
      "text/plain": [
       "[<matplotlib.lines.Line2D at 0x20b10dc4a08>]"
      ]
     },
     "execution_count": 113,
     "metadata": {},
     "output_type": "execute_result"
    },
    {
     "data": {
      "image/png": "[encoded data removed]",
      "text/plain": [
       "<Figure size 432x288 with 1 Axes>"
      ]
     },
     "metadata": {
      "needs_background": "light"
     },
     "output_type": "display_data"
    }
   ],
   "source": [
    "plt.plot(re_time)"
   ]
  },
  {
   "cell_type": "code",
   "execution_count": null,
   "metadata": {},
   "outputs": [],
   "source": []
  },
  {
   "cell_type": "markdown",
   "metadata": {},
   "source": [
    "#### 통신 전, 통신 중, 회복 전압 그래프"
   ]
  },
  {
   "cell_type": "code",
   "execution_count": 114,
   "metadata": {
    "scrolled": true
   },
   "outputs": [
    {
     "data": {
      "text/plain": [
       "[<matplotlib.lines.Line2D at 0x20b10e3b188>]"
      ]
     },
     "execution_count": 114,
     "metadata": {},
     "output_type": "execute_result"
    },
    {
     "data": {
      "image/png": "[encoded data removed]",
      "text/plain": [
       "<Figure size 432x288 with 1 Axes>"
      ]
     },
     "metadata": {
      "needs_background": "light"
     },
     "output_type": "display_data"
    }
   ],
   "source": [
    "plt.plot(recovery_volt[:].flatten())"
   ]
  },
  {
   "cell_type": "code",
   "execution_count": null,
   "metadata": {},
   "outputs": [],
   "source": []
  },
  {
   "cell_type": "code",
   "execution_count": null,
   "metadata": {},
   "outputs": [],
   "source": []
  }
 ],
 "metadata": {
  "kernelspec": {
   "display_name": "Python 3",
   "language": "python",
   "name": "python3"
  },
  "language_info": {
   "codemirror_mode": {
    "name": "ipython",
    "version": 3
   },
   "file_extension": ".py",
   "mimetype": "text/x-python",
   "name": "python",
   "nbconvert_exporter": "python",
   "pygments_lexer": "ipython3",
   "version": "3.7.9"
  }
 },
 "nbformat": 4,
 "nbformat_minor": 2
}
