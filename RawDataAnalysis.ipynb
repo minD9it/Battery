{
 "cells": [
  {
   "cell_type": "code",
   "execution_count": 1,
   "metadata": {},
   "outputs": [],
   "source": [
    "import numpy as np\n",
    "import pandas as pd\n",
    "import matplotlib.pyplot as plt"
   ]
  },
  {
   "cell_type": "markdown",
   "metadata": {},
   "source": [
    "### 한번만"
   ]
  },
  {
   "cell_type": "raw",
   "metadata": {},
   "source": [
    "pd.read_excel(\"data/DODI_C(-20).xlsx\").to_csv(\"data/DODI_C(-20).csv\")"
   ]
  },
  {
   "cell_type": "markdown",
   "metadata": {},
   "source": [
    "#### DODI 영하 20"
   ]
  },
  {
   "cell_type": "code",
   "execution_count": 2,
   "metadata": {
    "scrolled": true
   },
   "outputs": [
    {
     "data": {
      "text/html": [
       "<div>\n",
       "<style scoped>\n",
       "    .dataframe tbody tr th:only-of-type {\n",
       "        vertical-align: middle;\n",
       "    }\n",
       "\n",
       "    .dataframe tbody tr th {\n",
       "        vertical-align: top;\n",
       "    }\n",
       "\n",
       "    .dataframe thead th {\n",
       "        text-align: right;\n",
       "    }\n",
       "</style>\n",
       "<table border=\"1\" class=\"dataframe\">\n",
       "  <thead>\n",
       "    <tr style=\"text-align: right;\">\n",
       "      <th></th>\n",
       "      <th>idx</th>\n",
       "      <th>capability(Ah)</th>\n",
       "      <th>voltage(V)</th>\n",
       "      <th>capability(Ah).1</th>\n",
       "      <th>voltage(V).1</th>\n",
       "      <th>capability(Ah).2</th>\n",
       "      <th>voltage(V).2</th>\n",
       "      <th>capability(Ah).3</th>\n",
       "      <th>voltage(V).3</th>\n",
       "      <th>capability(Ah).4</th>\n",
       "      <th>...</th>\n",
       "      <th>capability(Ah).5</th>\n",
       "      <th>voltage(V).5</th>\n",
       "      <th>capability(Ah).6</th>\n",
       "      <th>voltage(V).6</th>\n",
       "      <th>capability(Ah).7</th>\n",
       "      <th>voltage(V).7</th>\n",
       "      <th>capability(Ah).8</th>\n",
       "      <th>voltage(V).8</th>\n",
       "      <th>capability(Ah).9</th>\n",
       "      <th>voltage(V).9</th>\n",
       "    </tr>\n",
       "  </thead>\n",
       "  <tbody>\n",
       "    <tr>\n",
       "      <th>0</th>\n",
       "      <td>0</td>\n",
       "      <td>0.00000</td>\n",
       "      <td>3.6957</td>\n",
       "      <td>0.00000</td>\n",
       "      <td>3.6866</td>\n",
       "      <td>0.00000</td>\n",
       "      <td>3.6815</td>\n",
       "      <td>0.00000</td>\n",
       "      <td>3.6854</td>\n",
       "      <td>0.00000</td>\n",
       "      <td>...</td>\n",
       "      <td>0.00000</td>\n",
       "      <td>3.6787</td>\n",
       "      <td>0.00000</td>\n",
       "      <td>3.6887</td>\n",
       "      <td>0.00000</td>\n",
       "      <td>3.6878</td>\n",
       "      <td>0.00000</td>\n",
       "      <td>3.6884</td>\n",
       "      <td>0.00000</td>\n",
       "      <td>3.7024</td>\n",
       "    </tr>\n",
       "    <tr>\n",
       "      <th>1</th>\n",
       "      <td>1</td>\n",
       "      <td>0.00248</td>\n",
       "      <td>3.5686</td>\n",
       "      <td>0.00247</td>\n",
       "      <td>3.5516</td>\n",
       "      <td>0.00246</td>\n",
       "      <td>3.5440</td>\n",
       "      <td>0.00246</td>\n",
       "      <td>3.5470</td>\n",
       "      <td>0.00246</td>\n",
       "      <td>...</td>\n",
       "      <td>0.00245</td>\n",
       "      <td>3.5313</td>\n",
       "      <td>0.00246</td>\n",
       "      <td>3.5449</td>\n",
       "      <td>0.00246</td>\n",
       "      <td>3.5473</td>\n",
       "      <td>0.00247</td>\n",
       "      <td>3.5501</td>\n",
       "      <td>0.00248</td>\n",
       "      <td>3.5680</td>\n",
       "    </tr>\n",
       "    <tr>\n",
       "      <th>2</th>\n",
       "      <td>2</td>\n",
       "      <td>0.00492</td>\n",
       "      <td>3.5228</td>\n",
       "      <td>0.00490</td>\n",
       "      <td>3.5064</td>\n",
       "      <td>0.00489</td>\n",
       "      <td>3.4976</td>\n",
       "      <td>0.00491</td>\n",
       "      <td>3.5173</td>\n",
       "      <td>0.00489</td>\n",
       "      <td>...</td>\n",
       "      <td>0.00488</td>\n",
       "      <td>3.4982</td>\n",
       "      <td>0.00490</td>\n",
       "      <td>3.5070</td>\n",
       "      <td>0.00489</td>\n",
       "      <td>3.4961</td>\n",
       "      <td>0.00490</td>\n",
       "      <td>3.5067</td>\n",
       "      <td>0.00492</td>\n",
       "      <td>3.5228</td>\n",
       "    </tr>\n",
       "    <tr>\n",
       "      <th>3</th>\n",
       "      <td>3</td>\n",
       "      <td>0.00737</td>\n",
       "      <td>3.5143</td>\n",
       "      <td>0.00733</td>\n",
       "      <td>3.4982</td>\n",
       "      <td>0.00731</td>\n",
       "      <td>3.4894</td>\n",
       "      <td>0.00735</td>\n",
       "      <td>3.5167</td>\n",
       "      <td>0.00733</td>\n",
       "      <td>...</td>\n",
       "      <td>0.00731</td>\n",
       "      <td>3.4970</td>\n",
       "      <td>0.00733</td>\n",
       "      <td>3.5015</td>\n",
       "      <td>0.00731</td>\n",
       "      <td>3.4782</td>\n",
       "      <td>0.00733</td>\n",
       "      <td>3.5009</td>\n",
       "      <td>0.00737</td>\n",
       "      <td>3.5158</td>\n",
       "    </tr>\n",
       "    <tr>\n",
       "      <th>4</th>\n",
       "      <td>4</td>\n",
       "      <td>0.00981</td>\n",
       "      <td>3.5137</td>\n",
       "      <td>0.00976</td>\n",
       "      <td>3.4979</td>\n",
       "      <td>0.00974</td>\n",
       "      <td>3.4891</td>\n",
       "      <td>0.00979</td>\n",
       "      <td>3.5173</td>\n",
       "      <td>0.00976</td>\n",
       "      <td>...</td>\n",
       "      <td>0.00974</td>\n",
       "      <td>3.4976</td>\n",
       "      <td>0.00976</td>\n",
       "      <td>3.5012</td>\n",
       "      <td>0.00972</td>\n",
       "      <td>3.4748</td>\n",
       "      <td>0.00976</td>\n",
       "      <td>3.5006</td>\n",
       "      <td>0.00981</td>\n",
       "      <td>3.5155</td>\n",
       "    </tr>\n",
       "  </tbody>\n",
       "</table>\n",
       "<p>5 rows × 21 columns</p>\n",
       "</div>"
      ],
      "text/plain": [
       "   idx  capability(Ah)  voltage(V)  capability(Ah).1  voltage(V).1  \\\n",
       "0    0         0.00000      3.6957           0.00000        3.6866   \n",
       "1    1         0.00248      3.5686           0.00247        3.5516   \n",
       "2    2         0.00492      3.5228           0.00490        3.5064   \n",
       "3    3         0.00737      3.5143           0.00733        3.4982   \n",
       "4    4         0.00981      3.5137           0.00976        3.4979   \n",
       "\n",
       "   capability(Ah).2  voltage(V).2  capability(Ah).3  voltage(V).3  \\\n",
       "0           0.00000        3.6815           0.00000        3.6854   \n",
       "1           0.00246        3.5440           0.00246        3.5470   \n",
       "2           0.00489        3.4976           0.00491        3.5173   \n",
       "3           0.00731        3.4894           0.00735        3.5167   \n",
       "4           0.00974        3.4891           0.00979        3.5173   \n",
       "\n",
       "   capability(Ah).4  ...  capability(Ah).5  voltage(V).5  capability(Ah).6  \\\n",
       "0           0.00000  ...           0.00000        3.6787           0.00000   \n",
       "1           0.00246  ...           0.00245        3.5313           0.00246   \n",
       "2           0.00489  ...           0.00488        3.4982           0.00490   \n",
       "3           0.00733  ...           0.00731        3.4970           0.00733   \n",
       "4           0.00976  ...           0.00974        3.4976           0.00976   \n",
       "\n",
       "   voltage(V).6  capability(Ah).7  voltage(V).7  capability(Ah).8  \\\n",
       "0        3.6887           0.00000        3.6878           0.00000   \n",
       "1        3.5449           0.00246        3.5473           0.00247   \n",
       "2        3.5070           0.00489        3.4961           0.00490   \n",
       "3        3.5015           0.00731        3.4782           0.00733   \n",
       "4        3.5012           0.00972        3.4748           0.00976   \n",
       "\n",
       "   voltage(V).8  capability(Ah).9  voltage(V).9  \n",
       "0        3.6884           0.00000        3.7024  \n",
       "1        3.5501           0.00248        3.5680  \n",
       "2        3.5067           0.00492        3.5228  \n",
       "3        3.5009           0.00737        3.5158  \n",
       "4        3.5006           0.00981        3.5155  \n",
       "\n",
       "[5 rows x 21 columns]"
      ]
     },
     "execution_count": 2,
     "metadata": {},
     "output_type": "execute_result"
    }
   ],
   "source": [
    "df = pd.read_csv(\"data/DODI_C(-20).csv\")\n",
    "df.head()"
   ]
  },
  {
   "cell_type": "markdown",
   "metadata": {},
   "source": [
    "### 데이터 추출 및 NaN 제거"
   ]
  },
  {
   "cell_type": "code",
   "execution_count": 3,
   "metadata": {
    "scrolled": true
   },
   "outputs": [],
   "source": [
    "data1 = df.iloc[:, 0:3]\n",
    "data1 = data1.dropna()"
   ]
  },
  {
   "cell_type": "markdown",
   "metadata": {},
   "source": [
    "### 데이터 그리기"
   ]
  },
  {
   "cell_type": "code",
   "execution_count": 4,
   "metadata": {},
   "outputs": [
    {
     "data": {
      "text/plain": [
       "<matplotlib.legend.Legend at 0x1d4ad4b5d08>"
      ]
     },
     "execution_count": 4,
     "metadata": {},
     "output_type": "execute_result"
    },
    {
     "data": {
      "image/png": "[encoded data removed]",
      "text/plain": [
       "<Figure size 432x288 with 1 Axes>"
      ]
     },
     "metadata": {
      "needs_background": "light"
     },
     "output_type": "display_data"
    }
   ],
   "source": [
    "plt.scatter(data1['idx'], data1['capability(Ah)'], c=\"r\")\n",
    "plt.scatter(data1['idx'], data1['voltage(V)'], c=\"b\")\n",
    "plt.legend([\"capability\", \"voltage\"])"
   ]
  },
  {
   "cell_type": "markdown",
   "metadata": {},
   "source": [
    "### 상온"
   ]
  },
  {
   "cell_type": "raw",
   "metadata": {},
   "source": [
    "pd.read_excel(\"data/DODI_C(25).xlsx\").to_csv(\"data/DODI_C(25).csv\")"
   ]
  },
  {
   "cell_type": "code",
   "execution_count": 5,
   "metadata": {},
   "outputs": [],
   "source": [
    "df2 = pd.read_csv(\"data/DODI_C(25).csv\")\n",
    "\n",
    "data2 = df2.iloc[:, :3]\n",
    "data2 = data2.dropna()"
   ]
  },
  {
   "cell_type": "markdown",
   "metadata": {},
   "source": [
    "### 영상 60"
   ]
  },
  {
   "cell_type": "raw",
   "metadata": {},
   "source": [
    "pd.read_excel(\"data/DODI_C(60).xlsx\").to_csv(\"data/DODI_C(60).csv\")"
   ]
  },
  {
   "cell_type": "code",
   "execution_count": 6,
   "metadata": {},
   "outputs": [],
   "source": [
    "df3 = pd.read_csv(\"data/DODI_C(60).csv\")\n",
    "\n",
    "data3 = df3.iloc[:, :3]\n",
    "data3 = data3.dropna()"
   ]
  },
  {
   "cell_type": "markdown",
   "metadata": {},
   "source": [
    "### 같은 배터리 다른 온도(DODI)"
   ]
  },
  {
   "cell_type": "code",
   "execution_count": 7,
   "metadata": {
    "scrolled": true
   },
   "outputs": [
    {
     "data": {
      "text/plain": [
       "<matplotlib.collections.PathCollection at 0x1d4afbe7948>"
      ]
     },
     "execution_count": 7,
     "metadata": {},
     "output_type": "execute_result"
    },
    {
     "data": {
      "image/png": "[encoded data removed]",
      "text/plain": [
       "<Figure size 432x288 with 1 Axes>"
      ]
     },
     "metadata": {
      "needs_background": "light"
     },
     "output_type": "display_data"
    }
   ],
   "source": [
    "#-20, black\n",
    "plt.scatter(data1['idx'], data1['capability(Ah)'], c=\"k\")\n",
    "plt.scatter(data1['idx'], data1['voltage(V)'], c=\"k\")\n",
    "\n",
    "#25, blue\n",
    "plt.scatter(data2['Unnamed: 0'], data2['capability(Ah)'], c=\"b\")\n",
    "plt.scatter(data2['Unnamed: 0'], data2['voltage(V)'], c=\"b\")\n",
    "\n",
    "#60, red\n",
    "plt.scatter(data3['Unnamed: 0'], data3['capability(Ah)'], c=\"r\")\n",
    "plt.scatter(data3['Unnamed: 0'], data3['voltage(V)'], c=\"r\")"
   ]
  },
  {
   "cell_type": "code",
   "execution_count": 10,
   "metadata": {
    "scrolled": true
   },
   "outputs": [
    {
     "data": {
      "text/plain": [
       "<matplotlib.legend.Legend at 0x1d4afec3d08>"
      ]
     },
     "execution_count": 10,
     "metadata": {},
     "output_type": "execute_result"
    },
    {
     "data": {
      "image/png": "[encoded data removed]",
      "text/plain": [
       "<Figure size 432x288 with 1 Axes>"
      ]
     },
     "metadata": {
      "needs_background": "light"
     },
     "output_type": "display_data"
    }
   ],
   "source": [
    "plt.scatter(data1['idx'], data1['capability(Ah)'], c=\"k\")\n",
    "plt.scatter(data2['Unnamed: 0'], data2['capability(Ah)'], c=\"b\")\n",
    "plt.scatter(data3['Unnamed: 0'], data3['capability(Ah)'], c=\"r\")\n",
    "\n",
    "plt.title(\"capability(DODI_C)\")\n",
    "plt.legend([\"-20\", \"25\", \"60\"])"
   ]
  },
  {
   "cell_type": "code",
   "execution_count": 11,
   "metadata": {},
   "outputs": [
    {
     "data": {
      "text/plain": [
       "<matplotlib.legend.Legend at 0x1d4aff54fc8>"
      ]
     },
     "execution_count": 11,
     "metadata": {},
     "output_type": "execute_result"
    },
    {
     "data": {
      "image/png": "[encoded data removed]",
      "text/plain": [
       "<Figure size 432x288 with 1 Axes>"
      ]
     },
     "metadata": {
      "needs_background": "light"
     },
     "output_type": "display_data"
    }
   ],
   "source": [
    "plt.scatter(data1['idx'], data1['voltage(V)'], c=\"k\")\n",
    "plt.scatter(data2['Unnamed: 0'], data2['voltage(V)'], c=\"b\")\n",
    "plt.scatter(data3['Unnamed: 0'], data3['voltage(V)'], c=\"r\")\n",
    "\n",
    "plt.title(\"voltage(DODI_C)\")\n",
    "plt.legend([\"-20\", \"25\", \"60\"])"
   ]
  },
  {
   "cell_type": "markdown",
   "metadata": {},
   "source": [
    "### 일반 배터리"
   ]
  },
  {
   "cell_type": "raw",
   "metadata": {},
   "source": [
    "pd.read_excel(\"data/normal_C(-20).xlsx\").to_csv(\"data/normal_C(-20).csv\")\n",
    "pd.read_excel(\"data/normal_C(25).xlsx\").to_csv(\"data/normal_C(25).csv\")\n",
    "pd.read_excel(\"data/normal_C(60).xlsx\").to_csv(\"data/normal_C(60).csv\")"
   ]
  },
  {
   "cell_type": "code",
   "execution_count": 13,
   "metadata": {},
   "outputs": [],
   "source": [
    "df = pd.read_csv(\"data/normal_C(-20).csv\")\n",
    "\n",
    "data1 = df.iloc[:, :3]\n",
    "data1 = data1.dropna()\n",
    "\n",
    "df2 = pd.read_csv(\"data/normal_C(25).csv\")\n",
    "\n",
    "data2 = df2.iloc[:, :3]\n",
    "data2 = data2.dropna()\n",
    "\n",
    "df3 = pd.read_csv(\"data/normal_C(60).csv\")\n",
    "\n",
    "data3 = df3.iloc[:, :3]\n",
    "data3 = data3.dropna()"
   ]
  },
  {
   "cell_type": "code",
   "execution_count": 14,
   "metadata": {
    "scrolled": true
   },
   "outputs": [
    {
     "data": {
      "text/plain": [
       "<matplotlib.collections.PathCollection at 0x1d4afc98548>"
      ]
     },
     "execution_count": 14,
     "metadata": {},
     "output_type": "execute_result"
    },
    {
     "data": {
      "image/png": "[encoded data removed]",
      "text/plain": [
       "<Figure size 432x288 with 1 Axes>"
      ]
     },
     "metadata": {
      "needs_background": "light"
     },
     "output_type": "display_data"
    }
   ],
   "source": [
    "#-20, black\n",
    "plt.scatter(data1['Unnamed: 0'], data1['capability(Ah)'], c=\"k\")\n",
    "plt.scatter(data1['Unnamed: 0'], data1['voltage(V)'], c=\"k\")\n",
    "\n",
    "#25, blue\n",
    "plt.scatter(data2['Unnamed: 0'], data2['capability(Ah)'], c=\"b\")\n",
    "plt.scatter(data2['Unnamed: 0'], data2['voltage(V)'], c=\"b\")\n",
    "\n",
    "#60, red\n",
    "plt.scatter(data3['Unnamed: 0'], data3['capability(Ah)'], c=\"r\")\n",
    "plt.scatter(data3['Unnamed: 0'], data3['voltage(V)'], c=\"r\")"
   ]
  },
  {
   "cell_type": "code",
   "execution_count": 15,
   "metadata": {},
   "outputs": [
    {
     "data": {
      "text/plain": [
       "<matplotlib.legend.Legend at 0x1d4afd033c8>"
      ]
     },
     "execution_count": 15,
     "metadata": {},
     "output_type": "execute_result"
    },
    {
     "data": {
      "image/png": "[encoded data removed]",
      "text/plain": [
       "<Figure size 432x288 with 1 Axes>"
      ]
     },
     "metadata": {
      "needs_background": "light"
     },
     "output_type": "display_data"
    }
   ],
   "source": [
    "plt.scatter(data1['Unnamed: 0'], data1['capability(Ah)'], c=\"k\")\n",
    "plt.scatter(data2['Unnamed: 0'], data2['capability(Ah)'], c=\"b\")\n",
    "plt.scatter(data3['Unnamed: 0'], data3['capability(Ah)'], c=\"r\")\n",
    "\n",
    "plt.title(\"capability(normal_C)\")\n",
    "plt.legend([\"-20\", \"25\", \"60\"])"
   ]
  },
  {
   "cell_type": "code",
   "execution_count": 16,
   "metadata": {
    "scrolled": true
   },
   "outputs": [
    {
     "data": {
      "text/plain": [
       "<matplotlib.legend.Legend at 0x1d4b11c9fc8>"
      ]
     },
     "execution_count": 16,
     "metadata": {},
     "output_type": "execute_result"
    },
    {
     "data": {
      "image/png": "[encoded data removed]",
      "text/plain": [
       "<Figure size 432x288 with 1 Axes>"
      ]
     },
     "metadata": {
      "needs_background": "light"
     },
     "output_type": "display_data"
    }
   ],
   "source": [
    "plt.scatter(data1['Unnamed: 0'], data1['voltage(V)'], c=\"k\")\n",
    "plt.scatter(data2['Unnamed: 0'], data2['voltage(V)'], c=\"b\")\n",
    "plt.scatter(data3['Unnamed: 0'], data3['voltage(V)'], c=\"r\")\n",
    "\n",
    "plt.title(\"voltage(normal_C)\")\n",
    "plt.legend([\"-20\", \"25\", \"60\"])"
   ]
  },
  {
   "cell_type": "code",
   "execution_count": null,
   "metadata": {},
   "outputs": [],
   "source": []
  },
  {
   "cell_type": "code",
   "execution_count": null,
   "metadata": {},
   "outputs": [],
   "source": []
  },
  {
   "cell_type": "markdown",
   "metadata": {},
   "source": [
    "### D_cell"
   ]
  },
  {
   "cell_type": "raw",
   "metadata": {},
   "source": [
    "pd.read_excel(\"data/normal_D(-20).xlsx\").to_csv(\"data/normal_D(-20).csv\")\n",
    "pd.read_excel(\"data/normal_D(25).xlsx\").to_csv(\"data/normal_D(25).csv\")\n",
    "pd.read_excel(\"data/normal_D(60).xlsx\").to_csv(\"data/normal_D(60).csv\")"
   ]
  },
  {
   "cell_type": "code",
   "execution_count": 3,
   "metadata": {},
   "outputs": [],
   "source": [
    "df = pd.read_csv(\"data/normal_D(-20).csv\")\n",
    "\n",
    "data1 = df.iloc[:, :3]\n",
    "data1 = data1.dropna()\n",
    "\n",
    "df2 = pd.read_csv(\"data/normal_D(25).csv\")\n",
    "\n",
    "data2 = df2.iloc[:, :3]\n",
    "data2 = data2.dropna()\n",
    "\n",
    "df3 = pd.read_csv(\"data/normal_D(60).csv\")\n",
    "\n",
    "data3 = df3.iloc[:, :3]\n",
    "data3 = data3.dropna()"
   ]
  },
  {
   "cell_type": "code",
   "execution_count": 4,
   "metadata": {
    "scrolled": true
   },
   "outputs": [
    {
     "data": {
      "text/plain": [
       "<matplotlib.legend.Legend at 0x167b1ad4188>"
      ]
     },
     "execution_count": 4,
     "metadata": {},
     "output_type": "execute_result"
    },
    {
     "data": {
      "image/png": "[encoded data removed]",
      "text/plain": [
       "<Figure size 432x288 with 1 Axes>"
      ]
     },
     "metadata": {
      "needs_background": "light"
     },
     "output_type": "display_data"
    }
   ],
   "source": [
    "plt.scatter(data1['Unnamed: 0'], data1['capability(Ah)'], c=\"k\")\n",
    "plt.scatter(data2['Unnamed: 0'], data2['capability(Ah)'], c=\"b\")\n",
    "plt.scatter(data3['Unnamed: 0'], data3['capability(Ah)'], c=\"r\")\n",
    "\n",
    "plt.title(\"capability(normal_D)\")\n",
    "plt.legend([\"-20\", \"25\", \"60\"])"
   ]
  },
  {
   "cell_type": "code",
   "execution_count": 5,
   "metadata": {
    "scrolled": false
   },
   "outputs": [
    {
     "data": {
      "text/plain": [
       "<matplotlib.legend.Legend at 0x167b1b3d588>"
      ]
     },
     "execution_count": 5,
     "metadata": {},
     "output_type": "execute_result"
    },
    {
     "data": {
      "image/png": "[encoded data removed]",
      "text/plain": [
       "<Figure size 432x288 with 1 Axes>"
      ]
     },
     "metadata": {
      "needs_background": "light"
     },
     "output_type": "display_data"
    }
   ],
   "source": [
    "plt.scatter(data1['Unnamed: 0'], data1['voltage(V)'], c=\"k\")\n",
    "plt.scatter(data2['Unnamed: 0'], data2['voltage(V)'], c=\"b\")\n",
    "plt.scatter(data3['Unnamed: 0'], data3['voltage(V)'], c=\"r\")\n",
    "\n",
    "plt.title(\"voltage(normal_D)\")\n",
    "plt.legend([\"-20\", \"25\", \"60\"])"
   ]
  },
  {
   "cell_type": "code",
   "execution_count": null,
   "metadata": {},
   "outputs": [],
   "source": []
  },
  {
   "cell_type": "code",
   "execution_count": null,
   "metadata": {},
   "outputs": [],
   "source": []
  },
  {
   "cell_type": "code",
   "execution_count": 6,
   "metadata": {},
   "outputs": [],
   "source": [
    "pd.read_excel(\"data/DODI_D(-20).xlsx\").to_csv(\"data/DODI_D(-20).csv\")\n",
    "pd.read_excel(\"data/DODI_D(25).xlsx\").to_csv(\"data/DODI_D(25).csv\")\n",
    "pd.read_excel(\"data/DODI_D(60).xlsx\").to_csv(\"data/DODI_D(60).csv\")"
   ]
  },
  {
   "cell_type": "code",
   "execution_count": 8,
   "metadata": {},
   "outputs": [],
   "source": [
    "df = pd.read_csv(\"data/DODI_D(-20).csv\")\n",
    "\n",
    "data1 = df.iloc[:, :3]\n",
    "data1 = data1.dropna()\n",
    "\n",
    "df2 = pd.read_csv(\"data/DODI_D(25).csv\")\n",
    "\n",
    "data2 = df2.iloc[:, :3]\n",
    "data2 = data2.dropna()\n",
    "\n",
    "df3 = pd.read_csv(\"data/DODI_D(60).csv\")\n",
    "\n",
    "data3 = df3.iloc[:, :3]\n",
    "data3 = data3.dropna()"
   ]
  },
  {
   "cell_type": "code",
   "execution_count": 11,
   "metadata": {
    "scrolled": false
   },
   "outputs": [
    {
     "data": {
      "text/plain": [
       "<matplotlib.legend.Legend at 0x167b1d152c8>"
      ]
     },
     "execution_count": 11,
     "metadata": {},
     "output_type": "execute_result"
    },
    {
     "data": {
      "image/png": "[encoded data removed]",
      "text/plain": [
       "<Figure size 432x288 with 1 Axes>"
      ]
     },
     "metadata": {
      "needs_background": "light"
     },
     "output_type": "display_data"
    }
   ],
   "source": [
    "plt.scatter(data1['Unnamed: 0'], data1['capability(Ah)'], c=\"k\")\n",
    "plt.scatter(data2['Unnamed: 0'], data2['capability(Ah)'], c=\"b\")\n",
    "plt.scatter(data3['Unnamed: 0'], data3['capability(Ah)'], c=\"r\")\n",
    "\n",
    "plt.title(\"capability(DODI_D)\")\n",
    "plt.legend([\"-20\", \"25\", \"60\"])"
   ]
  },
  {
   "cell_type": "code",
   "execution_count": 12,
   "metadata": {
    "scrolled": false
   },
   "outputs": [
    {
     "data": {
      "text/plain": [
       "<matplotlib.legend.Legend at 0x167b23c0b08>"
      ]
     },
     "execution_count": 12,
     "metadata": {},
     "output_type": "execute_result"
    },
    {
     "data": {
      "image/png": "[encoded data removed]",
      "text/plain": [
       "<Figure size 432x288 with 1 Axes>"
      ]
     },
     "metadata": {
      "needs_background": "light"
     },
     "output_type": "display_data"
    }
   ],
   "source": [
    "plt.scatter(data1['Unnamed: 0'], data1['voltage(V)'], c=\"k\")\n",
    "plt.scatter(data2['Unnamed: 0'], data2['voltage(V)'], c=\"b\")\n",
    "plt.scatter(data3['Unnamed: 0'], data3['voltage(V)'], c=\"r\")\n",
    "\n",
    "plt.title(\"voltage(DODI_D)\")\n",
    "plt.legend([\"-20\", \"25\", \"60\"])"
   ]
  },
  {
   "cell_type": "code",
   "execution_count": null,
   "metadata": {},
   "outputs": [],
   "source": []
  }
 ],
 "metadata": {
  "kernelspec": {
   "display_name": "Python 3",
   "language": "python",
   "name": "python3"
  },
  "language_info": {
   "codemirror_mode": {
    "name": "ipython",
    "version": 3
   },
   "file_extension": ".py",
   "mimetype": "text/x-python",
   "name": "python",
   "nbconvert_exporter": "python",
   "pygments_lexer": "ipython3",
   "version": "3.7.9"
  }
 },
 "nbformat": 4,
 "nbformat_minor": 4
}
